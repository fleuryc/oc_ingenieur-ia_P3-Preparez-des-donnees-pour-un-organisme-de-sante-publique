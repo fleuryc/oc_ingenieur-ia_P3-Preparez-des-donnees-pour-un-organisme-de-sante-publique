{
 "cells": [
  {
   "cell_type": "markdown",
   "metadata": {},
   "source": [
    "_See [Readme](https://github.com/fleuryc/oc_ingenieur-ia_P2-Participez-a-un-concours-sur-la-Smart-City#readme) for installation instructions_\n",
    "\n",
    "---\n"
   ]
  },
  {
   "cell_type": "code",
   "execution_count": null,
   "metadata": {
    "id": "d6fgKy6soGU0"
   },
   "outputs": [],
   "source": [
    "# Import libraries\n",
    "import os.path \n",
    "from io import BytesIO\n",
    "from urllib.request import urlopen\n",
    "from zipfile import ZipFile\n",
    "\n",
    "import numpy as np\n",
    "import pandas as pd\n",
    "import matplotlib.pyplot as plt\n",
    "import seaborn as sns\n",
    "import plotly.express as px\n",
    "import plotly.graph_objects as go\n",
    "from plotly.subplots import make_subplots\n",
    "\n",
    "## If you use Notebook (and not JupyterLab), uncomment following lines\n",
    "# import plotly.io as pio\n",
    "# pio.renderers.default='notebook'\n"
   ]
  },
  {
   "cell_type": "code",
   "execution_count": null,
   "metadata": {},
   "outputs": [],
   "source": [
    "# download ZIP and extract CSV\n",
    "data_local_path = 'data/'\n",
    "csv_filename = 'fr.openfoodfacts.org.products.csv'\n",
    "csv_local_path = data_local_path+csv_filename\n",
    "\n",
    "if not os.path.isfile(csv_local_path):\n",
    "    zip_filename = csv_filename+'.zip'\n",
    "    zip_url = 'https://s3-eu-west-1.amazonaws.com/static.oc-static.com/prod/courses/files/parcours-data-scientist/P2/'+zip_filename\n",
    "    zip_local_path = data_local_path+zip_filename\n",
    "\n",
    "    with urlopen(zip_url) as zip_resp:\n",
    "        with ZipFile(BytesIO(zip_resp.read())) as zip_file:\n",
    "            zip_file.extractall(data_local_path)\n"
   ]
  },
  {
   "cell_type": "code",
   "execution_count": null,
   "metadata": {},
   "outputs": [],
   "source": [
    "# Deal with irregularities : \n",
    "# 23 data points are wrongly split into two lines : \n",
    "# - lines : 189070, 189105, 189111, 189121, 189154, 189162, 189164, 189170, 189244, 189246, \n",
    "#           189250, 189252, 189262, 189264, 189271, 189274, 189347, 189364, 189366, 189381, \n",
    "#           189406, 189408, 189419\n",
    "# \n",
    "# The pattern is always the same : \n",
    "# - a NewLine character (`\\n`) is placed at the end of column \"first_packaging_code_geo\" \n",
    "# - and the next line starts with a TAB separator (`\\t`) : column \"cities\" is empty.\n",
    "# \n",
    "# Since the first column (\"code\") is never empty, we just remove any `\\n` character that is \n",
    "# directly followed by a TAB separator (`\\t`).\n",
    "\n",
    "clean_filename = 'fr.openfoodfacts.org.products-clean.csv'\n",
    "clean_local_path = data_local_path+clean_filename\n",
    "\n",
    "if not os.path.isfile(clean_local_path):\n",
    "    with open(csv_local_path, 'r') as csv_file, open(clean_local_path, 'w') as clean_file:\n",
    "        data = csv_file.read()\n",
    "        clean_file.write(data.replace('\\n\\t', '\\t'))\n"
   ]
  },
  {
   "cell_type": "code",
   "execution_count": null,
   "metadata": {},
   "outputs": [],
   "source": [
    "# Read column names\n",
    "column_names = pd.read_csv(clean_local_path, sep='\\t', encoding='utf-8', nrows=0).columns.values\n",
    "\n",
    "# Set column types according to fields description (https://static.openfoodfacts.org/data/data-fields.txt)\n",
    "column_types = {col: 'Int64' for (col) in column_names if col.endswith(('_t', '_n'))}\n",
    "column_types |= {col: float for (col) in column_names if col.endswith(('_100g', '_serving'))}\n",
    "column_types |= {col: str for (col) in column_names if not col.endswith(('_t', '_n', '_100g', '_serving'))}\n",
    "\n",
    "# Load raw data\n",
    "raw_data = pd.read_csv(clean_local_path, sep='\\t', encoding='utf-8',\n",
    "     dtype=column_types,\n",
    "     parse_dates=[col for (col) in column_names if col.endswith(('_datetime'))],\n",
    "     infer_datetime_format=True,\n",
    "     converters={\n",
    "         \n",
    "     }\n",
    ")\n",
    "\n",
    "# Display DataFrame size\n",
    "raw_data.info()\n"
   ]
  },
  {
   "cell_type": "code",
   "execution_count": null,
   "metadata": {},
   "outputs": [],
   "source": [
    "# Let's visualize columns emptiness\n",
    "num_rows = len(raw_data.index)\n",
    "columns_emptiness = pd.DataFrame({\n",
    "    col : { \n",
    "        'count': raw_data[col].isna().sum(),\n",
    "        'percent': 100 * raw_data[col].isna().sum() / num_rows,\n",
    "    } for col in raw_data.columns\n",
    "}).transpose().sort_values(by=['count'])\n",
    "\n",
    "fig = px.bar(columns_emptiness,\n",
    "    color='percent',\n",
    "    y='percent',\n",
    "    labels={\n",
    "        'index':'column name',\n",
    "        'percent':'% of empty values',\n",
    "        'count':'# of empty values',\n",
    "    },\n",
    "    hover_data=['count'],\n",
    "    title='Empty values per column',\n",
    "    width=1200,\n",
    "    height=800,\n",
    ")\n",
    "fig.show()\n"
   ]
  },
  {
   "cell_type": "code",
   "execution_count": null,
   "metadata": {},
   "outputs": [],
   "source": [
    "# Let's keep only meaningful columns\n",
    "meaningful_columns = ['product_name',\n",
    "    'brands_tags', 'countries_tags',\n",
    "    'additives_n', \n",
    "    'nutrition_grade_fr', 'nutrition-score-fr_100g',\n",
    "    'energy_100g', 'saturated-fat_100g', 'sugars_100g', 'salt_100g', 'sodium_100g',\n",
    "    'fiber_100g', 'proteins_100g',\n",
    "]\n",
    "meaningful_data = raw_data[meaningful_columns]\n",
    "\n",
    "# Display DataFrame size\n",
    "meaningful_data.info()\n",
    "\n",
    "# Display statistical summary of each column\n",
    "meaningful_data.describe(include=\"all\")\n"
   ]
  },
  {
   "cell_type": "code",
   "execution_count": null,
   "metadata": {},
   "outputs": [],
   "source": [
    "# @TODO : supprimer les outliers"
   ]
  },
  {
   "cell_type": "code",
   "execution_count": null,
   "metadata": {},
   "outputs": [],
   "source": [
    "fig, axes = plt.subplots(4, 2, figsize=(16,40))\n",
    "\n",
    "sns.boxplot(data=meaningful_data,\n",
    "    x=\"nutrition_grade_fr\", \n",
    "    y=\"nutrition-score-fr_100g\",\n",
    "    order=['a', 'b', 'c', 'd', 'e'],\n",
    "    ax=axes[0,0],\n",
    ")\n",
    "\n",
    "sns.boxplot(data=meaningful_data,\n",
    "    x=\"nutrition_grade_fr\", \n",
    "    y=\"additives_n\",\n",
    "    order=['a', 'b', 'c', 'd', 'e'],\n",
    "    ax=axes[0,1],\n",
    ")\n",
    "\n",
    "sns.boxplot(data=meaningful_data,\n",
    "    x=\"nutrition_grade_fr\", \n",
    "    y=\"energy_100g\",\n",
    "    order=['a', 'b', 'c', 'd', 'e'],\n",
    "    ax=axes[1,0],\n",
    ")\n",
    "\n",
    "sns.boxplot(data=meaningful_data,\n",
    "    x=\"nutrition_grade_fr\", \n",
    "    y=\"saturated-fat_100g\",\n",
    "    order=['a', 'b', 'c', 'd', 'e'],\n",
    "    ax=axes[1,1],\n",
    ")\n",
    "\n",
    "sns.boxplot(data=meaningful_data,\n",
    "    x=\"nutrition_grade_fr\", \n",
    "    y=\"sugars_100g\",\n",
    "    order=['a', 'b', 'c', 'd', 'e'],\n",
    "    ax=axes[2,0],\n",
    ")\n",
    "\n",
    "sns.boxplot(data=meaningful_data,\n",
    "    x=\"nutrition_grade_fr\", \n",
    "    y=\"salt_100g\",\n",
    "    order=['a', 'b', 'c', 'd', 'e'],\n",
    "    ax=axes[2,1],\n",
    ")\n",
    "\n",
    "sns.boxplot(data=meaningful_data,\n",
    "    x=\"nutrition_grade_fr\", \n",
    "    y=\"fiber_100g\",\n",
    "    order=['a', 'b', 'c', 'd', 'e'],\n",
    "    ax=axes[3,0],\n",
    ")\n",
    "\n",
    "sns.boxplot(data=meaningful_data,\n",
    "    x=\"nutrition_grade_fr\", \n",
    "    y=\"proteins_100g\",\n",
    "    order=['a', 'b', 'c', 'd', 'e'],\n",
    "    ax=axes[3,1],\n",
    ")\n"
   ]
  },
  {
   "cell_type": "code",
   "execution_count": null,
   "metadata": {},
   "outputs": [],
   "source": [
    "sns.pairplot(data=meaningful_data[['nutrition_grade_fr', 'nutrition-score-fr_100g', 'energy_100g']], \n",
    "    hue=\"nutrition_grade_fr\",\n",
    "    hue_order=['a', 'b', 'c', 'd', 'e'],\n",
    ")\n"
   ]
  },
  {
   "cell_type": "code",
   "execution_count": null,
   "metadata": {},
   "outputs": [],
   "source": [
    "\n",
    "sns.jointplot(data=meaningful_data,\n",
    "    x=\"nutrition-score-fr_100g\", \n",
    "    y=\"energy_100g\", \n",
    "    hue=\"nutrition_grade_fr\",\n",
    "    hue_order=['a', 'b', 'c', 'd', 'e'],\n",
    "    ax=axes[0,0],\n",
    ")\n",
    "\n",
    "sns.jointplot(data=meaningful_data,\n",
    "    x=\"nutrition-score-fr_100g\", \n",
    "    y=\"saturated-fat_100g\", \n",
    "    hue=\"nutrition_grade_fr\",\n",
    "    hue_order=['a', 'b', 'c', 'd', 'e'],\n",
    "    ax=axes[0,1],\n",
    ")\n",
    "\n",
    "sns.jointplot(data=meaningful_data,\n",
    "    x=\"nutrition-score-fr_100g\", \n",
    "    y=\"sugars_100g\", \n",
    "    hue=\"nutrition_grade_fr\",\n",
    "    hue_order=['a', 'b', 'c', 'd', 'e'],\n",
    "    ax=axes[1,0],\n",
    ")\n",
    "\n",
    "sns.jointplot(data=meaningful_data,\n",
    "    x=\"nutrition-score-fr_100g\", \n",
    "    y=\"salt_100g\", \n",
    "    hue=\"nutrition_grade_fr\",\n",
    "    hue_order=['a', 'b', 'c', 'd', 'e'],\n",
    "    ax=axes[1,1],\n",
    ")\n",
    "\n",
    "sns.jointplot(data=meaningful_data,\n",
    "    x=\"nutrition-score-fr_100g\", \n",
    "    y=\"fiber_100g\", \n",
    "    hue=\"nutrition_grade_fr\",\n",
    "    hue_order=['a', 'b', 'c', 'd', 'e'],\n",
    "    ax=axes[2,0],\n",
    ")\n",
    "\n",
    "sns.jointplot(data=meaningful_data,\n",
    "    x=\"nutrition-score-fr_100g\", \n",
    "    y=\"proteins_100g\", \n",
    "    hue=\"nutrition_grade_fr\",\n",
    "    hue_order=['a', 'b', 'c', 'd', 'e'],\n",
    "    ax=axes[2,1],\n",
    ")\n"
   ]
  },
  {
   "cell_type": "code",
   "execution_count": null,
   "metadata": {},
   "outputs": [],
   "source": [
    "\n",
    "clean_data = raw_data.drop_duplicates()\n",
    "\n",
    "# Display data types and empty values\n",
    "clean_data.info()\n",
    "\n",
    "clean_data.dropna(\n",
    "        axis='columns',\n",
    "        thresh=.1 * num_rows,\n",
    "        inplace=True,\n",
    "    )\n",
    "\n",
    "# Display data types and empty values\n",
    "clean_data.info()\n",
    "\n",
    "num_cols = len(clean_data.columns)\n",
    "clean_data.dropna(\n",
    "        axis='index',\n",
    "        thresh=.1 * num_cols,\n",
    "        inplace=True,\n",
    "    )\n",
    "\n",
    "# Display data types and empty values\n",
    "clean_data.info()\n",
    "\n",
    "clean_data.drop_duplicates(inplace=True,)\n",
    "\n",
    "# Display data types and empty values\n",
    "clean_data.info()\n",
    "\n",
    "# Display statistical summary of each column\n",
    "clean_data.describe(include=\"all\")\n"
   ]
  },
  {
   "cell_type": "code",
   "execution_count": null,
   "metadata": {},
   "outputs": [],
   "source": [
    "\n",
    "fig = px.imshow(clean_data.isna(),\n",
    ")\n",
    "fig.show()\n"
   ]
  },
  {
   "cell_type": "code",
   "execution_count": null,
   "metadata": {},
   "outputs": [],
   "source": [
    "\n",
    "meaningful_columns = ['product_name',\n",
    "    'packaging_tags', 'brands_tags', 'manufacturing_places_tags', 'countries_tags',\n",
    "    'main_category', 'categories_tags', \n",
    "    'labels_tags', 'additives_n', 'additives_tags', \n",
    "    'nutrition_grade_fr', 'nutrition-score-fr_100g',\n",
    "    'energy_100g', 'saturated-fat_100g', 'sugars_100g', 'salt_100g', 'sodium_100g',\n",
    "    'fiber_100g', 'proteins_100g',\n",
    "]\n"
   ]
  },
  {
   "cell_type": "code",
   "execution_count": null,
   "metadata": {},
   "outputs": [],
   "source": [
    "\n",
    "# display value frequencies per column\n",
    "for col in clean_data.columns:\n",
    "    print(f'\\n \\\n",
    "================================================\\n \\\n",
    ">    { col }\\n \\\n",
    "------------------------------------------------')\n",
    "    display(clean_data[col].value_counts(dropna=False))\n"
   ]
  },
  {
   "cell_type": "code",
   "execution_count": null,
   "metadata": {},
   "outputs": [],
   "source": [
    "\n",
    "raw_data = pd.read_csv(csv_local_path, \n",
    "    sep='\\t',\n",
    "    usecols=['product_name',\n",
    "        'packaging_tags', 'brands_tags', 'manufacturing_places_tags', 'countries_tags',\n",
    "        'main_category', 'categories_tags', \n",
    "        'labels_tags', 'additives_n', 'additives_tags', \n",
    "        'nutrition_grade_fr', 'nutrition-score-fr_100g',\n",
    "        'energy_100g', 'saturated-fat_100g', 'sugars_100g', 'salt_100g', 'sodium_100g',\n",
    "        'fruits-vegetables-nuts_100g', 'fiber_100g', 'proteins_100g',\n",
    "    ])\n",
    "\n",
    "# display first 5 rows\n",
    "raw_data.head()\n"
   ]
  },
  {
   "cell_type": "markdown",
   "metadata": {},
   "source": [
    "## Effectuer des opérations de nettoyage sur des données structurées\n",
    "\n"
   ]
  },
  {
   "cell_type": "code",
   "execution_count": null,
   "metadata": {},
   "outputs": [],
   "source": [
    "# ❒ les éventuelles valeurs manquantes de chaque colonnes ont été identifiées, quantifiées et traitées\n",
    "\n"
   ]
  },
  {
   "cell_type": "code",
   "execution_count": null,
   "metadata": {},
   "outputs": [],
   "source": [
    "# ❒ les lignes dupliquées ont été identifiées, quantifiées et traitées\n",
    "\n"
   ]
  },
  {
   "cell_type": "code",
   "execution_count": null,
   "metadata": {},
   "outputs": [],
   "source": [
    "# ❒ au moins une fonction a été écrite, testée et utilisée pour nettoyer le jeu de données\n",
    "\n"
   ]
  },
  {
   "cell_type": "code",
   "execution_count": null,
   "metadata": {},
   "outputs": [],
   "source": [
    "# ❒ une méthodologie de traitement des valeurs manquantes pour chaque colonne est justifiée et mise en oeuvre (ex : remplacer les valeurs manquantes d’une colonne par la valeur moyenne de la colonne)\n",
    "\n"
   ]
  },
  {
   "cell_type": "code",
   "execution_count": null,
   "metadata": {},
   "outputs": [],
   "source": [
    "# ❒ une méthodologie de traitement des lignes dupliquées est justifiée et mise en oeuvre (ex : les lignes doublons ont été supprimés)  \n",
    "\n"
   ]
  },
  {
   "cell_type": "code",
   "execution_count": null,
   "metadata": {},
   "outputs": [],
   "source": [
    "# ❒ les fonctionnalités d’édition de cellule Markdown du Jupyter Notebook sont utilisées dans au moins trois cellules pour décrire les choix méthodologiques et rendre lisible le document (titres, mise en forme, alternance de cellule d’exécution de code Python et de cellule de texte explicatif) \n",
    "\n"
   ]
  },
  {
   "cell_type": "code",
   "execution_count": null,
   "metadata": {},
   "outputs": [],
   "source": [
    "# ❒ la démarche de nettoyage des données est visible dans la structure du document (découpage du document en partie avec des titres clairs et mis en évidence, des commentaires à l’intérieur des parties pour expliciter la démarche, …)\n",
    "\n"
   ]
  },
  {
   "cell_type": "markdown",
   "metadata": {},
   "source": [
    "## Effectuer une analyse statistique multivariée\n",
    "\n"
   ]
  },
  {
   "cell_type": "code",
   "execution_count": null,
   "metadata": {},
   "outputs": [],
   "source": [
    "# ❒ au moins une méthode d’analyse descriptive est appliquée sur le jeu de données (ex : ACP)\n",
    "\n"
   ]
  },
  {
   "cell_type": "code",
   "execution_count": null,
   "metadata": {},
   "outputs": [],
   "source": [
    "# ❒ au moins une méthode d’analyse explicative est appliquée sur le jeu de données (ex : ANOVA)\n",
    "\n"
   ]
  },
  {
   "cell_type": "code",
   "execution_count": null,
   "metadata": {},
   "outputs": [],
   "source": [
    "# ❒ au moins une fonction a été écrite, testée et utilisée pour effectuer une analyse statistique multivariée\n",
    "\n"
   ]
  },
  {
   "cell_type": "code",
   "execution_count": null,
   "metadata": {},
   "outputs": [],
   "source": [
    "# ❒ la méthode d’analyse descriptive appliquée sur le jeu de données est expliquée et justifiée\n",
    "\n"
   ]
  },
  {
   "cell_type": "code",
   "execution_count": null,
   "metadata": {},
   "outputs": [],
   "source": [
    "# ❒ la méthode d’analyse explicative appliquée sur le jeu de données est expliquée et justifiée\n",
    "\n"
   ]
  },
  {
   "cell_type": "markdown",
   "metadata": {},
   "source": [
    "## Communiquer ses résultats à l’aide de représentations graphiques lisibles et pertinentes\n",
    "\n"
   ]
  },
  {
   "cell_type": "code",
   "execution_count": null,
   "metadata": {},
   "outputs": [],
   "source": [
    "# ❒ au moins trois types différents de graphiques ont été utilisés (ex : histogramme, boîte à moustache, nuage de points)\n",
    "\n"
   ]
  },
  {
   "cell_type": "code",
   "execution_count": null,
   "metadata": {},
   "outputs": [],
   "source": [
    "# ❒ la justification des types de graphiques utilisés est explicitée dans le Jupyter Notebook.\n",
    "\n"
   ]
  },
  {
   "cell_type": "code",
   "execution_count": null,
   "metadata": {},
   "outputs": [],
   "source": [
    "# ❒ au moins une fonction a été écrite, testée et utilisée pour effectuer une représentation graphique\n",
    "\n"
   ]
  },
  {
   "cell_type": "code",
   "execution_count": null,
   "metadata": {},
   "outputs": [],
   "source": [
    "# ❒ les titres, valeurs des axes des abscisses et des ordonnées et légendes sont explicites\n",
    "\n"
   ]
  },
  {
   "cell_type": "code",
   "execution_count": null,
   "metadata": {},
   "outputs": [],
   "source": [
    "# ❒ au moins un graphique interactif est utilisé pour illustrer une analyse lors de la présentation.\n",
    "\n"
   ]
  },
  {
   "cell_type": "code",
   "execution_count": null,
   "metadata": {},
   "outputs": [],
   "source": [
    "# ❒ les titres, valeurs des axes des abscisses et des ordonnées et légendes sont affichés de manière lisible\n",
    "\n"
   ]
  },
  {
   "cell_type": "markdown",
   "metadata": {},
   "source": [
    "---\n",
    "\n",
    "_[Licence GPL-v3](https://github.com/fleuryc/oc_ingenieur-ia_P2-Participez-a-un-concours-sur-la-Smart-City/blob/main/LICENSE)_\n"
   ]
  }
 ],
 "metadata": {
  "colab": {
   "include_colab_link": true,
   "name": "main.ipynb",
   "provenance": []
  },
  "interpreter": {
   "hash": "a9cd86936e2ed79c88e354605985c1d2e1f30b04e4ab0c2ca683da4978857858"
  },
  "kernelspec": {
   "display_name": "Python 3.9.5 64-bit (conda)",
   "name": "python3"
  },
  "language_info": {
   "codemirror_mode": {
    "name": "ipython",
    "version": 3
   },
   "file_extension": ".py",
   "mimetype": "text/x-python",
   "name": "python",
   "nbconvert_exporter": "python",
   "pygments_lexer": "ipython3",
   "version": "3.9.5"
  },
  "metadata": {
   "interpreter": {
    "hash": "c90de28d937fea21fa0e8c0b21949a1a37ba0cff78a53465482821b458660fc2"
   }
  }
 },
 "nbformat": 4,
 "nbformat_minor": 4
}