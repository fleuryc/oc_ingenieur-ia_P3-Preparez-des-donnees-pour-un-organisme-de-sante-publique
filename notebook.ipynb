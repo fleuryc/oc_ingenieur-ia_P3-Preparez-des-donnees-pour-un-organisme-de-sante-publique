{
 "cells": [
  {
   "cell_type": "markdown",
   "metadata": {},
   "source": [
    "_See [Readme](https://github.com/fleuryc/oc_ingenieur-ia_P2-Participez-a-un-concours-sur-la-Smart-City#readme) for installation instructions_\n",
    "\n",
    "---\n"
   ]
  },
  {
   "cell_type": "markdown",
   "metadata": {
    "id": "UzWluS1-oGUv"
   },
   "source": [
    "# Concours Data is for Good : aidons Paris à devenir une smart-city !\n",
    "\n",
    "## Contexte\n",
    "\n",
    "Dans le cadre du programme \"Végétalisons la ville\" organisé par la ville de Paris, nous proposons ici une analyse exploratoire des données OpenData concernant les arbres gérés par la ville de Paris.\n",
    "\n",
    "L'objectif est d'aider Paris à devenir une \"Smart-City\" en gérant ses arbres de la manière la plus responsable possible. C'est-à-dire en optimisant les trajets nécessaires pour entretenir ces arbres.\n"
   ]
  },
  {
   "cell_type": "markdown",
   "metadata": {
    "id": "yBTTD_CeoGUz"
   },
   "source": [
    "## Outils utilisés\n",
    "\n",
    "Nous allons utiliser le langage Python, et présenter ici le code, les résultats et l'analyse sous forme de [Notebook Jupyter](https://jupyterlab.readthedocs.io/en/stable/getting_started/overview.html).\n",
    "\n",
    "Nous allons aussi utiliser les bibliothèques usuelles d'exploration et analyse de données, afin d'améliorer la simplicité et la performance de notre code :\n",
    "* [NumPy](https://numpy.org/doc/stable/user/quickstart.html) et [Pandas](https://pandas.pydata.org/docs/user_guide/index.html) : effectuer des calculs scientifiques (statistiques, algèbre, ...) et manipuler des séries et tableaux de données volumineuses et complexes\n",
    "* [Matplotlib](https://matplotlib.org/stable/tutorials/introductory/usage.html), [Pyplot](https://matplotlib.org/stable/tutorials/introductory/pyplot.html), [Seaborn](https://seaborn.pydata.org/tutorial/function_overview.html) et [Plotly](https://plotly.com/python/getting-started/) : générer des graphiques lisibles, intéractifs et pertinents\n"
   ]
  },
  {
   "cell_type": "code",
   "execution_count": 27,
   "metadata": {
    "id": "d6fgKy6soGU0"
   },
   "outputs": [],
   "source": [
    "# Import libraries\n",
    "from zipfile import ZipFile\n",
    "import requests\n",
    "\n",
    "import numpy as np\n",
    "import pandas as pd\n",
    "import matplotlib.pyplot as plt\n",
    "import seaborn as sns\n",
    "import plotly.express as px\n",
    "import plotly.graph_objects as go\n",
    "from plotly.subplots import make_subplots\n",
    "\n",
    "## If you use Notebook (and not JupyterLab), uncomment following lines\n",
    "# import plotly.io as pio\n",
    "# pio.renderers.default='notebook'\n"
   ]
  },
  {
   "cell_type": "markdown",
   "metadata": {
    "id": "-ELpBWaboGU1"
   },
   "source": [
    "## Chargement des données et premier aperçu\n",
    "\n",
    "Les données mises à disposition sont issues de  [opendata.paris.fr](https://opendata.paris.fr/explore/dataset/les-arbres/information/) et représentent \"l’ensemble des arbres, ainsi que les arbres d’alignement, présents sur le territoire parisien et des cimetières extra-muros (hors de Paris).\"\n",
    "\n",
    "\n",
    "\n",
    "Nous allons dans un premier temps simplement charger les données en mémoire et observer quelques valeurs."
   ]
  },
  {
   "cell_type": "code",
   "execution_count": 33,
   "metadata": {},
   "outputs": [],
   "source": [
    "\n",
    "csv_filename = 'fr.openfoodfacts.org.products.csv'\n",
    "zip_filename = csv_filename+'.zip'\n",
    "zip_url = 'https://s3-eu-west-1.amazonaws.com/static.oc-static.com/prod/courses/files/parcours-data-scientist/P2/'+zip_filename\n",
    "\n",
    "data_local_path = 'data/'\n",
    "zip_local_path = data_local_path+zip_filename\n",
    "csv_local_path = data_local_path+csv_filename\n",
    "\n",
    "r = requests.get(zip_url)\n",
    "with open(zip_local_path, 'wb') as f:\n",
    "    f.write(r.content)\n",
    "\n",
    "with ZipFile(zip_local_path, 'r') as zip_file:\n",
    "    zip_file.extractall(data_local_path)\n"
   ]
  },
  {
   "cell_type": "code",
   "execution_count": 42,
   "metadata": {},
   "outputs": [
    {
     "output_type": "error",
     "ename": "TypeError",
     "evalue": "the dtype datetime64[ns] is not supported for parsing, pass this column using parse_dates instead",
     "traceback": [
      "\u001b[0;31m---------------------------------------------------------------------------\u001b[0m",
      "\u001b[0;31mTypeError\u001b[0m                                 Traceback (most recent call last)",
      "\u001b[0;32m<ipython-input-42-9beea64b34ce>\u001b[0m in \u001b[0;36m<module>\u001b[0;34m\u001b[0m\n\u001b[0;32m----> 1\u001b[0;31m raw_data = pd.read_csv(csv_local_path, sep='\\t', dtype={\n\u001b[0m\u001b[1;32m      2\u001b[0m     \u001b[0;34m'code'\u001b[0m\u001b[0;34m:\u001b[0m \u001b[0mstr\u001b[0m\u001b[0;34m,\u001b[0m\u001b[0;34m\u001b[0m\u001b[0;34m\u001b[0m\u001b[0m\n\u001b[1;32m      3\u001b[0m     \u001b[0;34m'created_t'\u001b[0m\u001b[0;34m:\u001b[0m \u001b[0;34m'datetime64[ns]'\u001b[0m\u001b[0;34m,\u001b[0m\u001b[0;34m\u001b[0m\u001b[0;34m\u001b[0m\u001b[0m\n\u001b[1;32m      4\u001b[0m })\n",
      "\u001b[0;32m~/.local/lib/python3.9/site-packages/pandas/io/parsers.py\u001b[0m in \u001b[0;36mread_csv\u001b[0;34m(filepath_or_buffer, sep, delimiter, header, names, index_col, usecols, squeeze, prefix, mangle_dupe_cols, dtype, engine, converters, true_values, false_values, skipinitialspace, skiprows, skipfooter, nrows, na_values, keep_default_na, na_filter, verbose, skip_blank_lines, parse_dates, infer_datetime_format, keep_date_col, date_parser, dayfirst, cache_dates, iterator, chunksize, compression, thousands, decimal, lineterminator, quotechar, quoting, doublequote, escapechar, comment, encoding, dialect, error_bad_lines, warn_bad_lines, delim_whitespace, low_memory, memory_map, float_precision, storage_options)\u001b[0m\n\u001b[1;32m    608\u001b[0m     \u001b[0mkwds\u001b[0m\u001b[0;34m.\u001b[0m\u001b[0mupdate\u001b[0m\u001b[0;34m(\u001b[0m\u001b[0mkwds_defaults\u001b[0m\u001b[0;34m)\u001b[0m\u001b[0;34m\u001b[0m\u001b[0;34m\u001b[0m\u001b[0m\n\u001b[1;32m    609\u001b[0m \u001b[0;34m\u001b[0m\u001b[0m\n\u001b[0;32m--> 610\u001b[0;31m     \u001b[0;32mreturn\u001b[0m \u001b[0m_read\u001b[0m\u001b[0;34m(\u001b[0m\u001b[0mfilepath_or_buffer\u001b[0m\u001b[0;34m,\u001b[0m \u001b[0mkwds\u001b[0m\u001b[0;34m)\u001b[0m\u001b[0;34m\u001b[0m\u001b[0;34m\u001b[0m\u001b[0m\n\u001b[0m\u001b[1;32m    611\u001b[0m \u001b[0;34m\u001b[0m\u001b[0m\n\u001b[1;32m    612\u001b[0m \u001b[0;34m\u001b[0m\u001b[0m\n",
      "\u001b[0;32m~/.local/lib/python3.9/site-packages/pandas/io/parsers.py\u001b[0m in \u001b[0;36m_read\u001b[0;34m(filepath_or_buffer, kwds)\u001b[0m\n\u001b[1;32m    466\u001b[0m \u001b[0;34m\u001b[0m\u001b[0m\n\u001b[1;32m    467\u001b[0m     \u001b[0;32mwith\u001b[0m \u001b[0mparser\u001b[0m\u001b[0;34m:\u001b[0m\u001b[0;34m\u001b[0m\u001b[0;34m\u001b[0m\u001b[0m\n\u001b[0;32m--> 468\u001b[0;31m         \u001b[0;32mreturn\u001b[0m \u001b[0mparser\u001b[0m\u001b[0;34m.\u001b[0m\u001b[0mread\u001b[0m\u001b[0;34m(\u001b[0m\u001b[0mnrows\u001b[0m\u001b[0;34m)\u001b[0m\u001b[0;34m\u001b[0m\u001b[0;34m\u001b[0m\u001b[0m\n\u001b[0m\u001b[1;32m    469\u001b[0m \u001b[0;34m\u001b[0m\u001b[0m\n\u001b[1;32m    470\u001b[0m \u001b[0;34m\u001b[0m\u001b[0m\n",
      "\u001b[0;32m~/.local/lib/python3.9/site-packages/pandas/io/parsers.py\u001b[0m in \u001b[0;36mread\u001b[0;34m(self, nrows)\u001b[0m\n\u001b[1;32m   1055\u001b[0m     \u001b[0;32mdef\u001b[0m \u001b[0mread\u001b[0m\u001b[0;34m(\u001b[0m\u001b[0mself\u001b[0m\u001b[0;34m,\u001b[0m \u001b[0mnrows\u001b[0m\u001b[0;34m=\u001b[0m\u001b[0;32mNone\u001b[0m\u001b[0;34m)\u001b[0m\u001b[0;34m:\u001b[0m\u001b[0;34m\u001b[0m\u001b[0;34m\u001b[0m\u001b[0m\n\u001b[1;32m   1056\u001b[0m         \u001b[0mnrows\u001b[0m \u001b[0;34m=\u001b[0m \u001b[0mvalidate_integer\u001b[0m\u001b[0;34m(\u001b[0m\u001b[0;34m\"nrows\"\u001b[0m\u001b[0;34m,\u001b[0m \u001b[0mnrows\u001b[0m\u001b[0;34m)\u001b[0m\u001b[0;34m\u001b[0m\u001b[0;34m\u001b[0m\u001b[0m\n\u001b[0;32m-> 1057\u001b[0;31m         \u001b[0mindex\u001b[0m\u001b[0;34m,\u001b[0m \u001b[0mcolumns\u001b[0m\u001b[0;34m,\u001b[0m \u001b[0mcol_dict\u001b[0m \u001b[0;34m=\u001b[0m \u001b[0mself\u001b[0m\u001b[0;34m.\u001b[0m\u001b[0m_engine\u001b[0m\u001b[0;34m.\u001b[0m\u001b[0mread\u001b[0m\u001b[0;34m(\u001b[0m\u001b[0mnrows\u001b[0m\u001b[0;34m)\u001b[0m\u001b[0;34m\u001b[0m\u001b[0;34m\u001b[0m\u001b[0m\n\u001b[0m\u001b[1;32m   1058\u001b[0m \u001b[0;34m\u001b[0m\u001b[0m\n\u001b[1;32m   1059\u001b[0m         \u001b[0;32mif\u001b[0m \u001b[0mindex\u001b[0m \u001b[0;32mis\u001b[0m \u001b[0;32mNone\u001b[0m\u001b[0;34m:\u001b[0m\u001b[0;34m\u001b[0m\u001b[0;34m\u001b[0m\u001b[0m\n",
      "\u001b[0;32m~/.local/lib/python3.9/site-packages/pandas/io/parsers.py\u001b[0m in \u001b[0;36mread\u001b[0;34m(self, nrows)\u001b[0m\n\u001b[1;32m   2059\u001b[0m     \u001b[0;32mdef\u001b[0m \u001b[0mread\u001b[0m\u001b[0;34m(\u001b[0m\u001b[0mself\u001b[0m\u001b[0;34m,\u001b[0m \u001b[0mnrows\u001b[0m\u001b[0;34m=\u001b[0m\u001b[0;32mNone\u001b[0m\u001b[0;34m)\u001b[0m\u001b[0;34m:\u001b[0m\u001b[0;34m\u001b[0m\u001b[0;34m\u001b[0m\u001b[0m\n\u001b[1;32m   2060\u001b[0m         \u001b[0;32mtry\u001b[0m\u001b[0;34m:\u001b[0m\u001b[0;34m\u001b[0m\u001b[0;34m\u001b[0m\u001b[0m\n\u001b[0;32m-> 2061\u001b[0;31m             \u001b[0mdata\u001b[0m \u001b[0;34m=\u001b[0m \u001b[0mself\u001b[0m\u001b[0;34m.\u001b[0m\u001b[0m_reader\u001b[0m\u001b[0;34m.\u001b[0m\u001b[0mread\u001b[0m\u001b[0;34m(\u001b[0m\u001b[0mnrows\u001b[0m\u001b[0;34m)\u001b[0m\u001b[0;34m\u001b[0m\u001b[0;34m\u001b[0m\u001b[0m\n\u001b[0m\u001b[1;32m   2062\u001b[0m         \u001b[0;32mexcept\u001b[0m \u001b[0mStopIteration\u001b[0m\u001b[0;34m:\u001b[0m\u001b[0;34m\u001b[0m\u001b[0;34m\u001b[0m\u001b[0m\n\u001b[1;32m   2063\u001b[0m             \u001b[0;32mif\u001b[0m \u001b[0mself\u001b[0m\u001b[0;34m.\u001b[0m\u001b[0m_first_chunk\u001b[0m\u001b[0;34m:\u001b[0m\u001b[0;34m\u001b[0m\u001b[0;34m\u001b[0m\u001b[0m\n",
      "\u001b[0;32mpandas/_libs/parsers.pyx\u001b[0m in \u001b[0;36mpandas._libs.parsers.TextReader.read\u001b[0;34m()\u001b[0m\n",
      "\u001b[0;32mpandas/_libs/parsers.pyx\u001b[0m in \u001b[0;36mpandas._libs.parsers.TextReader._read_low_memory\u001b[0;34m()\u001b[0m\n",
      "\u001b[0;32mpandas/_libs/parsers.pyx\u001b[0m in \u001b[0;36mpandas._libs.parsers.TextReader._read_rows\u001b[0;34m()\u001b[0m\n",
      "\u001b[0;32mpandas/_libs/parsers.pyx\u001b[0m in \u001b[0;36mpandas._libs.parsers.TextReader._convert_column_data\u001b[0;34m()\u001b[0m\n",
      "\u001b[0;32mpandas/_libs/parsers.pyx\u001b[0m in \u001b[0;36mpandas._libs.parsers.TextReader._convert_tokens\u001b[0;34m()\u001b[0m\n",
      "\u001b[0;32mpandas/_libs/parsers.pyx\u001b[0m in \u001b[0;36mpandas._libs.parsers.TextReader._convert_with_dtype\u001b[0;34m()\u001b[0m\n",
      "\u001b[0;31mTypeError\u001b[0m: the dtype datetime64[ns] is not supported for parsing, pass this column using parse_dates instead"
     ]
    }
   ],
   "source": [
    "\n",
    "raw_data = pd.read_csv(csv_local_path, sep='\\t', dtype={\n",
    "    'code': str,\n",
    "    'created_t': 'datetime64[ns]',\n",
    "})\n"
   ]
  },
  {
   "cell_type": "code",
   "execution_count": 37,
   "metadata": {},
   "outputs": [
    {
     "output_type": "execute_result",
     "data": {
      "text/plain": [
       "            code                                                url  \\\n",
       "0  0000000003087  http://world-fr.openfoodfacts.org/produit/0000...   \n",
       "1  0000000004530  http://world-fr.openfoodfacts.org/produit/0000...   \n",
       "2  0000000004559  http://world-fr.openfoodfacts.org/produit/0000...   \n",
       "3  0000000016087  http://world-fr.openfoodfacts.org/produit/0000...   \n",
       "4  0000000016094  http://world-fr.openfoodfacts.org/produit/0000...   \n",
       "\n",
       "                      creator   created_t      created_datetime  \\\n",
       "0  openfoodfacts-contributors  1474103866  2016-09-17T09:17:46Z   \n",
       "1             usda-ndb-import  1489069957  2017-03-09T14:32:37Z   \n",
       "2             usda-ndb-import  1489069957  2017-03-09T14:32:37Z   \n",
       "3             usda-ndb-import  1489055731  2017-03-09T10:35:31Z   \n",
       "4             usda-ndb-import  1489055653  2017-03-09T10:34:13Z   \n",
       "\n",
       "  last_modified_t last_modified_datetime                    product_name  \\\n",
       "0      1474103893   2016-09-17T09:18:13Z              Farine de blé noir   \n",
       "1      1489069957   2017-03-09T14:32:37Z  Banana Chips Sweetened (Whole)   \n",
       "2      1489069957   2017-03-09T14:32:37Z                         Peanuts   \n",
       "3      1489055731   2017-03-09T10:35:31Z          Organic Salted Nut Mix   \n",
       "4      1489055653   2017-03-09T10:34:13Z                 Organic Polenta   \n",
       "\n",
       "  generic_name quantity  ... ph_100g fruits-vegetables-nuts_100g  \\\n",
       "0          NaN      1kg  ...     NaN                         NaN   \n",
       "1          NaN      NaN  ...     NaN                         NaN   \n",
       "2          NaN      NaN  ...     NaN                         NaN   \n",
       "3          NaN      NaN  ...     NaN                         NaN   \n",
       "4          NaN      NaN  ...     NaN                         NaN   \n",
       "\n",
       "  collagen-meat-protein-ratio_100g cocoa_100g chlorophyl_100g  \\\n",
       "0                              NaN        NaN             NaN   \n",
       "1                              NaN        NaN             NaN   \n",
       "2                              NaN        NaN             NaN   \n",
       "3                              NaN        NaN             NaN   \n",
       "4                              NaN        NaN             NaN   \n",
       "\n",
       "  carbon-footprint_100g nutrition-score-fr_100g nutrition-score-uk_100g  \\\n",
       "0                   NaN                     NaN                     NaN   \n",
       "1                   NaN                    14.0                    14.0   \n",
       "2                   NaN                     0.0                     0.0   \n",
       "3                   NaN                    12.0                    12.0   \n",
       "4                   NaN                     NaN                     NaN   \n",
       "\n",
       "  glycemic-index_100g water-hardness_100g  \n",
       "0                 NaN                 NaN  \n",
       "1                 NaN                 NaN  \n",
       "2                 NaN                 NaN  \n",
       "3                 NaN                 NaN  \n",
       "4                 NaN                 NaN  \n",
       "\n",
       "[5 rows x 162 columns]"
      ],
      "text/html": "<div>\n<style scoped>\n    .dataframe tbody tr th:only-of-type {\n        vertical-align: middle;\n    }\n\n    .dataframe tbody tr th {\n        vertical-align: top;\n    }\n\n    .dataframe thead th {\n        text-align: right;\n    }\n</style>\n<table border=\"1\" class=\"dataframe\">\n  <thead>\n    <tr style=\"text-align: right;\">\n      <th></th>\n      <th>code</th>\n      <th>url</th>\n      <th>creator</th>\n      <th>created_t</th>\n      <th>created_datetime</th>\n      <th>last_modified_t</th>\n      <th>last_modified_datetime</th>\n      <th>product_name</th>\n      <th>generic_name</th>\n      <th>quantity</th>\n      <th>...</th>\n      <th>ph_100g</th>\n      <th>fruits-vegetables-nuts_100g</th>\n      <th>collagen-meat-protein-ratio_100g</th>\n      <th>cocoa_100g</th>\n      <th>chlorophyl_100g</th>\n      <th>carbon-footprint_100g</th>\n      <th>nutrition-score-fr_100g</th>\n      <th>nutrition-score-uk_100g</th>\n      <th>glycemic-index_100g</th>\n      <th>water-hardness_100g</th>\n    </tr>\n  </thead>\n  <tbody>\n    <tr>\n      <th>0</th>\n      <td>0000000003087</td>\n      <td>http://world-fr.openfoodfacts.org/produit/0000...</td>\n      <td>openfoodfacts-contributors</td>\n      <td>1474103866</td>\n      <td>2016-09-17T09:17:46Z</td>\n      <td>1474103893</td>\n      <td>2016-09-17T09:18:13Z</td>\n      <td>Farine de blé noir</td>\n      <td>NaN</td>\n      <td>1kg</td>\n      <td>...</td>\n      <td>NaN</td>\n      <td>NaN</td>\n      <td>NaN</td>\n      <td>NaN</td>\n      <td>NaN</td>\n      <td>NaN</td>\n      <td>NaN</td>\n      <td>NaN</td>\n      <td>NaN</td>\n      <td>NaN</td>\n    </tr>\n    <tr>\n      <th>1</th>\n      <td>0000000004530</td>\n      <td>http://world-fr.openfoodfacts.org/produit/0000...</td>\n      <td>usda-ndb-import</td>\n      <td>1489069957</td>\n      <td>2017-03-09T14:32:37Z</td>\n      <td>1489069957</td>\n      <td>2017-03-09T14:32:37Z</td>\n      <td>Banana Chips Sweetened (Whole)</td>\n      <td>NaN</td>\n      <td>NaN</td>\n      <td>...</td>\n      <td>NaN</td>\n      <td>NaN</td>\n      <td>NaN</td>\n      <td>NaN</td>\n      <td>NaN</td>\n      <td>NaN</td>\n      <td>14.0</td>\n      <td>14.0</td>\n      <td>NaN</td>\n      <td>NaN</td>\n    </tr>\n    <tr>\n      <th>2</th>\n      <td>0000000004559</td>\n      <td>http://world-fr.openfoodfacts.org/produit/0000...</td>\n      <td>usda-ndb-import</td>\n      <td>1489069957</td>\n      <td>2017-03-09T14:32:37Z</td>\n      <td>1489069957</td>\n      <td>2017-03-09T14:32:37Z</td>\n      <td>Peanuts</td>\n      <td>NaN</td>\n      <td>NaN</td>\n      <td>...</td>\n      <td>NaN</td>\n      <td>NaN</td>\n      <td>NaN</td>\n      <td>NaN</td>\n      <td>NaN</td>\n      <td>NaN</td>\n      <td>0.0</td>\n      <td>0.0</td>\n      <td>NaN</td>\n      <td>NaN</td>\n    </tr>\n    <tr>\n      <th>3</th>\n      <td>0000000016087</td>\n      <td>http://world-fr.openfoodfacts.org/produit/0000...</td>\n      <td>usda-ndb-import</td>\n      <td>1489055731</td>\n      <td>2017-03-09T10:35:31Z</td>\n      <td>1489055731</td>\n      <td>2017-03-09T10:35:31Z</td>\n      <td>Organic Salted Nut Mix</td>\n      <td>NaN</td>\n      <td>NaN</td>\n      <td>...</td>\n      <td>NaN</td>\n      <td>NaN</td>\n      <td>NaN</td>\n      <td>NaN</td>\n      <td>NaN</td>\n      <td>NaN</td>\n      <td>12.0</td>\n      <td>12.0</td>\n      <td>NaN</td>\n      <td>NaN</td>\n    </tr>\n    <tr>\n      <th>4</th>\n      <td>0000000016094</td>\n      <td>http://world-fr.openfoodfacts.org/produit/0000...</td>\n      <td>usda-ndb-import</td>\n      <td>1489055653</td>\n      <td>2017-03-09T10:34:13Z</td>\n      <td>1489055653</td>\n      <td>2017-03-09T10:34:13Z</td>\n      <td>Organic Polenta</td>\n      <td>NaN</td>\n      <td>NaN</td>\n      <td>...</td>\n      <td>NaN</td>\n      <td>NaN</td>\n      <td>NaN</td>\n      <td>NaN</td>\n      <td>NaN</td>\n      <td>NaN</td>\n      <td>NaN</td>\n      <td>NaN</td>\n      <td>NaN</td>\n      <td>NaN</td>\n    </tr>\n  </tbody>\n</table>\n<p>5 rows × 162 columns</p>\n</div>"
     },
     "metadata": {},
     "execution_count": 37
    }
   ],
   "source": [
    "# display first 5 rows\n",
    "raw_data.head()\n"
   ]
  },
  {
   "cell_type": "code",
   "execution_count": 38,
   "metadata": {},
   "outputs": [
    {
     "output_type": "stream",
     "name": "stdout",
     "text": [
      "<class 'pandas.core.frame.DataFrame'>\nRangeIndex: 320772 entries, 0 to 320771\nColumns: 162 entries, code to water-hardness_100g\ndtypes: float64(106), object(56)\nmemory usage: 396.5+ MB\n"
     ]
    }
   ],
   "source": [
    "\n",
    "# Display data types and empty values\n",
    "raw_data.info()\n"
   ]
  },
  {
   "cell_type": "code",
   "execution_count": 39,
   "metadata": {},
   "outputs": [
    {
     "output_type": "execute_result",
     "data": {
      "text/plain": [
       "                 code                                                url  \\\n",
       "count          320749                                             320749   \n",
       "unique         320749                                             320749   \n",
       "top     0037600137614  http://world-fr.openfoodfacts.org/produit/3760...   \n",
       "freq                1                                                  1   \n",
       "mean              NaN                                                NaN   \n",
       "std               NaN                                                NaN   \n",
       "min               NaN                                                NaN   \n",
       "25%               NaN                                                NaN   \n",
       "50%               NaN                                                NaN   \n",
       "75%               NaN                                                NaN   \n",
       "max               NaN                                                NaN   \n",
       "\n",
       "                creator     created_t      created_datetime  last_modified_t  \\\n",
       "count            320770  3.207690e+05                320763     3.207720e+05   \n",
       "unique             3535  1.896360e+05                189568     1.806390e+05   \n",
       "top     usda-ndb-import  1.489056e+09  2017-03-09T10:37:09Z     1.439142e+09   \n",
       "freq             169868  2.000000e+01                    20     3.300000e+01   \n",
       "mean                NaN           NaN                   NaN              NaN   \n",
       "std                 NaN           NaN                   NaN              NaN   \n",
       "min                 NaN           NaN                   NaN              NaN   \n",
       "25%                 NaN           NaN                   NaN              NaN   \n",
       "50%                 NaN           NaN                   NaN              NaN   \n",
       "75%                 NaN           NaN                   NaN              NaN   \n",
       "max                 NaN           NaN                   NaN              NaN   \n",
       "\n",
       "       last_modified_datetime product_name  \\\n",
       "count                  320772       303010   \n",
       "unique                 180495       221347   \n",
       "top      2015-08-09T17:35:42Z    Ice Cream   \n",
       "freq                       33          410   \n",
       "mean                      NaN          NaN   \n",
       "std                       NaN          NaN   \n",
       "min                       NaN          NaN   \n",
       "25%                       NaN          NaN   \n",
       "50%                       NaN          NaN   \n",
       "75%                       NaN          NaN   \n",
       "max                       NaN          NaN   \n",
       "\n",
       "                                             generic_name quantity  ...  \\\n",
       "count                                               52795   104819  ...   \n",
       "unique                                              38584    13826  ...   \n",
       "top     Pâtes alimentaires au blé dur de qualité supér...    500 g  ...   \n",
       "freq                                                  201     4669  ...   \n",
       "mean                                                  NaN      NaN  ...   \n",
       "std                                                   NaN      NaN  ...   \n",
       "min                                                   NaN      NaN  ...   \n",
       "25%                                                   NaN      NaN  ...   \n",
       "50%                                                   NaN      NaN  ...   \n",
       "75%                                                   NaN      NaN  ...   \n",
       "max                                                   NaN      NaN  ...   \n",
       "\n",
       "          ph_100g fruits-vegetables-nuts_100g  \\\n",
       "count   49.000000                 3036.000000   \n",
       "unique        NaN                         NaN   \n",
       "top           NaN                         NaN   \n",
       "freq          NaN                         NaN   \n",
       "mean     6.425698                   31.458587   \n",
       "std      2.047841                   31.967918   \n",
       "min      0.000000                    0.000000   \n",
       "25%      6.300000                    0.000000   \n",
       "50%      7.200000                   23.000000   \n",
       "75%      7.400000                   51.000000   \n",
       "max      8.400000                  100.000000   \n",
       "\n",
       "       collagen-meat-protein-ratio_100g  cocoa_100g chlorophyl_100g  \\\n",
       "count                        165.000000  948.000000             0.0   \n",
       "unique                              NaN         NaN             NaN   \n",
       "top                                 NaN         NaN             NaN   \n",
       "freq                                NaN         NaN             NaN   \n",
       "mean                          15.412121   49.547785             NaN   \n",
       "std                            3.753028   18.757932             NaN   \n",
       "min                            8.000000    6.000000             NaN   \n",
       "25%                           12.000000   32.000000             NaN   \n",
       "50%                           15.000000   50.000000             NaN   \n",
       "75%                           15.000000   64.250000             NaN   \n",
       "max                           25.000000  100.000000             NaN   \n",
       "\n",
       "       carbon-footprint_100g nutrition-score-fr_100g nutrition-score-uk_100g  \\\n",
       "count             268.000000           221210.000000           221210.000000   \n",
       "unique                   NaN                     NaN                     NaN   \n",
       "top                      NaN                     NaN                     NaN   \n",
       "freq                     NaN                     NaN                     NaN   \n",
       "mean              341.700764                9.165535                9.058049   \n",
       "std               425.211439                9.055903                9.183589   \n",
       "min                 0.000000              -15.000000              -15.000000   \n",
       "25%                98.750000                1.000000                1.000000   \n",
       "50%               195.750000               10.000000                9.000000   \n",
       "75%               383.200000               16.000000               16.000000   \n",
       "max              2842.000000               40.000000               40.000000   \n",
       "\n",
       "       glycemic-index_100g water-hardness_100g  \n",
       "count                  0.0                 0.0  \n",
       "unique                 NaN                 NaN  \n",
       "top                    NaN                 NaN  \n",
       "freq                   NaN                 NaN  \n",
       "mean                   NaN                 NaN  \n",
       "std                    NaN                 NaN  \n",
       "min                    NaN                 NaN  \n",
       "25%                    NaN                 NaN  \n",
       "50%                    NaN                 NaN  \n",
       "75%                    NaN                 NaN  \n",
       "max                    NaN                 NaN  \n",
       "\n",
       "[11 rows x 162 columns]"
      ],
      "text/html": "<div>\n<style scoped>\n    .dataframe tbody tr th:only-of-type {\n        vertical-align: middle;\n    }\n\n    .dataframe tbody tr th {\n        vertical-align: top;\n    }\n\n    .dataframe thead th {\n        text-align: right;\n    }\n</style>\n<table border=\"1\" class=\"dataframe\">\n  <thead>\n    <tr style=\"text-align: right;\">\n      <th></th>\n      <th>code</th>\n      <th>url</th>\n      <th>creator</th>\n      <th>created_t</th>\n      <th>created_datetime</th>\n      <th>last_modified_t</th>\n      <th>last_modified_datetime</th>\n      <th>product_name</th>\n      <th>generic_name</th>\n      <th>quantity</th>\n      <th>...</th>\n      <th>ph_100g</th>\n      <th>fruits-vegetables-nuts_100g</th>\n      <th>collagen-meat-protein-ratio_100g</th>\n      <th>cocoa_100g</th>\n      <th>chlorophyl_100g</th>\n      <th>carbon-footprint_100g</th>\n      <th>nutrition-score-fr_100g</th>\n      <th>nutrition-score-uk_100g</th>\n      <th>glycemic-index_100g</th>\n      <th>water-hardness_100g</th>\n    </tr>\n  </thead>\n  <tbody>\n    <tr>\n      <th>count</th>\n      <td>320749</td>\n      <td>320749</td>\n      <td>320770</td>\n      <td>3.207690e+05</td>\n      <td>320763</td>\n      <td>3.207720e+05</td>\n      <td>320772</td>\n      <td>303010</td>\n      <td>52795</td>\n      <td>104819</td>\n      <td>...</td>\n      <td>49.000000</td>\n      <td>3036.000000</td>\n      <td>165.000000</td>\n      <td>948.000000</td>\n      <td>0.0</td>\n      <td>268.000000</td>\n      <td>221210.000000</td>\n      <td>221210.000000</td>\n      <td>0.0</td>\n      <td>0.0</td>\n    </tr>\n    <tr>\n      <th>unique</th>\n      <td>320749</td>\n      <td>320749</td>\n      <td>3535</td>\n      <td>1.896360e+05</td>\n      <td>189568</td>\n      <td>1.806390e+05</td>\n      <td>180495</td>\n      <td>221347</td>\n      <td>38584</td>\n      <td>13826</td>\n      <td>...</td>\n      <td>NaN</td>\n      <td>NaN</td>\n      <td>NaN</td>\n      <td>NaN</td>\n      <td>NaN</td>\n      <td>NaN</td>\n      <td>NaN</td>\n      <td>NaN</td>\n      <td>NaN</td>\n      <td>NaN</td>\n    </tr>\n    <tr>\n      <th>top</th>\n      <td>0037600137614</td>\n      <td>http://world-fr.openfoodfacts.org/produit/3760...</td>\n      <td>usda-ndb-import</td>\n      <td>1.489056e+09</td>\n      <td>2017-03-09T10:37:09Z</td>\n      <td>1.439142e+09</td>\n      <td>2015-08-09T17:35:42Z</td>\n      <td>Ice Cream</td>\n      <td>Pâtes alimentaires au blé dur de qualité supér...</td>\n      <td>500 g</td>\n      <td>...</td>\n      <td>NaN</td>\n      <td>NaN</td>\n      <td>NaN</td>\n      <td>NaN</td>\n      <td>NaN</td>\n      <td>NaN</td>\n      <td>NaN</td>\n      <td>NaN</td>\n      <td>NaN</td>\n      <td>NaN</td>\n    </tr>\n    <tr>\n      <th>freq</th>\n      <td>1</td>\n      <td>1</td>\n      <td>169868</td>\n      <td>2.000000e+01</td>\n      <td>20</td>\n      <td>3.300000e+01</td>\n      <td>33</td>\n      <td>410</td>\n      <td>201</td>\n      <td>4669</td>\n      <td>...</td>\n      <td>NaN</td>\n      <td>NaN</td>\n      <td>NaN</td>\n      <td>NaN</td>\n      <td>NaN</td>\n      <td>NaN</td>\n      <td>NaN</td>\n      <td>NaN</td>\n      <td>NaN</td>\n      <td>NaN</td>\n    </tr>\n    <tr>\n      <th>mean</th>\n      <td>NaN</td>\n      <td>NaN</td>\n      <td>NaN</td>\n      <td>NaN</td>\n      <td>NaN</td>\n      <td>NaN</td>\n      <td>NaN</td>\n      <td>NaN</td>\n      <td>NaN</td>\n      <td>NaN</td>\n      <td>...</td>\n      <td>6.425698</td>\n      <td>31.458587</td>\n      <td>15.412121</td>\n      <td>49.547785</td>\n      <td>NaN</td>\n      <td>341.700764</td>\n      <td>9.165535</td>\n      <td>9.058049</td>\n      <td>NaN</td>\n      <td>NaN</td>\n    </tr>\n    <tr>\n      <th>std</th>\n      <td>NaN</td>\n      <td>NaN</td>\n      <td>NaN</td>\n      <td>NaN</td>\n      <td>NaN</td>\n      <td>NaN</td>\n      <td>NaN</td>\n      <td>NaN</td>\n      <td>NaN</td>\n      <td>NaN</td>\n      <td>...</td>\n      <td>2.047841</td>\n      <td>31.967918</td>\n      <td>3.753028</td>\n      <td>18.757932</td>\n      <td>NaN</td>\n      <td>425.211439</td>\n      <td>9.055903</td>\n      <td>9.183589</td>\n      <td>NaN</td>\n      <td>NaN</td>\n    </tr>\n    <tr>\n      <th>min</th>\n      <td>NaN</td>\n      <td>NaN</td>\n      <td>NaN</td>\n      <td>NaN</td>\n      <td>NaN</td>\n      <td>NaN</td>\n      <td>NaN</td>\n      <td>NaN</td>\n      <td>NaN</td>\n      <td>NaN</td>\n      <td>...</td>\n      <td>0.000000</td>\n      <td>0.000000</td>\n      <td>8.000000</td>\n      <td>6.000000</td>\n      <td>NaN</td>\n      <td>0.000000</td>\n      <td>-15.000000</td>\n      <td>-15.000000</td>\n      <td>NaN</td>\n      <td>NaN</td>\n    </tr>\n    <tr>\n      <th>25%</th>\n      <td>NaN</td>\n      <td>NaN</td>\n      <td>NaN</td>\n      <td>NaN</td>\n      <td>NaN</td>\n      <td>NaN</td>\n      <td>NaN</td>\n      <td>NaN</td>\n      <td>NaN</td>\n      <td>NaN</td>\n      <td>...</td>\n      <td>6.300000</td>\n      <td>0.000000</td>\n      <td>12.000000</td>\n      <td>32.000000</td>\n      <td>NaN</td>\n      <td>98.750000</td>\n      <td>1.000000</td>\n      <td>1.000000</td>\n      <td>NaN</td>\n      <td>NaN</td>\n    </tr>\n    <tr>\n      <th>50%</th>\n      <td>NaN</td>\n      <td>NaN</td>\n      <td>NaN</td>\n      <td>NaN</td>\n      <td>NaN</td>\n      <td>NaN</td>\n      <td>NaN</td>\n      <td>NaN</td>\n      <td>NaN</td>\n      <td>NaN</td>\n      <td>...</td>\n      <td>7.200000</td>\n      <td>23.000000</td>\n      <td>15.000000</td>\n      <td>50.000000</td>\n      <td>NaN</td>\n      <td>195.750000</td>\n      <td>10.000000</td>\n      <td>9.000000</td>\n      <td>NaN</td>\n      <td>NaN</td>\n    </tr>\n    <tr>\n      <th>75%</th>\n      <td>NaN</td>\n      <td>NaN</td>\n      <td>NaN</td>\n      <td>NaN</td>\n      <td>NaN</td>\n      <td>NaN</td>\n      <td>NaN</td>\n      <td>NaN</td>\n      <td>NaN</td>\n      <td>NaN</td>\n      <td>...</td>\n      <td>7.400000</td>\n      <td>51.000000</td>\n      <td>15.000000</td>\n      <td>64.250000</td>\n      <td>NaN</td>\n      <td>383.200000</td>\n      <td>16.000000</td>\n      <td>16.000000</td>\n      <td>NaN</td>\n      <td>NaN</td>\n    </tr>\n    <tr>\n      <th>max</th>\n      <td>NaN</td>\n      <td>NaN</td>\n      <td>NaN</td>\n      <td>NaN</td>\n      <td>NaN</td>\n      <td>NaN</td>\n      <td>NaN</td>\n      <td>NaN</td>\n      <td>NaN</td>\n      <td>NaN</td>\n      <td>...</td>\n      <td>8.400000</td>\n      <td>100.000000</td>\n      <td>25.000000</td>\n      <td>100.000000</td>\n      <td>NaN</td>\n      <td>2842.000000</td>\n      <td>40.000000</td>\n      <td>40.000000</td>\n      <td>NaN</td>\n      <td>NaN</td>\n    </tr>\n  </tbody>\n</table>\n<p>11 rows × 162 columns</p>\n</div>"
     },
     "metadata": {},
     "execution_count": 39
    }
   ],
   "source": [
    "\n",
    "# Display statistical summary of each column\n",
    "raw_data.describe(include=\"all\")\n"
   ]
  },
  {
   "cell_type": "markdown",
   "metadata": {
    "id": "kH3N_9YdoGU3"
   },
   "source": [
    "Nous voyons que, pour chaque arbre listé, nous disposons des informations suivantes (la description des colonnes est disponible sur le site [OpenData](https://opendata.paris.fr/explore/dataset/les-arbres/information/)) :\n",
    "- `id` : simple identifiant de l'arbre (entier, ex. : `99874`)\n",
    "- `type_emplacement` : type de l'emplacement (texte, ex. : `\"Arbre\"`)\n",
    "- `domanialite` : type de lieu auquel appartient l'arbre (texte, ex. : `\"Jardin\"`)\n",
    "- `arrondissement` : arrondissement de Paris où est situé l'arbre (texte, ex. : `\"PARIS 7E ARRDT\"`)\n",
    "- `complement_addresse` : complement d'adress (texte, pas d'exemple visible)\n",
    "- `numero` : numéro de l'adress (texte, pas d'exemple visible)\n",
    "- `lieu` : adresse de l'arbre (texte, ex. : `\"MAIRIE DU 7E 116 RUE DE GRENELLE PARIS 7E\"`)\n",
    "- `id_emplacement` : identifiant de l'emplacement (texte, ex. : `\"19\"`)\n",
    "- `libelle_francais` : nom commun (vernaculaire) de l'espèce de l'arbre (texte, ex. : `\"Marronnier\"`)\n",
    "- `genre` : genre de l'arbre (texte, ex. : `\"Aesculus\"`)\n",
    "- `espece` : espèce de l'arbre (texte, ex. : `\"hippocastanum\"`)\n",
    "- `variete` : variété de l'arbre (texte, pas d'exemple visible)\n",
    "- `circonference_cm` : circonférence en centimètres de l'arbre (entier, ex. : `20`)\n",
    "- `hauteur_m` : taille en mètres de l'arbre (entier, ex. : `5`)\n",
    "- `stade_developpement` : stade de développement de l'arbre (texte, ex. : `\"A\"` pour \"Adulte\")\n",
    "- `remarquable` : si l'arbre est \"remarquable\" ou non (booléen, ex. : `0` pour un arbre \"non remarquable\")\n",
    "- `geo_point_2d_a` : latitude de la position de l'arbre (nombre à virgule, ex. : `48.857620`)\n",
    "- `geo_point_2d_b` : longitude de la position de l'arbre (nombre à virgule, ex. : `2.320962`)\n",
    "\n",
    "Nous voyons déjà que parmis les quelques premières données :\n",
    "- un certain certain nombre de valeurs ne sont pas fournies (`NaN` = \"Not a Number\" = donnée non disponible)\n",
    "- nous pouvons classer les variables selon leur type :\n",
    "    - quantitatives\n",
    "        - discrètes : `id`, `circonference_cm`, `hauteur_m`\n",
    "        - continues : `geo_point_2d_a`, `geo_point_2d_b`\n",
    "    - qualitatives\n",
    "        - nominales : `type_emplacement`, `domanialite`, `arrondissement`, `complement_addresse`, `numero`, `lieu`, `id_emplacement`, `libelle_francais`, `genre`, `espece`, `variete`\n",
    "        - ordinales : `stade_developpement`, `remarquable`\n",
    "- on peut aussi les classer en trois grandes catégories, d'après leur sens :\n",
    "    - métadonnées internes au système : `id`, `id_emplacement`, `type_emplacement`\n",
    "    - données de localisation : `arrondissement`, `complement_addresse`, `numero`, `lieu`, `geo_point_2d_a`, `geo_point_2d_b`\n",
    "    - données de description : \n",
    "        - taille : `circonference_cm`, `hauteur_m` et `stade_developpement`\n",
    "        - type : `libelle_francais`, `genre`, `espece` et `variete`\n",
    "        - autre : `remarquable`\n",
    "\n",
    "\n",
    "Nous allons observer plus précisément les types de valeurs et les valeurs vides :"
   ]
  },
  {
   "cell_type": "code",
   "execution_count": null,
   "metadata": {
    "colab": {
     "base_uri": "https://localhost:8080/"
    },
    "id": "Y-YSzIChoGU4",
    "outputId": "07f1f421-6ea0-43cb-aed4-98fe03e9b651"
   },
   "outputs": [],
   "source": [
    "# Display data types and empty values\n",
    "raw_data.info()\n"
   ]
  },
  {
   "cell_type": "markdown",
   "metadata": {
    "id": "3zlSG_cjoGU5"
   },
   "source": [
    "Nous voyons alors que :\n",
    "- la colonne `numero` n'est jamais renseignée (`Non-Null count = 0`)\n",
    "    - ce critère n'apporte donc pas d'information\n",
    "- les colonnes `complement_addresse` (`Non-Null count = 30902`) et `variete` (`Non-Null count = 36777`) sont très peu renseignées (> 80% de valeurs non définies)\n",
    "    - les informations apportées par ces colonnes seront donc très difficilement exploitables en l'état\n",
    "- les colonnes `stade_developpement` (`Non-Null count = 132932`) et `remarquable` (`Non-Null count = 137039`) sont partiellement renseignées (> 30% de valeurs non définies)\n",
    "    - les informations apportées par ces colonnes seront donc pas facilement exploitables en l'état\n",
    "- les colonnes `libelle_francais` (`Non-Null count = 198640`) et `espece` (`Non-Null count = 198385`) sont pas toujours renseignées (> 0,5% de valeurs non définies)\n",
    "    - les informations apportées par ces colonnes sont assez fiables, mais il faudra faire attention aux cas non renseignés\n"
   ]
  },
  {
   "cell_type": "markdown",
   "metadata": {
    "id": "wAEJrs-ZoGU6"
   },
   "source": [
    "## Première analyse statistique\n",
    "\n",
    "Nous allons maintenant chercher à comprendre comment sont réparties les valeurs pour chaque caractéristique de nos arbres.\n"
   ]
  },
  {
   "cell_type": "markdown",
   "metadata": {
    "id": "_qDoRaGIoGU6"
   },
   "source": [
    "\n",
    "Une simple description statistique de chaque colonne nous donne les informations suivantes :\n",
    "- pour chaque donnée numérique (`id`, `circonference_cm`, `hauteur_m`, `remarquable`, `geo_point_2d_a` et `geo_point_2d_b`), nous obtenons :\n",
    "    - le nombre de valeurs non vides (`count`)\n",
    "    - la moyenne (`mean`)\n",
    "    - l'écart-type (`std`)\n",
    "    - les valeurs minimale (`min`) et maximale (`max`)\n",
    "    - les 25, 50 (médiane) et 75 centiles (`25%`, `50%` et `75%`)\n",
    "\n",
    "- our chaque donnée textuelle (`type_emplacement`, `domanialite`, `arrondissement`, `complement_addresse`, `lieu`, `id_emplacement`, `libelle_francais`, `genre`, `espece`, `variete` et `stade_developpement`), nous obtenons :\n",
    "    - le nombre de valeurs non vides (`count`)\n",
    "    - le nombre de valeurs différentes (`unique`)\n",
    "    - la valeur la plus représentée (`top`)\n",
    "    - la fréquence de la valeur la plus représentée (`freq`)\n"
   ]
  },
  {
   "cell_type": "code",
   "execution_count": null,
   "metadata": {
    "colab": {
     "base_uri": "https://localhost:8080/",
     "height": 495
    },
    "id": "1gHvO44BoGU7",
    "outputId": "38270cbb-479f-4434-880f-b8cd91de9e86"
   },
   "outputs": [],
   "source": [
    "# Display statistical summary of each column\n",
    "raw_data.describe(include=\"all\")\n"
   ]
  },
  {
   "cell_type": "markdown",
   "metadata": {
    "id": "mB_HEq9DoGU8"
   },
   "source": [
    "Observons maintenant la distribution empirique de chaque variable, de manière non visuelle dans un premier temps, afin de voir quels types de graphes seront ensuite le plus adaptés :"
   ]
  },
  {
   "cell_type": "code",
   "execution_count": null,
   "metadata": {
    "colab": {
     "base_uri": "https://localhost:8080/",
     "height": 1000
    },
    "id": "KwBa1orgoGU8",
    "outputId": "adfe5807-70fd-41fd-8879-783f6f2e81d7"
   },
   "outputs": [],
   "source": [
    "# display value frequencies per column\n",
    "for col in raw_data.columns:\n",
    "    print(f'\\n \\\n",
    "================================================\\n \\\n",
    ">    { col }\\n \\\n",
    "------------------------------------------------')\n",
    "\n",
    "    counts = raw_data[col].value_counts()\n",
    "    freq = raw_data[col].value_counts(normalize=True)\n",
    "    display(pd.DataFrame({'count': counts, 'freq': freq}))\n",
    "    "
   ]
  },
  {
   "cell_type": "markdown",
   "metadata": {
    "id": "NjTE7PojoGU8"
   },
   "source": [
    "\n",
    "Nous voyons alors que :\n",
    "- chaque arbre possède un `id` unique\n",
    "    - cette variable n'apporte donc aucun information\n",
    "- il n'y a qu'une seule valeur possible pour la variable `type_emplacement` : `\"Arbre\"`\n",
    "    - ce critère n'apporte donc pas d'information\n",
    "- les valeurs respectives de `complement_addresse` et `id_emplacement` sont très disparates dans leur format (pas de valeurs très représentatives) et ne sont pas humainement parlantes\n",
    "- la colonne `lieu` peut être découpée avec le séparateur `\" / \"` afin de regrouper par exemple tous les lieux commenant par `\"CIMETIERE DE PANTIN\"`\n",
    "- les données de `circonference_cm` et `hauteur_m` ont des valeurs aberrantes dont il faudra tenir compte :\n",
    "    - `minimum = 0` , ce qui semble impossible\n",
    "    - `circonference_cm` : `maximum = 250255` et `hauteur_m` : `maximum = 881818` , ce qui semble impossible\n"
   ]
  },
  {
   "cell_type": "markdown",
   "metadata": {
    "id": "FLMERxnxoGU9"
   },
   "source": [
    "## Un peu de nettoyage\n",
    "\n",
    "Nous allons :\n",
    "- supprimer les colonnes inutiles : `type_emplacement` et `numero`\n",
    "- renommer les valeurs de `stade_developpement` pour des valeurs plus explicites\n",
    "- découper la valeur de `lieu` avec le séparateur `\" / \"`\n",
    "- créer de nouvelles colonnes `top_XXX` où les valeurs les moins fréquentes seront remplacées par la valeur `\"Other\"` pour les colonnes `lieu`, `lieu_1`, `libelle_francais`, `genre`, `espece` et `variete`"
   ]
  },
  {
   "cell_type": "code",
   "execution_count": null,
   "metadata": {
    "id": "kT6b5VTxoGU9"
   },
   "outputs": [],
   "source": [
    "# drop useless columns\n",
    "clean_data = raw_data.drop(columns=['type_emplacement','numero'])\n",
    "\n",
    "# replace `stade_developpement` values\n",
    "clean_data.stade_developpement.replace({\n",
    "    'J' :'Jeune', \n",
    "    'JA':'Jeune Adulte', \n",
    "    'A' :'Adulte', \n",
    "    'M' :'Mature',\n",
    "}, inplace=True)\n",
    "\n",
    "# extract the first part of column `lieu`\n",
    "clean_data['lieu_1'] = clean_data[\"lieu\"].str.split(\"/\", expand=True)[0].str.strip()\n"
   ]
  },
  {
   "cell_type": "code",
   "execution_count": null,
   "metadata": {
    "colab": {
     "base_uri": "https://localhost:8080/",
     "height": 716
    },
    "id": "xMWEfmdnoGU-",
    "outputId": "c28dc825-7f05-4d68-81fc-73f3c11e922b"
   },
   "outputs": [],
   "source": [
    "# Display top 10 values of lieu and lieu_1\n",
    "fig, (ax1, ax2) = plt.subplots(2, 1, \n",
    "    figsize=(16,12),\n",
    ")\n",
    "\n",
    "clean_data['lieu'].value_counts().head(10).plot(\n",
    "    kind='barh', \n",
    "    ax=ax1,\n",
    "    title=\"Top 10 lieux sans découpage ' / '\",\n",
    ")\n",
    "\n",
    "clean_data['lieu_1'].value_counts().head(10).plot(\n",
    "    kind='barh', \n",
    "    ax=ax2,\n",
    "    title=\"Top 10 lieux avec découpage ' / '\",\n",
    ")\n",
    "\n",
    "plt.show()\n"
   ]
  },
  {
   "cell_type": "code",
   "execution_count": null,
   "metadata": {
    "id": "o7MBXmxvoGU-"
   },
   "outputs": [],
   "source": [
    "# Let's keep only the top values and merge the rest into \"Other\"\n",
    "for col in ['lieu', 'lieu_1', 'libelle_francais', 'genre', 'espece', 'variete']:\n",
    "    freq = clean_data[col].value_counts()\n",
    "    clean_data['top_'+col] = clean_data[col].where(\n",
    "        clean_data[col].isna() | clean_data[col].isin(freq.index[:20]), \n",
    "        other='Other', \n",
    "    )\n"
   ]
  },
  {
   "cell_type": "code",
   "execution_count": null,
   "metadata": {
    "colab": {
     "base_uri": "https://localhost:8080/",
     "height": 1000
    },
    "id": "-QGxxz63oGU-",
    "outputId": "f69eed04-a3f8-4dc2-899b-6b08b2f2edf6"
   },
   "outputs": [],
   "source": [
    "# Let's see if categories are well organised\n",
    "fig = px.parallel_categories(clean_data,\n",
    "    dimensions=['arrondissement', 'top_lieu_1', 'top_lieu'],\n",
    "    title=\"Classification des lieux\",\n",
    "    width=1000,\n",
    "    height=800,\n",
    ")\n",
    "fig.show()\n",
    "\n",
    "fig = px.parallel_categories(clean_data,\n",
    "    dimensions=['top_libelle_francais', 'top_genre', 'top_espece', 'top_variete'],\n",
    "    title=\"Classification des variétés d'arbres\",\n",
    "    width=1000,\n",
    "    height=800,\n",
    ")\n",
    "fig.show()\n"
   ]
  },
  {
   "cell_type": "markdown",
   "metadata": {
    "id": "raXOB4WcoGU_"
   },
   "source": [
    "## Améliorons la gestion des arbres\n",
    "\n",
    "Nous allons ici nous appuyer sur des analyses statistiques et des graphiques afin de voir comment il serait possible d'améliorer le service de gestion des arbres de Paris.\n"
   ]
  },
  {
   "cell_type": "markdown",
   "metadata": {
    "id": "MXdNHOcr6XDa"
   },
   "source": [
    "\n",
    "### Quels arbres faut-il mesurer à nouveau ?\n",
    "\n",
    "Pour la suite de l'analyse, nous allons éliminer les données abberrantes (\"outliers). Pour celà, nous allons utiliser le critère [IQR](https://en.wikipedia.org/wiki/Interquartile_range#Outliers). Nous allons considérer toutes les données de taille trop éloignées de la norme, ainsi que les valeurs égales à `0` comme des données aberrantes.\n",
    "\n",
    "Nous allons dans un premier temps afficher une cartographie de ces arbres, car ceux-ci devront être mesurés à nouveau afin d'améliorer la fiabilité de la gestion de nos arbres.\n",
    "Nous allons ensuite considérer ces données comme nulles (`NaN`).\n"
   ]
  },
  {
   "cell_type": "code",
   "execution_count": null,
   "metadata": {
    "colab": {
     "base_uri": "https://localhost:8080/",
     "height": 205
    },
    "id": "iEgQa8RaoGU_",
    "outputId": "94e75340-fbdc-47a7-a119-6cfddf8c2fbf"
   },
   "outputs": [],
   "source": [
    "# Let's work on a copy of our clean data.\n",
    "data = clean_data.copy()\n",
    "\n",
    "# First, let's consider zeros as NaN\n",
    "data['circonference_cm'].where(data['circonference_cm'] > 0, inplace=True)\n",
    "data['hauteur_m'].where(data['hauteur_m'] > 0, inplace=True)\n",
    "\n",
    "# Let's compute the InterQuartile range in order to identify outliers\n",
    "quartiles = data[['circonference_cm', 'hauteur_m']].quantile([0.25, 0.75])\n",
    "iqr = quartiles.loc[0.75]-quartiles.loc[0.25]\n",
    "limits = pd.DataFrame({\n",
    "    'circonference_cm': [\n",
    "        max(0, quartiles.loc[0.25,'circonference_cm'] - 1.5 * iqr['circonference_cm']), # min\n",
    "        quartiles.loc[0.75,'circonference_cm'] + 1.5 * iqr['circonference_cm'], # max\n",
    "    ],\n",
    "    'hauteur_m': [\n",
    "        max(0, quartiles.loc[0.25,'hauteur_m'] - 1.5 * iqr['hauteur_m']), # min\n",
    "        quartiles.loc[0.75,'hauteur_m'] + 1.5 * iqr['hauteur_m'], # max\n",
    "    ]\n",
    "}, index=['min', 'max'])\n",
    "\n",
    "display(quartiles, limits)\n"
   ]
  },
  {
   "cell_type": "markdown",
   "metadata": {
    "id": "N2KeFAb_oGVA"
   },
   "source": [
    "\n",
    "Nous voyons qu'un arbre \"normal\" aura :\n",
    "- une circonférence comprise entre 0 et 240 cm\n",
    "- une hauteur comprise entre 0 et 26 m\n",
    "\n",
    "Nous allons maintenant visualiser où sont situé ces arbres \"anormaux\" (outliers), afin de planifier les tournées de mesure de ces arbres.\n"
   ]
  },
  {
   "cell_type": "code",
   "execution_count": null,
   "metadata": {
    "id": "mDfbKXJdoGVA"
   },
   "outputs": [],
   "source": [
    "# outliers are the trees outside the IQR range\n",
    "outliers = clean_data[\n",
    "    ( clean_data['circonference_cm'] <= limits.loc['min','circonference_cm'] )\n",
    "    | ( clean_data['circonference_cm'] >= limits.loc['max','circonference_cm'] )\n",
    "    | ( clean_data['hauteur_m'] <= limits.loc['min','hauteur_m'] )\n",
    "    | ( clean_data['hauteur_m'] >= limits.loc['max','hauteur_m'] )\n",
    "]\n"
   ]
  },
  {
   "cell_type": "code",
   "execution_count": null,
   "metadata": {
    "colab": {
     "base_uri": "https://localhost:8080/",
     "height": 582
    },
    "id": "5kgWMDt-oGVA",
    "outputId": "5a137529-47c9-4495-e4de-0e6830aa1067"
   },
   "outputs": [],
   "source": [
    "# Count trees per burrough\n",
    "count_per_arrondissement = outliers['arrondissement'].value_counts().head(20)\n",
    "\n",
    "# resize figure\n",
    "plt.figure(figsize=(16,9))\n",
    "\n",
    "# plot horizontal bar chart\n",
    "plt.barh(\n",
    "    y=count_per_arrondissement.index,\n",
    "    width=count_per_arrondissement.values,\n",
    ")\n",
    "\n",
    "# add labels for the value of each bar\n",
    "for index, value in enumerate(count_per_arrondissement):\n",
    "    plt.text(y=index , x=value+1 , s=f\"{value}\")\n",
    "\n",
    "# add title and labels\n",
    "plt.xlabel(\"Nombre d'arbres\")\n",
    "plt.ylabel(\"Arrondissement\")\n",
    "plt.title(f\"Nombre d'arbres à re-mesurer par arrondissement.\\nTOTAL = { len(outliers) }\")\n",
    "\n",
    "# display the figure\n",
    "plt.show()\n"
   ]
  },
  {
   "cell_type": "code",
   "execution_count": null,
   "metadata": {
    "colab": {
     "base_uri": "https://localhost:8080/",
     "height": 817
    },
    "id": "Qj17zFWdoGVA",
    "outputId": "fa9cbaad-a174-4a0d-ba16-d755387a0ae8"
   },
   "outputs": [],
   "source": [
    "# Display the outliers on a map\n",
    "fig = px.density_mapbox(outliers, \n",
    "    lat='geo_point_2d_a', lon='geo_point_2d_b',\n",
    "    hover_data=['circonference_cm', 'hauteur_m', 'arrondissement', 'lieu', 'domanialite'],\n",
    "    radius=2,\n",
    "    zoom=10,\n",
    "    mapbox_style=\"open-street-map\",\n",
    "    title=\"Localisation des arbres à re-mesurer\",\n",
    "    width=1000,\n",
    "    height=800,\n",
    ")\n",
    "fig.show()\n"
   ]
  },
  {
   "cell_type": "markdown",
   "metadata": {
    "id": "_DVVW5EwoGVB"
   },
   "source": [
    "\n",
    "Nous voyons ici la carte des 44171 arbres qu'il faudrait mesurer à nouveau.\n",
    "\n",
    "En attendant que ces arbres soient mesurés à nouveau, nous allons maintenant les ignorer dans nos prochaines analyses : passer à `NaN` les valeurs aberrantes.\n"
   ]
  },
  {
   "cell_type": "code",
   "execution_count": null,
   "metadata": {
    "id": "WPheSxaJoGVD"
   },
   "outputs": [],
   "source": [
    "# set to NaN data that are outside the range\n",
    "for col in ['circonference_cm', 'hauteur_m']:\n",
    "    clean_data[col] = clean_data[col].where(( \n",
    "        ( limits.loc['min', col] < clean_data[col] )\n",
    "        & ( clean_data[col] < limits.loc['max', col] ) \n",
    "    ))\n"
   ]
  },
  {
   "cell_type": "markdown",
   "metadata": {
    "id": "PwNxixnpoGVG"
   },
   "source": [
    "### Quels arbres ont un développement anormal ?\n",
    "\n",
    "Afin de gérer efficacement le patrimoine arboricole, il faut être capable de détecter les potentiels arbres malades ou qui ont des problèmes de développement.\n",
    "\n",
    "Nous allons ici chercher quels abres semblent avoir un développement anormal et donc qu'il faudrait contrôler en priorité.\n"
   ]
  },
  {
   "cell_type": "code",
   "execution_count": null,
   "metadata": {
    "colab": {
     "base_uri": "https://localhost:8080/",
     "height": 1000
    },
    "id": "aw1tZBke0J6K",
    "outputId": "44f5926b-99f7-495a-af62-341a85ebd67d"
   },
   "outputs": [],
   "source": [
    "# Let's remove empty values\n",
    "clean_data_dropna = clean_data.dropna(subset=['circonference_cm', 'hauteur_m', 'stade_developpement', 'top_libelle_francais'])\n",
    "\n",
    "sns.jointplot(data=clean_data_dropna,\n",
    "    x=\"circonference_cm\", \n",
    "    y=\"hauteur_m\", \n",
    "    hue=\"stade_developpement\",\n",
    "    hue_order=['Jeune', 'Jeune Adulte', 'Adulte', 'Mature'],\n",
    "    height=10,\n",
    ")\n"
   ]
  },
  {
   "cell_type": "code",
   "execution_count": null,
   "metadata": {
    "colab": {
     "base_uri": "https://localhost:8080/",
     "height": 531
    },
    "id": "72vlSzAEoGVF",
    "outputId": "c2f4ef19-90bd-42a0-c01c-68cc24f4b3f5"
   },
   "outputs": [],
   "source": [
    "# Display box plots for trees height and circumference per development stage\n",
    "fig, (ax1, ax2) = plt.subplots(1, 2, figsize=(16,8))\n",
    "ax1.set_title(\"Hauteur par stade de développement\")\n",
    "ax2.set_title(\"Circonférence par stade de développement\")\n",
    "\n",
    "sns.boxplot(data=clean_data_dropna,\n",
    "    x=\"stade_developpement\", \n",
    "    y=\"hauteur_m\",\n",
    "    order=['Jeune', 'Jeune Adulte', 'Adulte', 'Mature'],\n",
    "    ax=ax1,\n",
    ")\n",
    "\n",
    "sns.boxplot(data=clean_data_dropna,\n",
    "    x=\"stade_developpement\", \n",
    "    y=\"circonference_cm\",\n",
    "    order=['Jeune', 'Jeune Adulte', 'Adulte', 'Mature'],\n",
    "    ax=ax2,\n",
    ")\n"
   ]
  },
  {
   "cell_type": "markdown",
   "metadata": {
    "id": "UzLz6vUp8cL-"
   },
   "source": [
    "Nous voyons qu'il y a des arbres qui ont une taille anormale par rapport à leur stade de développement. Il faudrait contrôler leur santé et leur apporter les soins nécessaires (engrais, arrosage, traitements, ...).\n"
   ]
  },
  {
   "cell_type": "markdown",
   "metadata": {
    "id": "xQCq-dhEoGVD"
   },
   "source": [
    "\n",
    "### Où sont situés les arbres qui vont nécessiter le plus d'entretien ?\n",
    "\n",
    "Plus un arbre est grand, plus il nécessitera de techniciens, de temps, de matériel, d'arrosage et de produits pour son entretien. Maintenant que nous avons éliminé les valeurs aberrantes, nous allons cartographier les arbres en les pondérant avec leur hauteur.\n"
   ]
  },
  {
   "cell_type": "code",
   "execution_count": null,
   "metadata": {
    "colab": {
     "base_uri": "https://localhost:8080/",
     "height": 817
    },
    "id": "yZRqozHQoGVD",
    "outputId": "f320cfc1-5897-4aff-8bc4-f60ad8ac2fc3"
   },
   "outputs": [],
   "source": [
    "# Display the trees on a map, weighted by size\n",
    "fig = px.density_mapbox(clean_data, \n",
    "    lat='geo_point_2d_a', lon='geo_point_2d_b',\n",
    "    z='hauteur_m',\n",
    "    hover_data=['circonference_cm', 'hauteur_m', 'arrondissement', 'lieu', 'domanialite'],\n",
    "    radius=2,\n",
    "    zoom=10,\n",
    "    mapbox_style=\"open-street-map\",\n",
    "    title=\"Localisation des arbres nécessitant le plus de moyens\",\n",
    "    width=1000,\n",
    "    height=800,\n",
    ")\n",
    "fig.show()\n"
   ]
  },
  {
   "cell_type": "markdown",
   "metadata": {
    "id": "sq9fEGRJoGVD"
   },
   "source": [
    "### Quels sont les arbres les plus plantés actuellement ?\n",
    "\n",
    "Nous allons travailler sur les données de catégories d'arbes, en se limitant aux valeurs les plus représentatives. Nous allons chercher à observer quel sont les types d'arbres les plus représentés selon leur type, et leur localisation.\n"
   ]
  },
  {
   "cell_type": "code",
   "execution_count": null,
   "metadata": {
    "colab": {
     "base_uri": "https://localhost:8080/",
     "height": 542
    },
    "id": "3mf20PxLoGVE",
    "outputId": "9837c6ae-d3dd-491a-aba2-4c780c9732b6"
   },
   "outputs": [],
   "source": [
    "# Visualize repartition of type of trees\n",
    "freq = clean_data['top_libelle_francais'].value_counts()\n",
    "fig = px.pie(freq,\n",
    "    names=freq.index, \n",
    "    values=freq.values,\n",
    "    title=\"Types d'arbres\",\n",
    ")\n",
    "fig.update_traces(\n",
    "    textposition='inside',\n",
    "    textinfo='percent+label'\n",
    ")\n",
    "fig.show()\n"
   ]
  },
  {
   "cell_type": "markdown",
   "metadata": {
    "id": "_2GMVaMEoGVE"
   },
   "source": [
    "Nous voyons ici que seules 4 essences d'abres représentent plus de 50% des arbres plantés. Cette information est importante pour adapter le matériel et les produits nécessaires à l'enretien des arbres.\n",
    "Cette information montre aussi qu'il pourrait y avoir un problème diversité des essences et donc de résilience du parc arboricole de Paris.\n"
   ]
  },
  {
   "cell_type": "code",
   "execution_count": null,
   "metadata": {
    "colab": {
     "base_uri": "https://localhost:8080/",
     "height": 817
    },
    "id": "iC_90-f1oGVE",
    "outputId": "4ff4636f-5b74-4829-8da8-a26b16174d52"
   },
   "outputs": [],
   "source": [
    "# Most common trees per burrough\n",
    "table = clean_data.pivot_table(\n",
    "    values='id',\n",
    "    index='arrondissement',\n",
    "    columns='top_libelle_francais',\n",
    "    aggfunc='count',\n",
    "    observed=True,\n",
    ")\n",
    "fig = px.imshow(table,\n",
    "    title=\"Type d'arbre par arrondissement\",\n",
    "    width=1000,\n",
    "    height=800,\n",
    ")\n",
    "fig.show()\n"
   ]
  },
  {
   "cell_type": "markdown",
   "metadata": {
    "id": "DQXPQvgKoGVE"
   },
   "source": [
    "Nous voyons ici que nous avons beaucoup de peupliers, notamment dans le 7ème, le 12ème et le 16ème, ainsi que des marroniers dans le 8ème et le 16ème arrondissement.\n",
    "Cette information permet de dimensionner et répartire géographiquement les équipes et le matériel en fonction des types d'arbres plantés dans chaque arrondissement.\n"
   ]
  },
  {
   "cell_type": "code",
   "execution_count": null,
   "metadata": {
    "colab": {
     "base_uri": "https://localhost:8080/",
     "height": 417
    },
    "id": "CrBfARyGoGVF",
    "outputId": "8318f54a-73fe-4d97-da24-4e04f4ffba14"
   },
   "outputs": [],
   "source": [
    "# Most common trees per age\n",
    "table = clean_data.pivot_table(\n",
    "    values='id',\n",
    "    index='stade_developpement',\n",
    "    columns='top_libelle_francais',\n",
    "    aggfunc='count',\n",
    "    observed=True,\n",
    ")\n",
    "fig = px.imshow(table,\n",
    "    title=\"Type d'arbre par stade de développement\",\n",
    "    width=1000,\n",
    "    height=400,\n",
    ")\n",
    "fig.show()\n"
   ]
  },
  {
   "cell_type": "markdown",
   "metadata": {
    "id": "e1e63a7koGVF"
   },
   "source": [
    "Nous voyons ici que la plupart des arbres sont des platanes adultes.\n",
    "Cette information permet d'optimiser les achats et le stockage du materiel et des produits adaptés spécifiquement à l'entretien de ces arbres."
   ]
  },
  {
   "cell_type": "markdown",
   "metadata": {},
   "source": [
    "---\n",
    "\n",
    "_[Licence GPL-v3](https://github.com/fleuryc/oc_ingenieur-ia_P2-Participez-a-un-concours-sur-la-Smart-City/blob/main/LICENSE)_\n"
   ]
  }
 ],
 "metadata": {
  "colab": {
   "include_colab_link": true,
   "name": "main.ipynb",
   "provenance": []
  },
  "interpreter": {
   "hash": "a9cd86936e2ed79c88e354605985c1d2e1f30b04e4ab0c2ca683da4978857858"
  },
  "kernelspec": {
   "name": "python3",
   "display_name": "Python 3.9.5 64-bit ('env')"
  },
  "language_info": {
   "codemirror_mode": {
    "name": "ipython",
    "version": 3
   },
   "file_extension": ".py",
   "mimetype": "text/x-python",
   "name": "python",
   "nbconvert_exporter": "python",
   "pygments_lexer": "ipython3",
   "version": "3.9.5"
  },
  "metadata": {
   "interpreter": {
    "hash": "c90de28d937fea21fa0e8c0b21949a1a37ba0cff78a53465482821b458660fc2"
   }
  }
 },
 "nbformat": 4,
 "nbformat_minor": 4
}