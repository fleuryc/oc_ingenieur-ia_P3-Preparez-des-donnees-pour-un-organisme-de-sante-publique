{
 "cells": [
  {
   "cell_type": "markdown",
   "metadata": {},
   "source": [
    "_See [Readme](https://github.com/fleuryc/oc_ingenieur-ia_P2-Participez-a-un-concours-sur-la-Smart-City#readme) for installation instructions_\n",
    "\n",
    "---\n"
   ]
  },
  {
   "cell_type": "markdown",
   "metadata": {
    "id": "UzWluS1-oGUv"
   },
   "source": [
    "# Concours Data is for Good : aidons Paris à devenir une smart-city !\n",
    "\n",
    "## Contexte\n",
    "\n",
    "Dans le cadre du programme \"Végétalisons la ville\" organisé par la ville de Paris, nous proposons ici une analyse exploratoire des données OpenData concernant les arbres gérés par la ville de Paris.\n",
    "\n",
    "L'objectif est d'aider Paris à devenir une \"Smart-City\" en gérant ses arbres de la manière la plus responsable possible. C'est-à-dire en optimisant les trajets nécessaires pour entretenir ces arbres.\n"
   ]
  },
  {
   "cell_type": "markdown",
   "metadata": {
    "id": "yBTTD_CeoGUz"
   },
   "source": [
    "## Outils utilisés\n",
    "\n",
    "Nous allons utiliser le langage Python, et présenter ici le code, les résultats et l'analyse sous forme de [Notebook Jupyter](https://jupyterlab.readthedocs.io/en/stable/getting_started/overview.html).\n",
    "\n",
    "Nous allons aussi utiliser les bibliothèques usuelles d'exploration et analyse de données, afin d'améliorer la simplicité et la performance de notre code :\n",
    "* [NumPy](https://numpy.org/doc/stable/user/quickstart.html) et [Pandas](https://pandas.pydata.org/docs/user_guide/index.html) : effectuer des calculs scientifiques (statistiques, algèbre, ...) et manipuler des séries et tableaux de données volumineuses et complexes\n",
    "* [Matplotlib](https://matplotlib.org/stable/tutorials/introductory/usage.html), [Pyplot](https://matplotlib.org/stable/tutorials/introductory/pyplot.html), [Seaborn](https://seaborn.pydata.org/tutorial/function_overview.html) et [Plotly](https://plotly.com/python/getting-started/) : générer des graphiques lisibles, intéractifs et pertinents\n"
   ]
  },
  {
   "cell_type": "code",
   "execution_count": 14,
   "metadata": {
    "id": "d6fgKy6soGU0"
   },
   "outputs": [],
   "source": [
    "# Import libraries\n",
    "import os.path\n",
    "from zipfile import ZipFile as zf\n",
    "import requests\n",
    "\n",
    "import numpy as np\n",
    "import pandas as pd\n",
    "import matplotlib.pyplot as plt\n",
    "import seaborn as sns\n",
    "import plotly.express as px\n",
    "import plotly.graph_objects as go\n",
    "from plotly.subplots import make_subplots\n",
    "\n",
    "## If you use Notebook (and not JupyterLab), uncomment following lines\n",
    "# import plotly.io as pio\n",
    "# pio.renderers.default='notebook'\n"
   ]
  },
  {
   "cell_type": "markdown",
   "metadata": {
    "id": "-ELpBWaboGU1"
   },
   "source": [
    "## Chargement des données et premier aperçu\n",
    "\n",
    "Les données mises à disposition sont issues de  [opendata.paris.fr](https://opendata.paris.fr/explore/dataset/les-arbres/information/) et représentent \"l’ensemble des arbres, ainsi que les arbres d’alignement, présents sur le territoire parisien et des cimetières extra-muros (hors de Paris).\"\n",
    "\n",
    "\n",
    "\n",
    "Nous allons dans un premier temps simplement charger les données en mémoire et observer quelques valeurs."
   ]
  },
  {
   "cell_type": "code",
   "execution_count": 15,
   "metadata": {},
   "outputs": [
    {
     "output_type": "stream",
     "name": "stderr",
     "text": [
      "/home/clement/.local/lib/python3.9/site-packages/IPython/core/interactiveshell.py:3169: DtypeWarning: Columns (0,3,5,19,20,24,25,26,27,28,35,36,37,38,39,48) have mixed types.Specify dtype option on import or set low_memory=False.\n",
      "  has_raised = await self.run_ast_nodes(code_ast.body, cell_name,\n",
      "<class 'pandas.core.frame.DataFrame'>\n",
      "RangeIndex: 320772 entries, 0 to 320771\n",
      "Columns: 162 entries, code to water-hardness_100g\n",
      "dtypes: float64(106), object(56)\n",
      "memory usage: 396.5+ MB\n"
     ]
    }
   ],
   "source": [
    "\n",
    "data_local_path = 'data/'\n",
    "csv_filename = 'fr.openfoodfacts.org.products.csv'\n",
    "csv_local_path = data_local_path+csv_filename\n",
    "\n",
    "if not os.path.isfile(csv_local_path):\n",
    "    zip_filename = csv_filename+'.zip'\n",
    "    zip_url = 'https://s3-eu-west-1.amazonaws.com/static.oc-static.com/prod/courses/files/parcours-data-scientist/P2/'+zip_filename\n",
    "    zip_local_path = data_local_path+zip_filename\n",
    "\n",
    "    r = requests.get(zip_url)\n",
    "    with open(zip_local_path, 'wb') as f:\n",
    "        f.write(r.content)\n",
    "\n",
    "    with zf(zip_local_path, 'r') as zip_file:\n",
    "        zip_file.extractall(data_local_path)\n",
    "\n",
    "raw_data = pd.read_csv(csv_local_path, sep='\\t')\n",
    "\n",
    "# Display data types and empty values\n",
    "raw_data.info()\n"
   ]
  },
  {
   "cell_type": "code",
   "execution_count": 55,
   "metadata": {},
   "outputs": [
    {
     "output_type": "display_data",
     "data": {
      "application/vnd.plotly.v1+json": {
       "config": {
        "plotlyServerURL": "https://plot.ly"
       },
       "data": [
        {
         "alignmentgroup": "True",
         "customdata": [
          [
           0
          ],
          [
           0
          ],
          [
           2
          ],
          [
           3
          ],
          [
           9
          ],
          [
           23
          ],
          [
           23
          ],
          [
           46
          ],
          [
           46
          ],
          [
           46
          ],
          [
           280
          ],
          [
           280
          ],
          [
           280
          ],
          [
           17762
          ],
          [
           28412
          ],
          [
           28420
          ],
          [
           59659
          ],
          [
           60850
          ],
          [
           65262
          ],
          [
           65309
          ],
          [
           71810
          ],
          [
           71833
          ],
          [
           71833
          ],
          [
           71833
          ],
          [
           71867
          ],
          [
           75801
          ],
          [
           76881
          ],
          [
           77184
          ],
          [
           91218
          ],
          [
           99562
          ],
          [
           99562
          ],
          [
           99562
          ],
          [
           109441
          ],
          [
           119886
          ],
          [
           166092
          ],
          [
           166092
          ],
          [
           176682
          ],
          [
           177474
          ],
          [
           179722
          ],
          [
           179905
          ],
          [
           180310
          ],
          [
           183218
          ],
          [
           215953
          ],
          [
           226281
          ],
          [
           229259
          ],
          [
           236361
          ],
          [
           236362
          ],
          [
           236383
          ],
          [
           236406
          ],
          [
           236406
          ],
          [
           241811
          ],
          [
           241812
          ],
          [
           244936
          ],
          [
           244936
          ],
          [
           262579
          ],
          [
           267977
          ],
          [
           269050
          ],
          [
           274106
          ],
          [
           274128
          ],
          [
           274213
          ],
          [
           284271
          ],
          [
           284277
          ],
          [
           291466
          ],
          [
           291469
          ],
          [
           292428
          ],
          [
           296024
          ],
          [
           296419
          ],
          [
           296420
          ],
          [
           296443
          ],
          [
           297913
          ],
          [
           297949
          ],
          [
           298582
          ],
          [
           298619
          ],
          [
           300452
          ],
          [
           301969
          ],
          [
           309043
          ],
          [
           309076
          ],
          [
           309618
          ],
          [
           309957
          ],
          [
           313715
          ],
          [
           313988
          ],
          [
           314519
          ],
          [
           314927
          ],
          [
           315472
          ],
          [
           315532
          ],
          [
           315937
          ],
          [
           316639
          ],
          [
           316843
          ],
          [
           317730
          ],
          [
           317736
          ],
          [
           318289
          ],
          [
           318666
          ],
          [
           319152
          ],
          [
           319432
          ],
          [
           319604
          ],
          [
           319824
          ],
          [
           319854
          ],
          [
           319915
          ],
          [
           319931
          ],
          [
           320358
          ],
          [
           320442
          ],
          [
           320504
          ],
          [
           320506
          ],
          [
           320510
          ],
          [
           320513
          ],
          [
           320584
          ],
          [
           320586
          ],
          [
           320607
          ],
          [
           320614
          ],
          [
           320623
          ],
          [
           320691
          ],
          [
           320693
          ],
          [
           320694
          ],
          [
           320694
          ],
          [
           320700
          ],
          [
           320723
          ],
          [
           320734
          ],
          [
           320734
          ],
          [
           320734
          ],
          [
           320738
          ],
          [
           320743
          ],
          [
           320745
          ],
          [
           320746
          ],
          [
           320748
          ],
          [
           320748
          ],
          [
           320749
          ],
          [
           320749
          ],
          [
           320749
          ],
          [
           320751
          ],
          [
           320752
          ],
          [
           320753
          ],
          [
           320756
          ],
          [
           320758
          ],
          [
           320759
          ],
          [
           320761
          ],
          [
           320761
          ],
          [
           320763
          ],
          [
           320764
          ],
          [
           320768
          ],
          [
           320768
          ],
          [
           320770
          ],
          [
           320771
          ],
          [
           320771
          ],
          [
           320771
          ],
          [
           320771
          ],
          [
           320771
          ],
          [
           320772
          ],
          [
           320772
          ],
          [
           320772
          ],
          [
           320772
          ],
          [
           320772
          ],
          [
           320772
          ],
          [
           320772
          ],
          [
           320772
          ],
          [
           320772
          ],
          [
           320772
          ],
          [
           320772
          ],
          [
           320772
          ],
          [
           320772
          ],
          [
           320772
          ],
          [
           320772
          ],
          [
           320772
          ]
         ],
         "hovertemplate": "column name=%{x}<br>% of empty values=%{marker.color}<br># of empty values=%{customdata[0]}<extra></extra>",
         "legendgroup": "",
         "marker": {
          "color": [
           0,
           0,
           0.0006234958163430723,
           0.0009352437245146086,
           0.0028057311735438253,
           0.007170201887945333,
           0.007170201887945333,
           0.014340403775890666,
           0.014340403775890666,
           0.014340403775890666,
           0.08728941428803012,
           0.08728941428803012,
           0.08728941428803012,
           5.537266344942825,
           8.857381566969686,
           8.859875550235058,
           18.598568453605676,
           18.969860212237975,
           20.345291983090792,
           20.359944134774853,
           22.386617285798014,
           22.393787487685955,
           22.393787487685955,
           22.393787487685955,
           22.40438691656379,
           23.630803187310615,
           23.967490928135874,
           24.06195054431185,
           28.437020687591186,
           31.038245233374482,
           31.038245233374482,
           31.038245233374482,
           34.118002818201084,
           37.374209719052786,
           51.77883356402678,
           51.77883356402678,
           55.08024391156335,
           55.327148254835215,
           56.02795755240483,
           56.08500741960022,
           56.21126532240969,
           57.117828239372514,
           67.32289601336775,
           70.54262840896337,
           71.47101367949821,
           73.68504732333247,
           73.68535907124063,
           73.69190577731224,
           73.69907597920017,
           73.69907597920017,
           75.38407342286733,
           75.3843851707755,
           76.35828563590337,
           76.35828563590337,
           81.8584539797738,
           83.54126918808375,
           83.8757746935518,
           85.45197211726709,
           85.45883057124686,
           85.48532914344145,
           88.62088960383076,
           88.62276009127979,
           90.86391580312497,
           90.86485104684947,
           91.16381729078597,
           92.28486276857082,
           92.40800319229858,
           92.40831494020675,
           92.4154851420947,
           92.87375456710686,
           92.88497749180104,
           93.08231391767362,
           93.09384859027597,
           93.66528250595438,
           94.1382040826506,
           96.34350878505606,
           96.35379646602571,
           96.52276383225468,
           96.62844637312483,
           97.79999501203346,
           97.8851021909643,
           98.0506403302034,
           98.17783347673738,
           98.34773608669086,
           98.36644096118114,
           98.49269886399063,
           98.71154589552704,
           98.77514246879403,
           99.05166286334219,
           99.05353335079121,
           99.22592994401008,
           99.34345890539075,
           99.4949683887621,
           99.58225780305014,
           99.63587844325565,
           99.70446298305339,
           99.71381542029853,
           99.732832042697,
           99.73782000922775,
           99.87093636601698,
           99.89712319030339,
           99.91645156061003,
           99.91707505642637,
           99.91832204805905,
           99.91925729178357,
           99.94139139326376,
           99.9420148890801,
           99.9485615951517,
           99.9507438305089,
           99.95354956168244,
           99.97474841943811,
           99.97537191525446,
           99.97568366316261,
           99.97568366316261,
           99.97755415061165,
           99.9847243524996,
           99.98815357948948,
           99.98815357948948,
           99.98815357948948,
           99.98940057112216,
           99.99095931066303,
           99.99158280647937,
           99.99189455438754,
           99.99251805020388,
           99.99251805020388,
           99.99282979811206,
           99.99282979811206,
           99.99282979811206,
           99.9934532939284,
           99.99376504183657,
           99.99407678974475,
           99.99501203346925,
           99.9956355292856,
           99.99594727719378,
           99.99657077301012,
           99.99657077301012,
           99.99719426882646,
           99.99750601673463,
           99.99875300836732,
           99.99875300836732,
           99.99937650418366,
           99.99968825209183,
           99.99968825209183,
           99.99968825209183,
           99.99968825209183,
           99.99968825209183,
           100,
           100,
           100,
           100,
           100,
           100,
           100,
           100,
           100,
           100,
           100,
           100,
           100,
           100,
           100,
           100
          ],
          "coloraxis": "coloraxis"
         },
         "name": "",
         "offsetgroup": "",
         "orientation": "v",
         "showlegend": false,
         "textposition": "auto",
         "type": "bar",
         "x": [
          "last_modified_t",
          "last_modified_datetime",
          "creator",
          "created_t",
          "created_datetime",
          "code",
          "url",
          "states",
          "states_tags",
          "states_fr",
          "countries_fr",
          "countries",
          "countries_tags",
          "product_name",
          "brands",
          "brands_tags",
          "energy_100g",
          "proteins_100g",
          "salt_100g",
          "sodium_100g",
          "ingredients_text",
          "ingredients_that_may_be_from_palm_oil_n",
          "additives_n",
          "ingredients_from_palm_oil_n",
          "additives",
          "sugars_100g",
          "fat_100g",
          "carbohydrates_100g",
          "saturated-fat_100g",
          "nutrition-score-uk_100g",
          "nutrition-score-fr_100g",
          "nutrition_grade_fr",
          "serving_size",
          "fiber_100g",
          "additives_fr",
          "additives_tags",
          "cholesterol_100g",
          "trans-fat_100g",
          "calcium_100g",
          "vitamin-c_100g",
          "iron_100g",
          "vitamin-a_100g",
          "quantity",
          "pnns_groups_2",
          "pnns_groups_1",
          "categories_fr",
          "categories",
          "categories_tags",
          "main_category",
          "main_category_fr",
          "packaging_tags",
          "packaging",
          "image_small_url",
          "image_url",
          "purchase_places",
          "generic_name",
          "stores",
          "labels_fr",
          "labels_tags",
          "labels",
          "manufacturing_places",
          "manufacturing_places_tags",
          "emb_codes",
          "emb_codes_tags",
          "allergens",
          "potassium_100g",
          "traces",
          "traces_fr",
          "traces_tags",
          "polyunsaturated-fat_100g",
          "monounsaturated-fat_100g",
          "origins",
          "origins_tags",
          "cities_tags",
          "first_packaging_code_geo",
          "vitamin-pp_100g",
          "ingredients_that_may_be_from_palm_oil_tags",
          "vitamin-b1_100g",
          "vitamin-b2_100g",
          "vitamin-d_100g",
          "vitamin-b6_100g",
          "magnesium_100g",
          "phosphorus_100g",
          "vitamin-b12_100g",
          "vitamin-b9_100g",
          "ingredients_from_palm_oil_tags",
          "alcohol_100g",
          "zinc_100g",
          "folates_100g",
          "fruits-vegetables-nuts_100g",
          "pantothenic-acid_100g",
          "copper_100g",
          "manganese_100g",
          "vitamin-e_100g",
          "selenium_100g",
          "cocoa_100g",
          "vitamin-k_100g",
          "energy-from-fat_100g",
          "omega-3-fat_100g",
          "polyols_100g",
          "biotin_100g",
          "carbon-footprint_100g",
          "starch_100g",
          "lactose_100g",
          "iodine_100g",
          "omega-6-fat_100g",
          "alpha-linolenic-acid_100g",
          "collagen-meat-protein-ratio_100g",
          "chloride_100g",
          "linoleic-acid_100g",
          "bicarbonate_100g",
          "fluoride_100g",
          "caffeine_100g",
          "docosahexaenoic-acid_100g",
          "sucrose_100g",
          "ph_100g",
          "fructose_100g",
          "silica_100g",
          "eicosapentaenoic-acid_100g",
          "beta-carotene_100g",
          "taurine_100g",
          "casein_100g",
          "glucose_100g",
          "gamma-linolenic-acid_100g",
          "arachidic-acid_100g",
          "dihomo-gamma-linolenic-acid_100g",
          "behenic-acid_100g",
          "cities",
          "omega-9-fat_100g",
          "chromium_100g",
          "allergens_fr",
          "serum-proteins_100g",
          "gondoic-acid_100g",
          "oleic-acid_100g",
          "maltodextrins_100g",
          "molybdenum_100g",
          "nucleotides_100g",
          "arachidonic-acid_100g",
          "maltose_100g",
          "lauric-acid_100g",
          "capric-acid_100g",
          "myristic-acid_100g",
          "stearic-acid_100g",
          "caprylic-acid_100g",
          "montanic-acid_100g",
          "palmitic-acid_100g",
          "chlorophyl_100g",
          "melissic-acid_100g",
          "erucic-acid_100g",
          "mead-acid_100g",
          "elaidic-acid_100g",
          "glycemic-index_100g",
          "cerotic-acid_100g",
          "lignoceric-acid_100g",
          "caproic-acid_100g",
          "butyric-acid_100g",
          "nutrition_grade_uk",
          "ingredients_that_may_be_from_palm_oil",
          "ingredients_from_palm_oil",
          "no_nutriments",
          "nervonic-acid_100g",
          "water-hardness_100g"
         ],
         "xaxis": "x",
         "y": [
          0,
          0,
          0.0006234958163430723,
          0.0009352437245146086,
          0.0028057311735438253,
          0.007170201887945333,
          0.007170201887945333,
          0.014340403775890666,
          0.014340403775890666,
          0.014340403775890666,
          0.08728941428803012,
          0.08728941428803012,
          0.08728941428803012,
          5.537266344942825,
          8.857381566969686,
          8.859875550235058,
          18.598568453605676,
          18.969860212237975,
          20.345291983090792,
          20.359944134774853,
          22.386617285798014,
          22.393787487685955,
          22.393787487685955,
          22.393787487685955,
          22.40438691656379,
          23.630803187310615,
          23.967490928135874,
          24.06195054431185,
          28.437020687591186,
          31.038245233374482,
          31.038245233374482,
          31.038245233374482,
          34.118002818201084,
          37.374209719052786,
          51.77883356402678,
          51.77883356402678,
          55.08024391156335,
          55.327148254835215,
          56.02795755240483,
          56.08500741960022,
          56.21126532240969,
          57.117828239372514,
          67.32289601336775,
          70.54262840896337,
          71.47101367949821,
          73.68504732333247,
          73.68535907124063,
          73.69190577731224,
          73.69907597920017,
          73.69907597920017,
          75.38407342286733,
          75.3843851707755,
          76.35828563590337,
          76.35828563590337,
          81.8584539797738,
          83.54126918808375,
          83.8757746935518,
          85.45197211726709,
          85.45883057124686,
          85.48532914344145,
          88.62088960383076,
          88.62276009127979,
          90.86391580312497,
          90.86485104684947,
          91.16381729078597,
          92.28486276857082,
          92.40800319229858,
          92.40831494020675,
          92.4154851420947,
          92.87375456710686,
          92.88497749180104,
          93.08231391767362,
          93.09384859027597,
          93.66528250595438,
          94.1382040826506,
          96.34350878505606,
          96.35379646602571,
          96.52276383225468,
          96.62844637312483,
          97.79999501203346,
          97.8851021909643,
          98.0506403302034,
          98.17783347673738,
          98.34773608669086,
          98.36644096118114,
          98.49269886399063,
          98.71154589552704,
          98.77514246879403,
          99.05166286334219,
          99.05353335079121,
          99.22592994401008,
          99.34345890539075,
          99.4949683887621,
          99.58225780305014,
          99.63587844325565,
          99.70446298305339,
          99.71381542029853,
          99.732832042697,
          99.73782000922775,
          99.87093636601698,
          99.89712319030339,
          99.91645156061003,
          99.91707505642637,
          99.91832204805905,
          99.91925729178357,
          99.94139139326376,
          99.9420148890801,
          99.9485615951517,
          99.9507438305089,
          99.95354956168244,
          99.97474841943811,
          99.97537191525446,
          99.97568366316261,
          99.97568366316261,
          99.97755415061165,
          99.9847243524996,
          99.98815357948948,
          99.98815357948948,
          99.98815357948948,
          99.98940057112216,
          99.99095931066303,
          99.99158280647937,
          99.99189455438754,
          99.99251805020388,
          99.99251805020388,
          99.99282979811206,
          99.99282979811206,
          99.99282979811206,
          99.9934532939284,
          99.99376504183657,
          99.99407678974475,
          99.99501203346925,
          99.9956355292856,
          99.99594727719378,
          99.99657077301012,
          99.99657077301012,
          99.99719426882646,
          99.99750601673463,
          99.99875300836732,
          99.99875300836732,
          99.99937650418366,
          99.99968825209183,
          99.99968825209183,
          99.99968825209183,
          99.99968825209183,
          99.99968825209183,
          100,
          100,
          100,
          100,
          100,
          100,
          100,
          100,
          100,
          100,
          100,
          100,
          100,
          100,
          100,
          100
         ],
         "yaxis": "y"
        }
       ],
       "layout": {
        "barmode": "relative",
        "coloraxis": {
         "colorbar": {
          "title": {
           "text": "% of empty values"
          }
         },
         "colorscale": [
          [
           0,
           "#0d0887"
          ],
          [
           0.1111111111111111,
           "#46039f"
          ],
          [
           0.2222222222222222,
           "#7201a8"
          ],
          [
           0.3333333333333333,
           "#9c179e"
          ],
          [
           0.4444444444444444,
           "#bd3786"
          ],
          [
           0.5555555555555556,
           "#d8576b"
          ],
          [
           0.6666666666666666,
           "#ed7953"
          ],
          [
           0.7777777777777778,
           "#fb9f3a"
          ],
          [
           0.8888888888888888,
           "#fdca26"
          ],
          [
           1,
           "#f0f921"
          ]
         ]
        },
        "height": 800,
        "legend": {
         "tracegroupgap": 0
        },
        "template": {
         "data": {
          "bar": [
           {
            "error_x": {
             "color": "#2a3f5f"
            },
            "error_y": {
             "color": "#2a3f5f"
            },
            "marker": {
             "line": {
              "color": "#E5ECF6",
              "width": 0.5
             }
            },
            "type": "bar"
           }
          ],
          "barpolar": [
           {
            "marker": {
             "line": {
              "color": "#E5ECF6",
              "width": 0.5
             }
            },
            "type": "barpolar"
           }
          ],
          "carpet": [
           {
            "aaxis": {
             "endlinecolor": "#2a3f5f",
             "gridcolor": "white",
             "linecolor": "white",
             "minorgridcolor": "white",
             "startlinecolor": "#2a3f5f"
            },
            "baxis": {
             "endlinecolor": "#2a3f5f",
             "gridcolor": "white",
             "linecolor": "white",
             "minorgridcolor": "white",
             "startlinecolor": "#2a3f5f"
            },
            "type": "carpet"
           }
          ],
          "choropleth": [
           {
            "colorbar": {
             "outlinewidth": 0,
             "ticks": ""
            },
            "type": "choropleth"
           }
          ],
          "contour": [
           {
            "colorbar": {
             "outlinewidth": 0,
             "ticks": ""
            },
            "colorscale": [
             [
              0,
              "#0d0887"
             ],
             [
              0.1111111111111111,
              "#46039f"
             ],
             [
              0.2222222222222222,
              "#7201a8"
             ],
             [
              0.3333333333333333,
              "#9c179e"
             ],
             [
              0.4444444444444444,
              "#bd3786"
             ],
             [
              0.5555555555555556,
              "#d8576b"
             ],
             [
              0.6666666666666666,
              "#ed7953"
             ],
             [
              0.7777777777777778,
              "#fb9f3a"
             ],
             [
              0.8888888888888888,
              "#fdca26"
             ],
             [
              1,
              "#f0f921"
             ]
            ],
            "type": "contour"
           }
          ],
          "contourcarpet": [
           {
            "colorbar": {
             "outlinewidth": 0,
             "ticks": ""
            },
            "type": "contourcarpet"
           }
          ],
          "heatmap": [
           {
            "colorbar": {
             "outlinewidth": 0,
             "ticks": ""
            },
            "colorscale": [
             [
              0,
              "#0d0887"
             ],
             [
              0.1111111111111111,
              "#46039f"
             ],
             [
              0.2222222222222222,
              "#7201a8"
             ],
             [
              0.3333333333333333,
              "#9c179e"
             ],
             [
              0.4444444444444444,
              "#bd3786"
             ],
             [
              0.5555555555555556,
              "#d8576b"
             ],
             [
              0.6666666666666666,
              "#ed7953"
             ],
             [
              0.7777777777777778,
              "#fb9f3a"
             ],
             [
              0.8888888888888888,
              "#fdca26"
             ],
             [
              1,
              "#f0f921"
             ]
            ],
            "type": "heatmap"
           }
          ],
          "heatmapgl": [
           {
            "colorbar": {
             "outlinewidth": 0,
             "ticks": ""
            },
            "colorscale": [
             [
              0,
              "#0d0887"
             ],
             [
              0.1111111111111111,
              "#46039f"
             ],
             [
              0.2222222222222222,
              "#7201a8"
             ],
             [
              0.3333333333333333,
              "#9c179e"
             ],
             [
              0.4444444444444444,
              "#bd3786"
             ],
             [
              0.5555555555555556,
              "#d8576b"
             ],
             [
              0.6666666666666666,
              "#ed7953"
             ],
             [
              0.7777777777777778,
              "#fb9f3a"
             ],
             [
              0.8888888888888888,
              "#fdca26"
             ],
             [
              1,
              "#f0f921"
             ]
            ],
            "type": "heatmapgl"
           }
          ],
          "histogram": [
           {
            "marker": {
             "colorbar": {
              "outlinewidth": 0,
              "ticks": ""
             }
            },
            "type": "histogram"
           }
          ],
          "histogram2d": [
           {
            "colorbar": {
             "outlinewidth": 0,
             "ticks": ""
            },
            "colorscale": [
             [
              0,
              "#0d0887"
             ],
             [
              0.1111111111111111,
              "#46039f"
             ],
             [
              0.2222222222222222,
              "#7201a8"
             ],
             [
              0.3333333333333333,
              "#9c179e"
             ],
             [
              0.4444444444444444,
              "#bd3786"
             ],
             [
              0.5555555555555556,
              "#d8576b"
             ],
             [
              0.6666666666666666,
              "#ed7953"
             ],
             [
              0.7777777777777778,
              "#fb9f3a"
             ],
             [
              0.8888888888888888,
              "#fdca26"
             ],
             [
              1,
              "#f0f921"
             ]
            ],
            "type": "histogram2d"
           }
          ],
          "histogram2dcontour": [
           {
            "colorbar": {
             "outlinewidth": 0,
             "ticks": ""
            },
            "colorscale": [
             [
              0,
              "#0d0887"
             ],
             [
              0.1111111111111111,
              "#46039f"
             ],
             [
              0.2222222222222222,
              "#7201a8"
             ],
             [
              0.3333333333333333,
              "#9c179e"
             ],
             [
              0.4444444444444444,
              "#bd3786"
             ],
             [
              0.5555555555555556,
              "#d8576b"
             ],
             [
              0.6666666666666666,
              "#ed7953"
             ],
             [
              0.7777777777777778,
              "#fb9f3a"
             ],
             [
              0.8888888888888888,
              "#fdca26"
             ],
             [
              1,
              "#f0f921"
             ]
            ],
            "type": "histogram2dcontour"
           }
          ],
          "mesh3d": [
           {
            "colorbar": {
             "outlinewidth": 0,
             "ticks": ""
            },
            "type": "mesh3d"
           }
          ],
          "parcoords": [
           {
            "line": {
             "colorbar": {
              "outlinewidth": 0,
              "ticks": ""
             }
            },
            "type": "parcoords"
           }
          ],
          "pie": [
           {
            "automargin": true,
            "type": "pie"
           }
          ],
          "scatter": [
           {
            "marker": {
             "colorbar": {
              "outlinewidth": 0,
              "ticks": ""
             }
            },
            "type": "scatter"
           }
          ],
          "scatter3d": [
           {
            "line": {
             "colorbar": {
              "outlinewidth": 0,
              "ticks": ""
             }
            },
            "marker": {
             "colorbar": {
              "outlinewidth": 0,
              "ticks": ""
             }
            },
            "type": "scatter3d"
           }
          ],
          "scattercarpet": [
           {
            "marker": {
             "colorbar": {
              "outlinewidth": 0,
              "ticks": ""
             }
            },
            "type": "scattercarpet"
           }
          ],
          "scattergeo": [
           {
            "marker": {
             "colorbar": {
              "outlinewidth": 0,
              "ticks": ""
             }
            },
            "type": "scattergeo"
           }
          ],
          "scattergl": [
           {
            "marker": {
             "colorbar": {
              "outlinewidth": 0,
              "ticks": ""
             }
            },
            "type": "scattergl"
           }
          ],
          "scattermapbox": [
           {
            "marker": {
             "colorbar": {
              "outlinewidth": 0,
              "ticks": ""
             }
            },
            "type": "scattermapbox"
           }
          ],
          "scatterpolar": [
           {
            "marker": {
             "colorbar": {
              "outlinewidth": 0,
              "ticks": ""
             }
            },
            "type": "scatterpolar"
           }
          ],
          "scatterpolargl": [
           {
            "marker": {
             "colorbar": {
              "outlinewidth": 0,
              "ticks": ""
             }
            },
            "type": "scatterpolargl"
           }
          ],
          "scatterternary": [
           {
            "marker": {
             "colorbar": {
              "outlinewidth": 0,
              "ticks": ""
             }
            },
            "type": "scatterternary"
           }
          ],
          "surface": [
           {
            "colorbar": {
             "outlinewidth": 0,
             "ticks": ""
            },
            "colorscale": [
             [
              0,
              "#0d0887"
             ],
             [
              0.1111111111111111,
              "#46039f"
             ],
             [
              0.2222222222222222,
              "#7201a8"
             ],
             [
              0.3333333333333333,
              "#9c179e"
             ],
             [
              0.4444444444444444,
              "#bd3786"
             ],
             [
              0.5555555555555556,
              "#d8576b"
             ],
             [
              0.6666666666666666,
              "#ed7953"
             ],
             [
              0.7777777777777778,
              "#fb9f3a"
             ],
             [
              0.8888888888888888,
              "#fdca26"
             ],
             [
              1,
              "#f0f921"
             ]
            ],
            "type": "surface"
           }
          ],
          "table": [
           {
            "cells": {
             "fill": {
              "color": "#EBF0F8"
             },
             "line": {
              "color": "white"
             }
            },
            "header": {
             "fill": {
              "color": "#C8D4E3"
             },
             "line": {
              "color": "white"
             }
            },
            "type": "table"
           }
          ]
         },
         "layout": {
          "annotationdefaults": {
           "arrowcolor": "#2a3f5f",
           "arrowhead": 0,
           "arrowwidth": 1
          },
          "autotypenumbers": "strict",
          "coloraxis": {
           "colorbar": {
            "outlinewidth": 0,
            "ticks": ""
           }
          },
          "colorscale": {
           "diverging": [
            [
             0,
             "#8e0152"
            ],
            [
             0.1,
             "#c51b7d"
            ],
            [
             0.2,
             "#de77ae"
            ],
            [
             0.3,
             "#f1b6da"
            ],
            [
             0.4,
             "#fde0ef"
            ],
            [
             0.5,
             "#f7f7f7"
            ],
            [
             0.6,
             "#e6f5d0"
            ],
            [
             0.7,
             "#b8e186"
            ],
            [
             0.8,
             "#7fbc41"
            ],
            [
             0.9,
             "#4d9221"
            ],
            [
             1,
             "#276419"
            ]
           ],
           "sequential": [
            [
             0,
             "#0d0887"
            ],
            [
             0.1111111111111111,
             "#46039f"
            ],
            [
             0.2222222222222222,
             "#7201a8"
            ],
            [
             0.3333333333333333,
             "#9c179e"
            ],
            [
             0.4444444444444444,
             "#bd3786"
            ],
            [
             0.5555555555555556,
             "#d8576b"
            ],
            [
             0.6666666666666666,
             "#ed7953"
            ],
            [
             0.7777777777777778,
             "#fb9f3a"
            ],
            [
             0.8888888888888888,
             "#fdca26"
            ],
            [
             1,
             "#f0f921"
            ]
           ],
           "sequentialminus": [
            [
             0,
             "#0d0887"
            ],
            [
             0.1111111111111111,
             "#46039f"
            ],
            [
             0.2222222222222222,
             "#7201a8"
            ],
            [
             0.3333333333333333,
             "#9c179e"
            ],
            [
             0.4444444444444444,
             "#bd3786"
            ],
            [
             0.5555555555555556,
             "#d8576b"
            ],
            [
             0.6666666666666666,
             "#ed7953"
            ],
            [
             0.7777777777777778,
             "#fb9f3a"
            ],
            [
             0.8888888888888888,
             "#fdca26"
            ],
            [
             1,
             "#f0f921"
            ]
           ]
          },
          "colorway": [
           "#636efa",
           "#EF553B",
           "#00cc96",
           "#ab63fa",
           "#FFA15A",
           "#19d3f3",
           "#FF6692",
           "#B6E880",
           "#FF97FF",
           "#FECB52"
          ],
          "font": {
           "color": "#2a3f5f"
          },
          "geo": {
           "bgcolor": "white",
           "lakecolor": "white",
           "landcolor": "#E5ECF6",
           "showlakes": true,
           "showland": true,
           "subunitcolor": "white"
          },
          "hoverlabel": {
           "align": "left"
          },
          "hovermode": "closest",
          "mapbox": {
           "style": "light"
          },
          "paper_bgcolor": "white",
          "plot_bgcolor": "#E5ECF6",
          "polar": {
           "angularaxis": {
            "gridcolor": "white",
            "linecolor": "white",
            "ticks": ""
           },
           "bgcolor": "#E5ECF6",
           "radialaxis": {
            "gridcolor": "white",
            "linecolor": "white",
            "ticks": ""
           }
          },
          "scene": {
           "xaxis": {
            "backgroundcolor": "#E5ECF6",
            "gridcolor": "white",
            "gridwidth": 2,
            "linecolor": "white",
            "showbackground": true,
            "ticks": "",
            "zerolinecolor": "white"
           },
           "yaxis": {
            "backgroundcolor": "#E5ECF6",
            "gridcolor": "white",
            "gridwidth": 2,
            "linecolor": "white",
            "showbackground": true,
            "ticks": "",
            "zerolinecolor": "white"
           },
           "zaxis": {
            "backgroundcolor": "#E5ECF6",
            "gridcolor": "white",
            "gridwidth": 2,
            "linecolor": "white",
            "showbackground": true,
            "ticks": "",
            "zerolinecolor": "white"
           }
          },
          "shapedefaults": {
           "line": {
            "color": "#2a3f5f"
           }
          },
          "ternary": {
           "aaxis": {
            "gridcolor": "white",
            "linecolor": "white",
            "ticks": ""
           },
           "baxis": {
            "gridcolor": "white",
            "linecolor": "white",
            "ticks": ""
           },
           "bgcolor": "#E5ECF6",
           "caxis": {
            "gridcolor": "white",
            "linecolor": "white",
            "ticks": ""
           }
          },
          "title": {
           "x": 0.05
          },
          "xaxis": {
           "automargin": true,
           "gridcolor": "white",
           "linecolor": "white",
           "ticks": "",
           "title": {
            "standoff": 15
           },
           "zerolinecolor": "white",
           "zerolinewidth": 2
          },
          "yaxis": {
           "automargin": true,
           "gridcolor": "white",
           "linecolor": "white",
           "ticks": "",
           "title": {
            "standoff": 15
           },
           "zerolinecolor": "white",
           "zerolinewidth": 2
          }
         }
        },
        "title": {
         "text": "Empty values per column"
        },
        "width": 1200,
        "xaxis": {
         "anchor": "y",
         "domain": [
          0,
          1
         ],
         "title": {
          "text": "column name"
         }
        },
        "yaxis": {
         "anchor": "x",
         "domain": [
          0,
          1
         ],
         "title": {
          "text": "% of empty values"
         }
        }
       }
      }
     },
     "metadata": {}
    }
   ],
   "source": [
    "num_rows = len(raw_data.index)\n",
    "columns_emptiness = pd.DataFrame({\n",
    "    col : { \n",
    "        'count': raw_data[col].isna().sum(),\n",
    "        'percent': raw_data[col].isna().sum() / num_rows * 100,\n",
    "    } for col in raw_data.columns\n",
    "}).transpose().sort_values(by=['count'])\n",
    "\n",
    "fig = px.bar(columns_emptiness,\n",
    "    color='percent',\n",
    "    y='percent',\n",
    "    labels={\n",
    "        'index':'column name',\n",
    "        'percent':'% of empty values',\n",
    "        'count':'# of empty values',\n",
    "    },\n",
    "    hover_data=['count'],\n",
    "    title='Empty values per column',\n",
    "    width=1200,\n",
    "    height=800,\n",
    ")\n",
    "fig.show()\n"
   ]
  },
  {
   "cell_type": "code",
   "execution_count": 69,
   "metadata": {},
   "outputs": [
    {
     "output_type": "stream",
     "name": "stdout",
     "text": [
      "<class 'pandas.core.frame.DataFrame'>\nInt64Index: 320772 entries, 0 to 320771\nData columns (total 62 columns):\n #   Column                                   Non-Null Count   Dtype  \n---  ------                                   --------------   -----  \n 0   code                                     320749 non-null  object \n 1   url                                      320749 non-null  object \n 2   creator                                  320770 non-null  object \n 3   created_t                                320769 non-null  object \n 4   created_datetime                         320763 non-null  object \n 5   last_modified_t                          320772 non-null  object \n 6   last_modified_datetime                   320772 non-null  object \n 7   product_name                             303010 non-null  object \n 8   generic_name                             52795 non-null   object \n 9   quantity                                 104819 non-null  object \n 10  packaging                                78960 non-null   object \n 11  packaging_tags                           78961 non-null   object \n 12  brands                                   292360 non-null  object \n 13  brands_tags                              292352 non-null  object \n 14  categories                               84410 non-null   object \n 15  categories_tags                          84389 non-null   object \n 16  categories_fr                            84411 non-null   object \n 17  manufacturing_places                     36501 non-null   object \n 18  manufacturing_places_tags                36495 non-null   object \n 19  labels                                   46559 non-null   object \n 20  labels_tags                              46644 non-null   object \n 21  labels_fr                                46666 non-null   object \n 22  purchase_places                          58193 non-null   object \n 23  stores                                   51722 non-null   object \n 24  countries                                320492 non-null  object \n 25  countries_tags                           320492 non-null  object \n 26  countries_fr                             320492 non-null  object \n 27  ingredients_text                         248962 non-null  object \n 28  serving_size                             211331 non-null  object \n 29  additives_n                              248939 non-null  float64\n 30  additives                                248905 non-null  object \n 31  additives_tags                           154680 non-null  object \n 32  additives_fr                             154680 non-null  object \n 33  ingredients_from_palm_oil_n              248939 non-null  float64\n 34  ingredients_that_may_be_from_palm_oil_n  248939 non-null  float64\n 35  nutrition_grade_fr                       221210 non-null  object \n 36  pnns_groups_1                            91513 non-null   object \n 37  pnns_groups_2                            94491 non-null   object \n 38  states                                   320726 non-null  object \n 39  states_tags                              320726 non-null  object \n 40  states_fr                                320726 non-null  object \n 41  main_category                            84366 non-null   object \n 42  main_category_fr                         84366 non-null   object \n 43  image_url                                75836 non-null   object \n 44  image_small_url                          75836 non-null   object \n 45  energy_100g                              261113 non-null  float64\n 46  fat_100g                                 243891 non-null  float64\n 47  saturated-fat_100g                       229554 non-null  float64\n 48  trans-fat_100g                           143298 non-null  float64\n 49  cholesterol_100g                         144090 non-null  float64\n 50  carbohydrates_100g                       243588 non-null  float64\n 51  sugars_100g                              244971 non-null  float64\n 52  fiber_100g                               200886 non-null  float64\n 53  proteins_100g                            259922 non-null  float64\n 54  salt_100g                                255510 non-null  float64\n 55  sodium_100g                              255463 non-null  float64\n 56  vitamin-a_100g                           137554 non-null  float64\n 57  vitamin-c_100g                           140867 non-null  float64\n 58  calcium_100g                             141050 non-null  float64\n 59  iron_100g                                140462 non-null  float64\n 60  nutrition-score-fr_100g                  221210 non-null  float64\n 61  nutrition-score-uk_100g                  221210 non-null  float64\ndtypes: float64(20), object(42)\nmemory usage: 154.2+ MB\n"
     ]
    },
    {
     "output_type": "execute_result",
     "data": {
      "text/plain": [
       "                code                                                url  \\\n",
       "count   3.207490e+05                                             320749   \n",
       "unique  3.206380e+05                                             320749   \n",
       "top     1.111082e+10  http://world-fr.openfoodfacts.org/produit/0036...   \n",
       "freq    2.000000e+00                                                  1   \n",
       "mean             NaN                                                NaN   \n",
       "std              NaN                                                NaN   \n",
       "min              NaN                                                NaN   \n",
       "25%              NaN                                                NaN   \n",
       "50%              NaN                                                NaN   \n",
       "75%              NaN                                                NaN   \n",
       "max              NaN                                                NaN   \n",
       "\n",
       "                creator     created_t      created_datetime  last_modified_t  \\\n",
       "count            320770  3.207690e+05                320763     3.207720e+05   \n",
       "unique             3535  1.896360e+05                189568     1.806390e+05   \n",
       "top     usda-ndb-import  1.489056e+09  2017-03-09T10:37:09Z     1.439142e+09   \n",
       "freq             169868  2.000000e+01                    20     3.300000e+01   \n",
       "mean                NaN           NaN                   NaN              NaN   \n",
       "std                 NaN           NaN                   NaN              NaN   \n",
       "min                 NaN           NaN                   NaN              NaN   \n",
       "25%                 NaN           NaN                   NaN              NaN   \n",
       "50%                 NaN           NaN                   NaN              NaN   \n",
       "75%                 NaN           NaN                   NaN              NaN   \n",
       "max                 NaN           NaN                   NaN              NaN   \n",
       "\n",
       "       last_modified_datetime product_name  \\\n",
       "count                  320772       303010   \n",
       "unique                 180495       221347   \n",
       "top      2015-08-09T17:35:42Z    Ice Cream   \n",
       "freq                       33          410   \n",
       "mean                      NaN          NaN   \n",
       "std                       NaN          NaN   \n",
       "min                       NaN          NaN   \n",
       "25%                       NaN          NaN   \n",
       "50%                       NaN          NaN   \n",
       "75%                       NaN          NaN   \n",
       "max                       NaN          NaN   \n",
       "\n",
       "                                             generic_name quantity  ...  \\\n",
       "count                                               52795   104819  ...   \n",
       "unique                                              38584    13826  ...   \n",
       "top     Pâtes alimentaires au blé dur de qualité supér...    500 g  ...   \n",
       "freq                                                  201     4669  ...   \n",
       "mean                                                  NaN      NaN  ...   \n",
       "std                                                   NaN      NaN  ...   \n",
       "min                                                   NaN      NaN  ...   \n",
       "25%                                                   NaN      NaN  ...   \n",
       "50%                                                   NaN      NaN  ...   \n",
       "75%                                                   NaN      NaN  ...   \n",
       "max                                                   NaN      NaN  ...   \n",
       "\n",
       "           fiber_100g  proteins_100g      salt_100g    sodium_100g  \\\n",
       "count   200886.000000  259922.000000  255510.000000  255463.000000   \n",
       "unique            NaN            NaN            NaN            NaN   \n",
       "top               NaN            NaN            NaN            NaN   \n",
       "freq              NaN            NaN            NaN            NaN   \n",
       "mean         2.862111       7.075940       2.028624       0.798815   \n",
       "std         12.867578       8.409054     128.269454      50.504428   \n",
       "min         -6.700000    -800.000000       0.000000       0.000000   \n",
       "25%          0.000000       0.700000       0.063500       0.025000   \n",
       "50%          1.500000       4.760000       0.581660       0.229000   \n",
       "75%          3.600000      10.000000       1.374140       0.541000   \n",
       "max       5380.000000     430.000000   64312.800000   25320.000000   \n",
       "\n",
       "       vitamin-a_100g vitamin-c_100g   calcium_100g      iron_100g  \\\n",
       "count   137554.000000  140867.000000  141050.000000  140462.000000   \n",
       "unique            NaN            NaN            NaN            NaN   \n",
       "top               NaN            NaN            NaN            NaN   \n",
       "freq              NaN            NaN            NaN            NaN   \n",
       "mean         0.000397       0.023367       0.125163       0.003652   \n",
       "std          0.073278       2.236451       3.318263       0.214408   \n",
       "min         -0.000340      -0.002100       0.000000      -0.000260   \n",
       "25%          0.000000       0.000000       0.000000       0.000000   \n",
       "50%          0.000000       0.000000       0.035000       0.001010   \n",
       "75%          0.000107       0.003700       0.106000       0.002400   \n",
       "max         26.700000     716.981100     694.737000      50.000000   \n",
       "\n",
       "       nutrition-score-fr_100g nutrition-score-uk_100g  \n",
       "count            221210.000000           221210.000000  \n",
       "unique                     NaN                     NaN  \n",
       "top                        NaN                     NaN  \n",
       "freq                       NaN                     NaN  \n",
       "mean                  9.165535                9.058049  \n",
       "std                   9.055903                9.183589  \n",
       "min                 -15.000000              -15.000000  \n",
       "25%                   1.000000                1.000000  \n",
       "50%                  10.000000                9.000000  \n",
       "75%                  16.000000               16.000000  \n",
       "max                  40.000000               40.000000  \n",
       "\n",
       "[11 rows x 62 columns]"
      ],
      "text/html": "<div>\n<style scoped>\n    .dataframe tbody tr th:only-of-type {\n        vertical-align: middle;\n    }\n\n    .dataframe tbody tr th {\n        vertical-align: top;\n    }\n\n    .dataframe thead th {\n        text-align: right;\n    }\n</style>\n<table border=\"1\" class=\"dataframe\">\n  <thead>\n    <tr style=\"text-align: right;\">\n      <th></th>\n      <th>code</th>\n      <th>url</th>\n      <th>creator</th>\n      <th>created_t</th>\n      <th>created_datetime</th>\n      <th>last_modified_t</th>\n      <th>last_modified_datetime</th>\n      <th>product_name</th>\n      <th>generic_name</th>\n      <th>quantity</th>\n      <th>...</th>\n      <th>fiber_100g</th>\n      <th>proteins_100g</th>\n      <th>salt_100g</th>\n      <th>sodium_100g</th>\n      <th>vitamin-a_100g</th>\n      <th>vitamin-c_100g</th>\n      <th>calcium_100g</th>\n      <th>iron_100g</th>\n      <th>nutrition-score-fr_100g</th>\n      <th>nutrition-score-uk_100g</th>\n    </tr>\n  </thead>\n  <tbody>\n    <tr>\n      <th>count</th>\n      <td>3.207490e+05</td>\n      <td>320749</td>\n      <td>320770</td>\n      <td>3.207690e+05</td>\n      <td>320763</td>\n      <td>3.207720e+05</td>\n      <td>320772</td>\n      <td>303010</td>\n      <td>52795</td>\n      <td>104819</td>\n      <td>...</td>\n      <td>200886.000000</td>\n      <td>259922.000000</td>\n      <td>255510.000000</td>\n      <td>255463.000000</td>\n      <td>137554.000000</td>\n      <td>140867.000000</td>\n      <td>141050.000000</td>\n      <td>140462.000000</td>\n      <td>221210.000000</td>\n      <td>221210.000000</td>\n    </tr>\n    <tr>\n      <th>unique</th>\n      <td>3.206380e+05</td>\n      <td>320749</td>\n      <td>3535</td>\n      <td>1.896360e+05</td>\n      <td>189568</td>\n      <td>1.806390e+05</td>\n      <td>180495</td>\n      <td>221347</td>\n      <td>38584</td>\n      <td>13826</td>\n      <td>...</td>\n      <td>NaN</td>\n      <td>NaN</td>\n      <td>NaN</td>\n      <td>NaN</td>\n      <td>NaN</td>\n      <td>NaN</td>\n      <td>NaN</td>\n      <td>NaN</td>\n      <td>NaN</td>\n      <td>NaN</td>\n    </tr>\n    <tr>\n      <th>top</th>\n      <td>1.111082e+10</td>\n      <td>http://world-fr.openfoodfacts.org/produit/0036...</td>\n      <td>usda-ndb-import</td>\n      <td>1.489056e+09</td>\n      <td>2017-03-09T10:37:09Z</td>\n      <td>1.439142e+09</td>\n      <td>2015-08-09T17:35:42Z</td>\n      <td>Ice Cream</td>\n      <td>Pâtes alimentaires au blé dur de qualité supér...</td>\n      <td>500 g</td>\n      <td>...</td>\n      <td>NaN</td>\n      <td>NaN</td>\n      <td>NaN</td>\n      <td>NaN</td>\n      <td>NaN</td>\n      <td>NaN</td>\n      <td>NaN</td>\n      <td>NaN</td>\n      <td>NaN</td>\n      <td>NaN</td>\n    </tr>\n    <tr>\n      <th>freq</th>\n      <td>2.000000e+00</td>\n      <td>1</td>\n      <td>169868</td>\n      <td>2.000000e+01</td>\n      <td>20</td>\n      <td>3.300000e+01</td>\n      <td>33</td>\n      <td>410</td>\n      <td>201</td>\n      <td>4669</td>\n      <td>...</td>\n      <td>NaN</td>\n      <td>NaN</td>\n      <td>NaN</td>\n      <td>NaN</td>\n      <td>NaN</td>\n      <td>NaN</td>\n      <td>NaN</td>\n      <td>NaN</td>\n      <td>NaN</td>\n      <td>NaN</td>\n    </tr>\n    <tr>\n      <th>mean</th>\n      <td>NaN</td>\n      <td>NaN</td>\n      <td>NaN</td>\n      <td>NaN</td>\n      <td>NaN</td>\n      <td>NaN</td>\n      <td>NaN</td>\n      <td>NaN</td>\n      <td>NaN</td>\n      <td>NaN</td>\n      <td>...</td>\n      <td>2.862111</td>\n      <td>7.075940</td>\n      <td>2.028624</td>\n      <td>0.798815</td>\n      <td>0.000397</td>\n      <td>0.023367</td>\n      <td>0.125163</td>\n      <td>0.003652</td>\n      <td>9.165535</td>\n      <td>9.058049</td>\n    </tr>\n    <tr>\n      <th>std</th>\n      <td>NaN</td>\n      <td>NaN</td>\n      <td>NaN</td>\n      <td>NaN</td>\n      <td>NaN</td>\n      <td>NaN</td>\n      <td>NaN</td>\n      <td>NaN</td>\n      <td>NaN</td>\n      <td>NaN</td>\n      <td>...</td>\n      <td>12.867578</td>\n      <td>8.409054</td>\n      <td>128.269454</td>\n      <td>50.504428</td>\n      <td>0.073278</td>\n      <td>2.236451</td>\n      <td>3.318263</td>\n      <td>0.214408</td>\n      <td>9.055903</td>\n      <td>9.183589</td>\n    </tr>\n    <tr>\n      <th>min</th>\n      <td>NaN</td>\n      <td>NaN</td>\n      <td>NaN</td>\n      <td>NaN</td>\n      <td>NaN</td>\n      <td>NaN</td>\n      <td>NaN</td>\n      <td>NaN</td>\n      <td>NaN</td>\n      <td>NaN</td>\n      <td>...</td>\n      <td>-6.700000</td>\n      <td>-800.000000</td>\n      <td>0.000000</td>\n      <td>0.000000</td>\n      <td>-0.000340</td>\n      <td>-0.002100</td>\n      <td>0.000000</td>\n      <td>-0.000260</td>\n      <td>-15.000000</td>\n      <td>-15.000000</td>\n    </tr>\n    <tr>\n      <th>25%</th>\n      <td>NaN</td>\n      <td>NaN</td>\n      <td>NaN</td>\n      <td>NaN</td>\n      <td>NaN</td>\n      <td>NaN</td>\n      <td>NaN</td>\n      <td>NaN</td>\n      <td>NaN</td>\n      <td>NaN</td>\n      <td>...</td>\n      <td>0.000000</td>\n      <td>0.700000</td>\n      <td>0.063500</td>\n      <td>0.025000</td>\n      <td>0.000000</td>\n      <td>0.000000</td>\n      <td>0.000000</td>\n      <td>0.000000</td>\n      <td>1.000000</td>\n      <td>1.000000</td>\n    </tr>\n    <tr>\n      <th>50%</th>\n      <td>NaN</td>\n      <td>NaN</td>\n      <td>NaN</td>\n      <td>NaN</td>\n      <td>NaN</td>\n      <td>NaN</td>\n      <td>NaN</td>\n      <td>NaN</td>\n      <td>NaN</td>\n      <td>NaN</td>\n      <td>...</td>\n      <td>1.500000</td>\n      <td>4.760000</td>\n      <td>0.581660</td>\n      <td>0.229000</td>\n      <td>0.000000</td>\n      <td>0.000000</td>\n      <td>0.035000</td>\n      <td>0.001010</td>\n      <td>10.000000</td>\n      <td>9.000000</td>\n    </tr>\n    <tr>\n      <th>75%</th>\n      <td>NaN</td>\n      <td>NaN</td>\n      <td>NaN</td>\n      <td>NaN</td>\n      <td>NaN</td>\n      <td>NaN</td>\n      <td>NaN</td>\n      <td>NaN</td>\n      <td>NaN</td>\n      <td>NaN</td>\n      <td>...</td>\n      <td>3.600000</td>\n      <td>10.000000</td>\n      <td>1.374140</td>\n      <td>0.541000</td>\n      <td>0.000107</td>\n      <td>0.003700</td>\n      <td>0.106000</td>\n      <td>0.002400</td>\n      <td>16.000000</td>\n      <td>16.000000</td>\n    </tr>\n    <tr>\n      <th>max</th>\n      <td>NaN</td>\n      <td>NaN</td>\n      <td>NaN</td>\n      <td>NaN</td>\n      <td>NaN</td>\n      <td>NaN</td>\n      <td>NaN</td>\n      <td>NaN</td>\n      <td>NaN</td>\n      <td>NaN</td>\n      <td>...</td>\n      <td>5380.000000</td>\n      <td>430.000000</td>\n      <td>64312.800000</td>\n      <td>25320.000000</td>\n      <td>26.700000</td>\n      <td>716.981100</td>\n      <td>694.737000</td>\n      <td>50.000000</td>\n      <td>40.000000</td>\n      <td>40.000000</td>\n    </tr>\n  </tbody>\n</table>\n<p>11 rows × 62 columns</p>\n</div>"
     },
     "metadata": {},
     "execution_count": 69
    }
   ],
   "source": [
    "clean_data = raw_data.dropna(\n",
    "        axis='columns',\n",
    "        thresh=.1 * num_rows\n",
    "    ).drop_duplicates()\n",
    "\n",
    "# Display data types and empty values\n",
    "clean_data.info()\n",
    "\n",
    "clean_data = clean_data[['product_name',\n",
    "    'packaging_tags', 'brands_tags', 'manufacturing_places_tags', 'countries_tags',\n",
    "    'main_category', 'categories_tags', \n",
    "    'labels_tags', 'additives_n', 'additives_tags', \n",
    "    'nutrition_grade_fr', 'nutrition-score-fr_100g',\n",
    "    'energy_100g', 'saturated-fat_100g', 'sugars_100g', 'salt_100g', 'sodium_100g',\n",
    "    'fruits-vegetables-nuts_100g', 'fiber_100g', 'proteins_100g',\n",
    "]]\n",
    "\n",
    "# Display statistical summary of each column\n",
    "clean_data.describe(include=\"all\")\n"
   ]
  },
  {
   "cell_type": "code",
   "execution_count": 21,
   "metadata": {},
   "outputs": [
    {
     "output_type": "stream",
     "name": "stdout",
     "text": [
      "\n ================================================\n >    code\n ------------------------------------------------\n"
     ]
    },
    {
     "output_type": "display_data",
     "data": {
      "text/plain": "NaN              23\n635646            2\n37600105033       2\n31200029997       2\n16300166360       2\n                 ..\n3023290102633     1\n2441879031357     1\n72734127155       1\n858246001714      1\n3760089530627     1\nName: code, Length: 320639, dtype: int64"
     },
     "metadata": {}
    },
    {
     "output_type": "stream",
     "name": "stdout",
     "text": [
      "\n ================================================\n >    url\n ------------------------------------------------\n"
     ]
    },
    {
     "output_type": "display_data",
     "data": {
      "text/plain": "NaN                                                                                                                                             23\nhttp://world-fr.openfoodfacts.org/produit/0070038634102/superior-selection-sparkling-soda-sicilian-lemonade-associated-wholesale-grocers-inc     1\nhttp://world-fr.openfoodfacts.org/produit/0718122066070/organic-ice-cream-three-twins-ice-cream                                                  1\nhttp://world-fr.openfoodfacts.org/produit/0041800354504/100-grape-juice-grape-welch-s                                                            1\nhttp://world-fr.openfoodfacts.org/produit/5601151989814                                                                                          1\n                                                                                                                                                ..\nhttp://world-fr.openfoodfacts.org/produit/3256222254272/fromage-frais-nature-u-bio                                                               1\nhttp://world-fr.openfoodfacts.org/produit/2265781111385/roti-de-lama-au-vin-de-bordeaux-maitre-jacques                                           1\nhttp://world-fr.openfoodfacts.org/produit/0688267174759/sparkling-italian-mineral-water-ahold                                                    1\nhttp://world-fr.openfoodfacts.org/produit/0804879496595/mango-sambal-indonesian-hot-sauce-anoa                                                   1\nhttp://world-fr.openfoodfacts.org/produit/0890741000601/sarachee-hot-sauce-thai-and-true                                                         1\nName: url, Length: 320750, dtype: int64"
     },
     "metadata": {}
    },
    {
     "output_type": "stream",
     "name": "stdout",
     "text": [
      "\n ================================================\n >    creator\n ------------------------------------------------\n"
     ]
    },
    {
     "output_type": "display_data",
     "data": {
      "text/plain": "usda-ndb-import               169868\nopenfoodfacts-contributors     40117\nkiliweb                        13891\ndate-limite-app                11918\nopenfood-ch-import             11478\n                               ...  \njipi                               1\nbabadouk                           1\nsturm                              1\nbigdog1948                         1\nzoukanss                           1\nName: creator, Length: 3536, dtype: int64"
     },
     "metadata": {}
    },
    {
     "output_type": "stream",
     "name": "stdout",
     "text": [
      "\n ================================================\n >    created_t\n ------------------------------------------------\n"
     ]
    },
    {
     "output_type": "display_data",
     "data": {
      "text/plain": "1489055829    20\n1489077120    20\n1489050353    19\n1489077322    18\n1489077002    17\n              ..\n1476556325     1\n1434131137     1\n1463913106     1\n1428523667     1\n1465647103     1\nName: created_t, Length: 189637, dtype: int64"
     },
     "metadata": {}
    },
    {
     "output_type": "stream",
     "name": "stdout",
     "text": [
      "\n ================================================\n >    created_datetime\n ------------------------------------------------\n"
     ]
    },
    {
     "output_type": "display_data",
     "data": {
      "text/plain": "2017-03-09T10:37:09Z    20\n2017-03-09T16:32:00Z    20\n2017-03-09T09:05:53Z    19\n2017-03-09T16:35:22Z    18\n2017-03-09T16:30:52Z    17\n                        ..\n2015-07-14T16:35:27Z     1\n2017-03-18T12:26:08Z     1\n2012-11-20T18:07:01Z     1\n2016-12-06T16:17:58Z     1\n2016-03-25T11:52:29Z     1\nName: created_datetime, Length: 189569, dtype: int64"
     },
     "metadata": {}
    },
    {
     "output_type": "stream",
     "name": "stdout",
     "text": [
      "\n ================================================\n >    last_modified_t\n ------------------------------------------------\n"
     ]
    },
    {
     "output_type": "display_data",
     "data": {
      "text/plain": "1439141742    33\n1439141756    30\n1439141747    29\n1439141745    28\n1439141730    28\n              ..\n1480167366     1\n1487769543     1\n1474138056     1\n1464944525     1\n1466695679     1\nName: last_modified_t, Length: 180639, dtype: int64"
     },
     "metadata": {}
    },
    {
     "output_type": "stream",
     "name": "stdout",
     "text": [
      "\n ================================================\n >    last_modified_datetime\n ------------------------------------------------\n"
     ]
    },
    {
     "output_type": "display_data",
     "data": {
      "text/plain": "2015-08-09T17:35:42Z    33\n2015-08-09T17:35:56Z    30\n2015-08-09T17:35:47Z    29\n2015-08-09T17:35:35Z    28\n2015-08-09T17:35:45Z    28\n                        ..\n2016-10-02T10:41:21Z     1\n2016-04-24T12:31:55Z     1\n2016-10-31T11:54:18Z     1\n2015-02-01T20:01:30Z     1\n2016-10-30T13:08:00Z     1\nName: last_modified_datetime, Length: 180495, dtype: int64"
     },
     "metadata": {}
    },
    {
     "output_type": "stream",
     "name": "stdout",
     "text": [
      "\n ================================================\n >    product_name\n ------------------------------------------------\n"
     ]
    },
    {
     "output_type": "display_data",
     "data": {
      "text/plain": "NaN                                                   17762\nIce Cream                                               410\nExtra Virgin Olive Oil                                  303\nPotato Chips                                            281\nPremium Ice Cream                                       226\n                                                      ...  \nMaple Brown Sugar With Almonds Multi Grain Oatmeal        1\nCouscous semi-complet - grains moyens bio                 1\nGazpacho, Mediterranean Vegetable Medley                  1\nLes Entremets, riz au lait caramel                        1\nSoupe Phnom Penh Nam Vang Oh Ricey                        1\nName: product_name, Length: 221348, dtype: int64"
     },
     "metadata": {}
    },
    {
     "output_type": "stream",
     "name": "stdout",
     "text": [
      "\n ================================================\n >    generic_name\n ------------------------------------------------\n"
     ]
    },
    {
     "output_type": "display_data",
     "data": {
      "text/plain": "NaN                                                                           267977\nPâtes alimentaires au blé dur de qualité supérieure                              201\nAliment pour bébés                                                                92\nPâtes alimentaires de qualité supérieure                                          82\nJambon cuit supérieur                                                             80\n                                                                               ...  \nFilets de poulet et de dinde traités en salaison, féculés, cuits standards         1\nCéréales grillées au miel                                                          1\nSaucisson cuit à l'ail qualité choix                                               1\nAssaisonnement pour soupe                                                          1\nMélange d'aromates pour crème fraîche                                              1\nName: generic_name, Length: 38585, dtype: int64"
     },
     "metadata": {}
    },
    {
     "output_type": "stream",
     "name": "stdout",
     "text": [
      "\n ================================================\n >    quantity\n ------------------------------------------------\n"
     ]
    },
    {
     "output_type": "display_data",
     "data": {
      "text/plain": "NaN                                   215953\n500 g                                   4669\n200 g                                   4063\n250 g                                   3883\n100 g                                   3043\n                                       ...  \n8 capsules                                 1\n4.23 oz                                    1\n6 x 4 biscuits (300 g)                     1\n825 g ou 850 ml, net égoutté 455 g         1\n300 g (24 tranches)                        1\nName: quantity, Length: 13827, dtype: int64"
     },
     "metadata": {}
    },
    {
     "output_type": "stream",
     "name": "stdout",
     "text": [
      "\n ================================================\n >    packaging\n ------------------------------------------------\n"
     ]
    },
    {
     "output_type": "display_data",
     "data": {
      "text/plain": "NaN                                                                241812\nCarton                                                               2153\nSachet,Plastique                                                     2141\nPlastique                                                            1902\nBouteille,Verre                                                      1342\n                                                                    ...  \nbox,Box                                                                 1\nFrais,Sachet plastique,Plastique (PE)                                   1\nTetra Brik Aseptic,84 C/PAP,196×92×59,перфорация для открывания         1\nBoite,Carton,Frais,Papier                                               1\ncarton,bouteille verre,capsule,Bouteille:verre brune                    1\nName: packaging, Length: 14548, dtype: int64"
     },
     "metadata": {}
    },
    {
     "output_type": "stream",
     "name": "stdout",
     "text": [
      "\n ================================================\n >    packaging_tags\n ------------------------------------------------\n"
     ]
    },
    {
     "output_type": "display_data",
     "data": {
      "text/plain": "NaN                                                            241811\nsachet,plastique                                                 3959\ncarton                                                           2927\nplastique                                                        2793\nbarquette,plastique                                              2136\n                                                                ...  \nsurgele,plastique,film                                              1\nfrais,barquette,couvercle,plastique,barquette                       1\npot,verre,pot-en-verre,couvercle-plastique,point-vert               1\nbouteille,verre,bouteille-en-verre-transparante-avec-relief         1\nplastico,vertisac                                                   1\nName: packaging_tags, Length: 12065, dtype: int64"
     },
     "metadata": {}
    },
    {
     "output_type": "stream",
     "name": "stdout",
     "text": [
      "\n ================================================\n >    brands\n ------------------------------------------------\n"
     ]
    },
    {
     "output_type": "display_data",
     "data": {
      "text/plain": "NaN               28412\nCarrefour          2978\nAuchan             2340\nU                  2050\nMeijer             1995\n                  ...  \nParadis glaces        1\nSOIGNON               1\nEl Jaliciense         1\nChef's Select         1\nmartine mahé          1\nName: brands, Length: 58785, dtype: int64"
     },
     "metadata": {}
    },
    {
     "output_type": "stream",
     "name": "stdout",
     "text": [
      "\n ================================================\n >    brands_tags\n ------------------------------------------------\n"
     ]
    },
    {
     "output_type": "display_data",
     "data": {
      "text/plain": "NaN                       28420\ncarrefour                  3149\nauchan                     2468\nu                          2082\nmeijer                     1996\n                          ...  \nweetabix-limited              1\nsultanines                    1\nmillenaire                    1\nvignerons-de-caractere        1\ngrossglockner-inc             1\nName: brands_tags, Length: 50254, dtype: int64"
     },
     "metadata": {}
    },
    {
     "output_type": "stream",
     "name": "stdout",
     "text": [
      "\n ================================================\n >    categories\n ------------------------------------------------\n"
     ]
    },
    {
     "output_type": "display_data",
     "data": {
      "text/plain": "NaN                                                                                                                                                                            236362\nSnacks sucrés,Biscuits et gâteaux,Biscuits                                                                                                                                        301\nBiscuits                                                                                                                                                                          287\nSnacks sucrés,Biscuits et gâteaux,Biscuits,Biscuits au chocolat                                                                                                                   247\nAliments et boissons à base de végétaux,Aliments d'origine végétale,Petit-déjeuners,Céréales et pommes de terre,Céréales et dérivés,Céréales pour petit-déjeuner                  222\n                                                                                                                                                                                ...  \nAliments et boissons à base de végétaux,Aliments d'origine végétale,Céréales et pommes de terre,Céréales et dérivés,Graines,Céréales en grains,Riz,Riz blanc,Riz pour sushi         1\nen:breakfasts,en:sugary-snacks,en:viennoiseries,en:brioches,fr:brioches-tranchees,fr:brioches-tranchees-au-levain                                                                   1\nRedcurrant tea                                                                                                                                                                      1\nThon à l'huile d'olive,Thon,Poisson                                                                                                                                                 1\nVerduras y hortalizas frescas,Zanahorias                                                                                                                                            1\nName: categories, Length: 36983, dtype: int64"
     },
     "metadata": {}
    },
    {
     "output_type": "stream",
     "name": "stdout",
     "text": [
      "\n ================================================\n >    categories_tags\n ------------------------------------------------\n"
     ]
    },
    {
     "output_type": "display_data",
     "data": {
      "text/plain": "NaN                                                                                                                                                                                                                                                                                                                                  236383\nen:sugary-snacks,en:biscuits-and-cakes,en:biscuits                                                                                                                                                                                                                                                                                      802\nen:sugary-snacks,en:chocolates,en:dark-chocolates                                                                                                                                                                                                                                                                                       609\nen:sugary-snacks,en:confectioneries,en:candies                                                                                                                                                                                                                                                                                          526\nen:plant-based-foods-and-beverages,en:plant-based-foods,en:breakfasts,en:cereals-and-potatoes,en:cereals-and-their-products,en:breakfast-cereals                                                                                                                                                                                        522\n                                                                                                                                                                                                                                                                                                                                      ...  \nen:plant-based-foods-and-beverages,en:beverages,en:plant-based-foods,en:fresh-foods,en:plant-based-beverages,en:fruit-based-beverages,en:juices-and-nectars,en:fruit-juices-and-nectars,en:fruit-juices,en:orange-juices,en:squeezed-juices,en:squeezed-orange-juices,fr:jus-d-orange-avec-pulpe-frais,en:non-alcoholic-beverages         1\nen:lager-beer                                                                                                                                                                                                                                                                                                                             1\nen:meals,en:pies,en:meals-with-fish,en:pizzas-pies-and-quiches,en:salted-pies                                                                                                                                                                                                                                                             1\nen:fresh-foods,en:dairies,en:desserts,en:dairy-desserts,en:dessert-creams,fr:desserts-lactes-au-caramel,fr:liegeois                                                                                                                                                                                                                       1\npt:vinho-verde                                                                                                                                                                                                                                                                                                                            1\nName: categories_tags, Length: 21143, dtype: int64"
     },
     "metadata": {}
    },
    {
     "output_type": "stream",
     "name": "stdout",
     "text": [
      "\n ================================================\n >    categories_fr\n ------------------------------------------------\n"
     ]
    },
    {
     "output_type": "display_data",
     "data": {
      "text/plain": "NaN                                                                                                                                                                 236361\nSnacks sucrés,Biscuits et gâteaux,Biscuits                                                                                                                             802\nSnacks sucrés,Chocolats,Chocolats noirs                                                                                                                                609\nSnacks sucrés,Confiseries,Bonbons                                                                                                                                      526\nAliments et boissons à base de végétaux,Aliments d'origine végétale,Petit-déjeuners,Céréales et pommes de terre,Céréales et dérivés,Céréales pour petit-déjeuner       522\n                                                                                                                                                                     ...  \nFrais,Produits de la mer,Plats préparés,Plats à base de poisson,Plats préparés frais,Entrées                                                                             1\nProduits à tartiner,Petit-déjeuners,Produits à tartiner sucrés,Vins-cuits                                                                                                1\nAliments et boissons à base de végétaux,Aliments d'origine végétale,Epicerie,Condiments,Epices,Sels-au-celeri                                                            1\nen:Tuna-steaks,en:Yellowfin-tuna-steaks                                                                                                                                  1\nProduits laitiers,Fromages,Fromages lithuaniens,Fromages-affines,Fromages-a-pate-dure                                                                                    1\nName: categories_fr, Length: 21153, dtype: int64"
     },
     "metadata": {}
    },
    {
     "output_type": "stream",
     "name": "stdout",
     "text": [
      "\n ================================================\n >    origins\n ------------------------------------------------\n"
     ]
    },
    {
     "output_type": "display_data",
     "data": {
      "text/plain": "NaN                                                        298582\nFrance                                                       5171\nEspaña                                                        569\nItalie                                                        473\nAustralia                                                     434\n                                                            ...  \nAfrique de l'Ouest                                              1\nItalie,Pinerolo                                                 1\nDeutschland                                                     1\nNavarra,Espagne                                                 1\nConil de la Frontera,Cádiz (provincia),Andalucía,España         1\nName: origins, Length: 4841, dtype: int64"
     },
     "metadata": {}
    },
    {
     "output_type": "stream",
     "name": "stdout",
     "text": [
      "\n ================================================\n >    origins_tags\n ------------------------------------------------\n"
     ]
    },
    {
     "output_type": "display_data",
     "data": {
      "text/plain": "NaN                                               298619\nfrance                                              5303\nunion-europeenne                                     625\nespana                                               589\nitalie                                               506\n                                                   ...  \nmozzarella,emmental,france                             1\nmondelez-france-sas-bp-100-92146-clamart-cedex         1\nagricultura-no-ue,cacao,kyela,tanzania                 1\nfromagerie-de-grieges                                  1\nbassin-de-l-adour,aop                                  1\nName: origins_tags, Length: 4373, dtype: int64"
     },
     "metadata": {}
    },
    {
     "output_type": "stream",
     "name": "stdout",
     "text": [
      "\n ================================================\n >    manufacturing_places\n ------------------------------------------------\n"
     ]
    },
    {
     "output_type": "display_data",
     "data": {
      "text/plain": "NaN                                                                                                                                                                                         284271\nFrance                                                                                                                                                                                        9371\nItalie                                                                                                                                                                                        1251\nDeutschland                                                                                                                                                                                    776\nBelgique                                                                                                                                                                                       744\n                                                                                                                                                                                             ...  \nLettre G :,Coroos Productie B.V. - Burgemeester Roozeveld van der Venlaan 3,4191 PL Geldermalsen,Gueldre,Lettre K :,Coroos Conserven B.V. - Middenweg 1,4421 JG Kapelle,Zélande,Pays-Bas         1\nDeutschland,Mecklenburg                                                                                                                                                                          1\nFrance,Nîmes                                                                                                                                                                                     1\nAlcàntera de Xúquer,Valencia (provincia),Comunidad Valenciana,España                                                                                                                             1\nFrance,Bretagne,Morbihan,Groix                                                                                                                                                                   1\nName: manufacturing_places, Length: 7309, dtype: int64"
     },
     "metadata": {}
    },
    {
     "output_type": "stream",
     "name": "stdout",
     "text": [
      "\n ================================================\n >    manufacturing_places_tags\n ------------------------------------------------\n"
     ]
    },
    {
     "output_type": "display_data",
     "data": {
      "text/plain": "NaN                                                                       284277\nfrance                                                                      9451\nitalie                                                                      1278\ndeutschland                                                                  778\nbelgique                                                                     754\n                                                                           ...  \nbunheiro-freguesia,murtosa,aveiro-distrito,region-centro,portugal              1\nelche-alicante                                                                 1\nsociete-industrielle-de-bondues,bondues,nord,nord-pas-de-calais,france         1\n330c-chemin-des-scieries,38840,saint-hilaire-du-rosier,france                  1\nsanta-cruz-pedania,murcia,murcia-comunidad-autonoma,espana                     1\nName: manufacturing_places_tags, Length: 6737, dtype: int64"
     },
     "metadata": {}
    },
    {
     "output_type": "stream",
     "name": "stdout",
     "text": [
      "\n ================================================\n >    labels\n ------------------------------------------------\n"
     ]
    },
    {
     "output_type": "display_data",
     "data": {
      "text/plain": "NaN                                                                                                                                           274213\nOrganic, EU Organic, fr:AB Agriculture Biologique                                                                                               3223\nPoint Vert                                                                                                                                      2053\nVegetariano,Vegano                                                                                                                              1048\nBio,Bio européen,AB Agriculture Biologique                                                                                                       979\n                                                                                                                                               ...  \nNo soy,Non GMO Project Verified                                                                                                                    1\nCarton recyclable                                                                                                                                  1\nCuisiné en France,Experimentation Etiquetage Nutritionnel 2016,Experimentation NutriScore,Experimentation NutriScore B,Info-Tri Point Vert         1\n10% des bénéfices reversés à des ONG,Issu de l'agriculture durable,Sans sucre ajouté                                                               1\n100% naturel,Point Vert                                                                                                                            1\nName: labels, Length: 18115, dtype: int64"
     },
     "metadata": {}
    },
    {
     "output_type": "stream",
     "name": "stdout",
     "text": [
      "\n ================================================\n >    labels_tags\n ------------------------------------------------\n"
     ]
    },
    {
     "output_type": "display_data",
     "data": {
      "text/plain": "NaN                                                                                                                                                                                            274128\nen:organic,en:eu-organic,fr:ab-agriculture-biologique                                                                                                                                            5311\nen:green-dot                                                                                                                                                                                     2456\nen:vegetarian,en:vegan                                                                                                                                                                           1654\nen:green-dot,fr:eco-emballages                                                                                                                                                                    835\n                                                                                                                                                                                                ...  \nen:no-colorings,fr:viande-francaise,en:palm-oil-free,fr:viande-porcine-francaise                                                                                                                    1\nen:low-or-no-sugar,en:organic,en:ecocert,en:eu-organic,en:fr-bio-01,en:green-dot,en:made-in-france,en:no-added-sugar,fr:ab-agriculture-biologique,fr:origine-france                                 1\nen:no-lactose,fr:it-016-081,fr:wheat-free                                                                                                                                                           1\nen:m216-427                                                                                                                                                                                         1\nen:organic,en:eu-organic,en:fsc,en:fr-bio-01,en:fsc-c014047,en:fsc-mix,en:green-dot,fr:100-vegetale,fr:ab-agriculture-biologique,fr:agriculture-france,fr:eco-emballages,fr:filiere-non-ogm         1\nName: labels_tags, Length: 13654, dtype: int64"
     },
     "metadata": {}
    },
    {
     "output_type": "stream",
     "name": "stdout",
     "text": [
      "\n ================================================\n >    labels_fr\n ------------------------------------------------\n"
     ]
    },
    {
     "output_type": "display_data",
     "data": {
      "text/plain": "NaN                                                                                          274106\nBio,Bio européen,AB Agriculture Biologique                                                     5311\nPoint Vert                                                                                     2456\nVégétarien,Végétalien                                                                          1654\nPoint Vert,Eco-emballages                                                                       835\n                                                                                              ...  \nFSC,Fruits-presses,Tetra-pak                                                                      1\nLabels de distributeurs,Qualité Carrefour,Conditionne-en-france                                   1\nen:Pure-australian                                                                                1\nSans exhausteur de goût,Sans huile de palme,Escalope-100-filet                                    1\nBio,Bio européen,Empreinte carbone,AB Agriculture Biologique,Cn-bio-143,Empreinte carbone         1\nName: labels_fr, Length: 13656, dtype: int64"
     },
     "metadata": {}
    },
    {
     "output_type": "stream",
     "name": "stdout",
     "text": [
      "\n ================================================\n >    emb_codes\n ------------------------------------------------\n"
     ]
    },
    {
     "output_type": "display_data",
     "data": {
      "text/plain": "NaN                    291466\nEMB 56251E                218\nFR 85.154.002 EC          128\nEMB 49331H                105\nFR 72.264.002 EC          103\n                        ...  \nEMB 21423D,21 E 549         1\nDE EK 183 EC                1\nFR 69.078.050 EC            1\nFR 56.012.001 EC            1\nNM 469                      1\nName: emb_codes, Length: 8463, dtype: int64"
     },
     "metadata": {}
    },
    {
     "output_type": "stream",
     "name": "stdout",
     "text": [
      "\n ================================================\n >    emb_codes_tags\n ------------------------------------------------\n"
     ]
    },
    {
     "output_type": "display_data",
     "data": {
      "text/plain": "NaN                            291469\nemb-56251e                        218\nfr-85-154-002-ec                  128\nemb-49331h                        105\nfr-72-264-002-ec                  103\n                                ...  \nfr-52-465-001-ec                    1\nfr-94-022-088-ec                    1\nemb-72373a,fr-72-373-002-ec         1\nfr-79-049-002                       1\nde-nw-60027-ec                      1\nName: emb_codes_tags, Length: 8159, dtype: int64"
     },
     "metadata": {}
    },
    {
     "output_type": "stream",
     "name": "stdout",
     "text": [
      "\n ================================================\n >    first_packaging_code_geo\n ------------------------------------------------\n"
     ]
    },
    {
     "output_type": "display_data",
     "data": {
      "text/plain": "NaN                    301969\n47.633333,-2.666667       279\n47.833333,-0.333333       245\n49.266667,-0.666667       197\n48.1,-4.333333            169\n                        ...  \n43.666667,4.633333          1\n46.583333,-1.516667         1\n45.8,0.616667               1\n44.816667,0.45              1\n48.466667,-3.516667         1\nName: first_packaging_code_geo, Length: 1603, dtype: int64"
     },
     "metadata": {}
    },
    {
     "output_type": "stream",
     "name": "stdout",
     "text": [
      "\n ================================================\n >    cities\n ------------------------------------------------\n"
     ]
    },
    {
     "output_type": "display_data",
     "data": {
      "text/plain": "NaN    320749\nc           9\na           8\nb           6\nName: cities, dtype: int64"
     },
     "metadata": {}
    },
    {
     "output_type": "stream",
     "name": "stdout",
     "text": [
      "\n ================================================\n >    cities_tags\n ------------------------------------------------\n"
     ]
    },
    {
     "output_type": "display_data",
     "data": {
      "text/plain": "NaN                                         300452\ntheix-morbihan-france                          270\ndouarnenez-finistere-france                    154\nsable-sur-sarthe-sarthe-france                 146\nsaint-martin-des-entrees-calvados-france       136\n                                             ...  \nmonein-pyrenees-atlantiques-france               1\nmaizey-meuse-france                              1\nlambersart-nord-france                           1\nmorne-a-l-eau-guadeloupe-france                  1\noraison-alpes-de-haute-provence-france           1\nName: cities_tags, Length: 2573, dtype: int64"
     },
     "metadata": {}
    },
    {
     "output_type": "stream",
     "name": "stdout",
     "text": [
      "\n ================================================\n >    purchase_places\n ------------------------------------------------\n"
     ]
    },
    {
     "output_type": "display_data",
     "data": {
      "text/plain": "NaN                                  262579\nFrance                                11762\nLyon,France                            3101\nCourrières,France                      2279\nMadrid,España                          2000\n                                      ...  \nAubervilliers - France                    1\nCaluire,Rhône,Paris,France                1\nBrétigny-sur-Orge,France,Rennes           1\nLe Palais,Belle-Île-en-Mer,France         1\nBelgique Waterloo                         1\nName: purchase_places, Length: 5121, dtype: int64"
     },
     "metadata": {}
    },
    {
     "output_type": "stream",
     "name": "stdout",
     "text": [
      "\n ================================================\n >    stores\n ------------------------------------------------\n"
     ]
    },
    {
     "output_type": "display_data",
     "data": {
      "text/plain": "NaN                                           269050\nCarrefour                                       6465\nAuchan                                          2869\nLeclerc                                         2826\nCora                                            2274\n                                               ...  \nWoolworths Town Hall,Woolworths,Coles,Bilo         1\nintermarché,Carrefour,Leclerc                      1\nAuchan,Simply market                               1\nCostcutter                                         1\nLidl de Xabregas                                   1\nName: stores, Length: 3260, dtype: int64"
     },
     "metadata": {}
    },
    {
     "output_type": "stream",
     "name": "stdout",
     "text": [
      "\n ================================================\n >    countries\n ------------------------------------------------\n"
     ]
    },
    {
     "output_type": "display_data",
     "data": {
      "text/plain": "US                                         169928\nFrance                                      77292\nen:FR                                       16979\nSuisse                                      12314\nDeutschland                                  6161\n                                            ...  \nČesko,Itálie                                    1\nInde                                            1\nen:EU, US                                       1\nBelgium,France,Italy,United Kingdom             1\nFrance,Italy,Netherlands,United Kingdom         1\nName: countries, Length: 1435, dtype: int64"
     },
     "metadata": {}
    },
    {
     "output_type": "stream",
     "name": "stdout",
     "text": [
      "\n ================================================\n >    countries_tags\n ------------------------------------------------\n"
     ]
    },
    {
     "output_type": "display_data",
     "data": {
      "text/plain": "en:united-states                                                     172998\nen:france                                                             94391\nen:switzerland                                                        14953\nen:germany                                                             7870\nen:spain                                                               5009\n                                                                      ...  \nen:austria,en:germany,en:spain                                            1\nen:france,fr:cora                                                         1\nen:australia,en:france,en:united-kingdom,en:scotland                      1\nen:belgium,en:france,en:germany,en:greece,en:netherlands,en:spain         1\nen:denemarken,en:finand,en:frankrijk,en:italiaans,en:zwitserland          1\nName: countries_tags, Length: 726, dtype: int64"
     },
     "metadata": {}
    },
    {
     "output_type": "stream",
     "name": "stdout",
     "text": [
      "\n ================================================\n >    countries_fr\n ------------------------------------------------\n"
     ]
    },
    {
     "output_type": "display_data",
     "data": {
      "text/plain": "États-Unis                                    172998\nFrance                                         94392\nSuisse                                         14953\nAllemagne                                       7870\nEspagne                                         5009\n                                               ...  \nFinlande,France,Grèce,Italie,Espagne,Suède         1\nFrance,Russie,Espagne,Royaume-Uni                  1\nÉtats-Unis,en:Niederlande                          1\nBelgique,France,Martinique,Suisse                  1\nItalie,Lituanie                                    1\nName: countries_fr, Length: 723, dtype: int64"
     },
     "metadata": {}
    },
    {
     "output_type": "stream",
     "name": "stdout",
     "text": [
      "\n ================================================\n >    ingredients_text\n ------------------------------------------------\n"
     ]
    },
    {
     "output_type": "display_data",
     "data": {
      "text/plain": "NaN                                                                                                                                                                                                                                                                                                                                                                                                                                                                                                                                                                                                                                                                                                                                                                                                                                                                                                                                                                                                                                        71810\nCarbonated water, natural flavor.                                                                                                                                                                                                                                                                                                                                                                                                                                                                                                                                                                                                                                                                                                                                                                                                                                                                                                                                                                                                            222\nAlmonds.                                                                                                                                                                                                                                                                                                                                                                                                                                                                                                                                                                                                                                                                                                                                                                                                                                                                                                                                                                                                                                     219\nExtra virgin olive oil.                                                                                                                                                                                                                                                                                                                                                                                                                                                                                                                                                                                                                                                                                                                                                                                                                                                                                                                                                                                                                      202\nExtra virgin olive oil                                                                                                                                                                                                                                                                                                                                                                                                                                                                                                                                                                                                                                                                                                                                                                                                                                                                                                                                                                                                                       192\n                                                                                                                                                                                                                                                                                                                                                                                                                                                                                                                                                                                                                                                                                                                                                                                                                                                                                                                                                                                                                                           ...  \nCertified organic chicken raised without antibiotics, organic red pepper, organic green pepper, organic basil. contains 2% or less of sea salt, organic fennel seed, organic paprika, salt, organic vinegar, organic roasted garlic, organic chili pepper, orga                                                                                                                                                                                                                                                                                                                                                                                                                                                                                                                                                                                                                                                                                                                                                                                1\nConsist of chocolate candy (maltitol, chocolate, cocoa butter, sodium caseinate (milk), milk fat, soy lecithin (an emulsifier). sucralose, natural and artificial flavor, salt), maltitiol syrup, pecans, polydextrose, partially hydrogenated palm kernel oil, sodium caseinate (milk), maltitiol, natural and artificial flavors, soy lecithin (an emulsifier), fd&c colors (yellow #5 & #6, red #40, blue #1), and sodium benzoate (preservative).                                                                                                                                                                                                                                                                                                                                                                                                                                                                                                                                                                                          1\nPain rond, steack haché, fromage fondu, ketchup, _moutarde_, oignons. Allergènes présents : _Lait_, _Céleri_, _Gluten_, _Soja_                                                                                                                                                                                                                                                                                                                                                                                                                                                                                                                                                                                                                                                                                                                                                                                                                                                                                                                 1\neau gazeifiée, sucre, colorant E150d; acidifiant: acide phosphorique; cafeine, arômes naturels                                                                                                                                                                                                                                                                                                                                                                                                                                                                                                                                                                                                                                                                                                                                                                                                                                                                                                                                                 1\nWater, manicotti (dough: semolina [wheat flour, thiamine mononitrate, riboflavin, niacin, iron, folic acid], wtaer, egg whites, filling: ricotta [fresh whey, pasteurized part-skim milk, cream, vinegar, salt], bread crumbs [wheat flour, sugar, yeast, salt], parmesan cheese pasteurized part-skim milk, cultures, enzyme, salt], romano cheese [sheep's milk, cultures, enzymes, salt], sodium metabisulfate, salt, black pepper, garlic powder, spices), tomatoes in juice (contains citric acid, calcium chloride), cooked pork crumbles (pork, water, textured vegetable protein [soy flour, soy protein isolate], seasoning [spices, garlic powder, dextrose, monosodium glutamate], salt, sugar, sodium phosphate), concentrated crushed tomatoes, onions, modified cornstarch, contains 2% or less of flavoring, sugar, parmesan cheese (part skim milk, cheese culture, salt, enzymes), salt, disodium inosinate and disodium guanylate, spices, citric acid, hydrolyzed corn protein, yeast extract, oleoresin of paprika.        1\nName: ingredients_text, Length: 205521, dtype: int64"
     },
     "metadata": {}
    },
    {
     "output_type": "stream",
     "name": "stdout",
     "text": [
      "\n ================================================\n >    allergens\n ------------------------------------------------\n"
     ]
    },
    {
     "output_type": "display_data",
     "data": {
      "text/plain": "NaN                                                                   292428\nblé                                                                     1279\nLait                                                                     829\nlait                                                                     702\nsoja                                                                     513\n                                                                       ...  \nparmesan, lait                                                             1\nwheat, barley malt                                                         1\nblé, lait, lactosérum, beurre, orge, soja, beurre, disulfite, lait         1\nblé, crème, crème, blé, blé, œufs                                          1\nblé, œufs, œufs, œufs, amandes, soja                                       1\nName: allergens, Length: 12940, dtype: int64"
     },
     "metadata": {}
    },
    {
     "output_type": "stream",
     "name": "stdout",
     "text": [
      "\n ================================================\n >    allergens_fr\n ------------------------------------------------\n"
     ]
    },
    {
     "output_type": "display_data",
     "data": {
      "text/plain": "NaN                                                                              320753\nhttp://fr.openfoodfacts.org/images/products/303/349/114/3014/front.17.200.jpg         1\nhttp://fr.openfoodfacts.org/images/products/303/349/043/3864/front.3.200.jpg          1\nhttp://fr.openfoodfacts.org/images/products/303/349/095/8008/front.8.200.jpg          1\nhttp://fr.openfoodfacts.org/images/products/303/349/059/4510/front.20.200.jpg         1\nhttp://fr.openfoodfacts.org/images/products/303/349/085/3587/front.9.200.jpg          1\nhttp://fr.openfoodfacts.org/images/products/303/349/512/5016/front.8.200.jpg          1\nhttp://fr.openfoodfacts.org/images/products/303/349/085/3570/front.6.200.jpg          1\nhttp://fr.openfoodfacts.org/images/products/303/349/091/7418/front.10.200.jpg         1\nhttp://fr.openfoodfacts.org/images/products/303/349/084/1782/front.9.200.jpg          1\nhttp://fr.openfoodfacts.org/images/products/303/349/085/3884/front.11.200.jpg         1\nhttp://fr.openfoodfacts.org/images/products/303/349/104/6308/front.3.200.jpg          1\nhttp://fr.openfoodfacts.org/images/products/303/349/091/7463/front.5.200.jpg          1\nhttp://fr.openfoodfacts.org/images/products/303/349/114/3021/front.6.200.jpg          1\nhttp://fr.openfoodfacts.org/images/products/303/349/095/8589/front.14.200.jpg         1\nhttp://fr.openfoodfacts.org/images/products/303/349/095/8541/front.7.200.jpg          1\nhttp://fr.openfoodfacts.org/images/products/303/349/091/7425/front.10.200.jpg         1\nhttp://fr.openfoodfacts.org/images/products/303/349/061/8889/front.12.200.jpg         1\nhttp://fr.openfoodfacts.org/images/products/303/349/059/5517/front.4.200.jpg          1\nhttp://fr.openfoodfacts.org/images/products/303/349/095/8213/front.8.200.jpg          1\nName: allergens_fr, dtype: int64"
     },
     "metadata": {}
    },
    {
     "output_type": "stream",
     "name": "stdout",
     "text": [
      "\n ================================================\n >    traces\n ------------------------------------------------\n"
     ]
    },
    {
     "output_type": "display_data",
     "data": {
      "text/plain": "NaN                                                            296419\nFruits à coque                                                   1240\nLait                                                              557\nGluten                                                            514\nŒufs                                                              416\n                                                                ...  \nSesame seeds,Milk                                                   1\ngluten,oeuf,soja,céleri,crustacé,poisson,moutarde,mollusque         1\nsoja,amandes,noisettes,lait,blé,oeuf                                1\nHaselnüsse,Mandeln,Erdnüsse                                         1\narachide,fruits à coque,lait,soja,graines de sésame                 1\nName: traces, Length: 8379, dtype: int64"
     },
     "metadata": {}
    },
    {
     "output_type": "stream",
     "name": "stdout",
     "text": [
      "\n ================================================\n >    traces_tags\n ------------------------------------------------\n"
     ]
    },
    {
     "output_type": "display_data",
     "data": {
      "text/plain": "NaN                                                                                                                              296443\nen:nuts                                                                                                                            2051\nen:milk                                                                                                                             844\nen:eggs                                                                                                                             788\nen:gluten                                                                                                                           718\n                                                                                                                                  ...  \nen:eggs,en:lupin,de:nusse                                                                                                             1\nfr:peuvent-contenir-des-noyaux                                                                                                        1\nen:celery,en:crustaceans,en:eggs,en:fish,en:gluten,en:lupin,en:milk,en:molluscs,en:mustard,en:nuts,en:peanuts,en:sesame-seeds         1\nen:milk,en:mustard,fr:cereales-contenant-du-gluten                                                                                    1\nen:celery,en:crustaceans,en:fish,en:lupin,en:milk,en:molluscs,en:mustard,en:nuts,en:sesame-seeds,en:soybeans                          1\nName: traces_tags, Length: 3579, dtype: int64"
     },
     "metadata": {}
    },
    {
     "output_type": "stream",
     "name": "stdout",
     "text": [
      "\n ================================================\n >    traces_fr\n ------------------------------------------------\n"
     ]
    },
    {
     "output_type": "display_data",
     "data": {
      "text/plain": "NaN                                                                     296420\nFruits à coque                                                            2051\nLait                                                                       844\nŒufs                                                                       788\nGluten                                                                     718\n                                                                         ...  \nFruits à coque,en:Cashew-nuts                                                1\nCéleri,Œufs,Lupin,Lait,Mollusques,Moutarde,Graines de sésame,Soja            1\nPoisson,Fruits à coque,Anhydride sulfureux et sulfites                       1\nCéleri,Œufs,Lait,Moutarde,Arachides,Graines de sésame                        1\nGluten,Moutarde,Fruits à coque,Graines de sésame,Soja,Lait-de-chevre         1\nName: traces_fr, Length: 3585, dtype: int64"
     },
     "metadata": {}
    },
    {
     "output_type": "stream",
     "name": "stdout",
     "text": [
      "\n ================================================\n >    serving_size\n ------------------------------------------------\n"
     ]
    },
    {
     "output_type": "display_data",
     "data": {
      "text/plain": "NaN                                        109441\n240 ml (8 fl oz)                             5496\n28 g (1 oz)                                  5374\n28 g (1 ONZ)                                 3770\n15 ml (1 Tbsp)                               2959\n                                            ...  \n33cl (1bouteille)                               1\n28.75 g (1 MADELEINE)                           1\n93 g (1 CONE)                                   1\n9 g (1.6 Tbsp)                                  1\n75 g (0.75 CUP PREPARED (200G) | ABOUT)         1\nName: serving_size, Length: 25424, dtype: int64"
     },
     "metadata": {}
    },
    {
     "output_type": "stream",
     "name": "stdout",
     "text": [
      "\n ================================================\n >    no_nutriments\n ------------------------------------------------\n"
     ]
    },
    {
     "output_type": "display_data",
     "data": {
      "text/plain": "NaN    320772\nName: no_nutriments, dtype: int64"
     },
     "metadata": {}
    },
    {
     "output_type": "stream",
     "name": "stdout",
     "text": [
      "\n ================================================\n >    additives_n\n ------------------------------------------------\n"
     ]
    },
    {
     "output_type": "display_data",
     "data": {
      "text/plain": "0.0     94259\nNaN     71833\n1.0     46509\n2.0     36520\n3.0     23680\n4.0     15243\n5.0     10935\n6.0      7290\n7.0      4702\n8.0      3359\n9.0      2194\n10.0     1336\n11.0      893\n12.0      589\n13.0      376\n14.0      325\n15.0      224\n16.0      128\n17.0      109\n18.0       68\n19.0       55\n20.0       48\n22.0       27\n21.0       21\n23.0       15\n25.0       11\n24.0       10\n31.0        4\n26.0        3\n28.0        2\n29.0        2\n27.0        2\nName: additives_n, dtype: int64"
     },
     "metadata": {}
    },
    {
     "output_type": "stream",
     "name": "stdout",
     "text": [
      "\n ================================================\n >    additives\n ------------------------------------------------\n"
     ]
    },
    {
     "output_type": "display_data",
     "data": {
      "text/plain": "NaN                                                                                                                                                                                                                                                                                                                                                                                                                                                                                                                                                                                                                                                                                                                                                                                                                                                                                                                                                                                                                                                                                                                                                                                                                                                                                                                                                                                                                                                                                                                                                                                                                                                                                                                                                                                                                                                                                                                                                                                                                                                                                                                                                                                                                                                                                                                                                                                                                                                                                                                                                                                                                                                                                                                                                                                                                                                                                                                                                                                                                                                                                                                                                                                                                                   71867\n [ extra-virgin-olive-oil -> en:extra-virgin-olive-oil  ]  [ virgin-olive-oil -> en:virgin-olive-oil  ]  [ olive-oil -> en:olive-oil  ]  [ oil -> en:oil  ]                                                                                                                                                                                                                                                                                                                                                                                                                                                                                                                                                                                                                                                                                                                                                                                                                                                                                                                                                                                                                                                                                                                                                                                                                                                                                                                                                                                                                                                                                                                                                                                                                                                                                                                                                                                                                                                                                                                                                                                                                                                                                                                                                                                                                                                                                                                                                                                                                                                                                                                                                                                                                                                                                                                                                                                                                                                                                                                                                                                                                                                                             397\n [ almonds -> en:almonds  ]                                                                                                                                                                                                                                                                                                                                                                                                                                                                                                                                                                                                                                                                                                                                                                                                                                                                                                                                                                                                                                                                                                                                                                                                                                                                                                                                                                                                                                                                                                                                                                                                                                                                                                                                                                                                                                                                                                                                                                                                                                                                                                                                                                                                                                                                                                                                                                                                                                                                                                                                                                                                                                                                                                                                                                                                                                                                                                                                                                                                                                                                                                                                                                                                             274\n [ honey -> en:honey  ]                                                                                                                                                                                                                                                                                                                                                                                                                                                                                                                                                                                                                                                                                                                                                                                                                                                                                                                                                                                                                                                                                                                                                                                                                                                                                                                                                                                                                                                                                                                                                                                                                                                                                                                                                                                                                                                                                                                                                                                                                                                                                                                                                                                                                                                                                                                                                                                                                                                                                                                                                                                                                                                                                                                                                                                                                                                                                                                                                                                                                                                                                                                                                                                                                 267\n [ carbonated-water -> en:carbonated-water  ]  [ water -> en:water  ]  [ natural-flavor -> en:natural-flavor  ]  [ flavor -> en:flavor  ]                                                                                                                                                                                                                                                                                                                                                                                                                                                                                                                                                                                                                                                                                                                                                                                                                                                                                                                                                                                                                                                                                                                                                                                                                                                                                                                                                                                                                                                                                                                                                                                                                                                                                                                                                                                                                                                                                                                                                                                                                                                                                                                                                                                                                                                                                                                                                                                                                                                                                                                                                                                                                                                                                                                                                                                                                                                                                                                                                                                                                                                                                               232\n                                                                                                                                                                                                                                                                                                                                                                                                                                                                                                                                                                                                                                                                                                                                                                                                                                                                                                                                                                                                                                                                                                                                                                                                                                                                                                                                                                                                                                                                                                                                                                                                                                                                                                                                                                                                                                                                                                                                                                                                                                                                                                                                                                                                                                                                                                                                                                                                                                                                                                                                                                                                                                                                                                                                                                                                                                                                                                                                                                                                                                                                                                                                                                                                                                      ...  \n [ sucre -> fr:sucre  ]  [ sirop-de-glucose -> fr:sirop-de-glucose  ]  [ sirop-de -> fr:sirop-de  ]  [ sirop -> fr:sirop  ]  [ miel -> fr:miel  ]  [ suc-de-reglisse -> fr:suc-de-reglisse  ]  [ suc-de -> fr:suc-de  ]  [ suc -> fr:suc  ]  [ menthol -> fr:menthol  ]  [ huiles-essentielles-d-eucalyptus-et-de-pin -> fr:huiles-essentielles-d-eucalyptus-et-de-pin  ]  [ huiles-essentielles-d-eucalyptus-et-de -> fr:huiles-essentielles-d-eucalyptus-et-de  ]  [ huiles-essentielles-d-eucalyptus-et -> fr:huiles-essentielles-d-eucalyptus-et  ]  [ huiles-essentielles-d-eucalyptus -> fr:huiles-essentielles-d-eucalyptus  ]  [ huiles-essentielles-d -> fr:huiles-essentielles-d  ]  [ huiles-essentielles -> fr:huiles-essentielles  ]  [ huiles -> fr:huiles  ]  [ huiles-essentielles-d-eucalyptus -> fr:huiles-essentielles-d-eucalyptus  ]  [ huiles-essentielles-d -> fr:huiles-essentielles-d  ]  [ huiles-essentielles -> fr:huiles-essentielles  ]  [ huiles -> fr:huiles  ]  [ pin -> fr:pin  ]                                                                                                                                                                                                                                                                                                                                                                                                                                                                                                                                                                                                                                                                                                                                                                                                                                                                                                                                                                                                                                                                                                                                                                                                                                                                                                                                                                                                                                                                                                                                                                                                                                                                                                                                                                                                                                                                                                                                                                                                                                                                                                                                                                                                                       1\n [ water -> en:water  ]  [ black-beans -> en:black-beans  ]  [ beans -> en:beans  ]  [ onions -> en:onions  ]  [ tomatoes -> en:tomatoes  ]  [ corn-tomato-paste -> en:corn-tomato-paste  ]  [ tomato-paste -> en:tomato-paste  ]  [ paste -> en:paste  ]  [ red-peppers -> en:red-peppers  ]  [ peppers -> en:peppers  ]  [ zucchini -> en:zucchini  ]  [ cane-sugar -> en:cane-sugar  ]  [ sugar -> en:sugar  ]  [ modified-cornstarch -> en:modified-cornstarch  ]  [ cornstarch -> en:cornstarch  ]  [ rice-flour -> en:rice-flour  ]  [ flour -> en:flour  ]  [ yellow-peppers -> en:yellow-peppers  ]  [ peppers -> en:peppers  ]  [ high-oleic-sunflower-oil -> en:high-oleic-sunflower-oil  ]  [ oleic-sunflower-oil -> en:oleic-sunflower-oil  ]  [ sunflower-oil -> en:sunflower-oil  ]  [ oil -> en:oil  ]  [ jalapeno-peppers -> en:jalapeno-peppers  ]  [ peppers -> en:peppers  ]  [ salt -> en:salt  ]  [ spices -> en:spices  ]  [ pomegranate-powder -> en:pomegranate-powder  ]  [ powder -> en:powder  ]  [ onion-powder -> en:onion-powder  ]  [ powder -> en:powder  ]  [ olive-oil -> en:olive-oil  ]  [ oil -> en:oil  ]  [ chia-seeds -> en:chia-seeds  ]  [ seeds -> en:seeds  ]                                                                                                                                                                                                                                                                                                                                                                                                                                                                                                                                                                                                                                                                                                                                                                                                                                                                                                                                                                                                                                                                                                                                                                                                                                                                                                                                                                                                                                                                                                                                                                                                                                                                                                                                                                                                                                                                                                                                                                                                                                 1\n [ milk-chocolate -> en:milk-chocolate  ]  [ chocolate -> en:chocolate  ]  [ sugar -> en:sugar  ]  [ cocoa-butter -> en:cocoa-butter  ]  [ butter -> en:butter  ]  [ whole-milk -> en:whole-milk  ]  [ milk -> en:milk  ]  [ chocolate-liquor -> en:chocolate-liquor  ]  [ liquor -> en:liquor  ]  [ soy-lecithin -> en:soy-lecithin  ]  [ lecithin -> en:e322  -> exists  -- ok  ]  [ an-emulsifier -> en:an-emulsifier  ]  [ emulsifier -> en:emulsifier  ]  [ vanilla -> en:vanilla  ]  [ roasted-peanuts -> en:roasted-peanuts  ]  [ peanuts -> en:peanuts  ]  [ peanuts -> en:peanuts  ]  [ cottonseed-and-peanut-and-coconut-oils -> en:cottonseed-and-peanut-and-coconut-oils  ]  [ and-peanut-and-coconut-oils -> en:and-peanut-and-coconut-oils  ]  [ peanut-and-coconut-oils -> en:peanut-and-coconut-oils  ]  [ and-coconut-oils -> en:and-coconut-oils  ]  [ coconut-oils -> en:coconut-oils  ]  [ oils -> en:oils  ]  [ sugar -> en:sugar  ]  [ corn-syrup -> en:corn-syrup  ]  [ syrup -> en:syrup  ]  [ gum-arabic -> en:e414  -> exists  -- ok  ]  [ confectioners-glaze -> en:confectioners-glaze  ]  [ glaze -> en:glaze  ]                                                                                                                                                                                                                                                                                                                                                                                                                                                                                                                                                                                                                                                                                                                                                                                                                                                                                                                                                                                                                                                                                                                                                                                                                                                                                                                                                                                                                                                                                                                                                                                                                                                                                                                                                                                                                                                                                                                                                                                                                                                                                             1\n [ sucre -> fr:sucre  ]  [ beurre-de-cacao -> fr:beurre-de-cacao  ]  [ beurre-de -> fr:beurre-de  ]  [ beurre -> fr:beurre  ]  [ lait-entier-en-poudre -> fr:lait-entier-en-poudre  ]  [ lait-entier-en -> fr:lait-entier-en  ]  [ lait-entier -> fr:lait-entier  ]  [ lait -> fr:lait  ]  [ pate-de-cacao -> fr:pate-de-cacao  ]  [ pate-de -> fr:pate-de  ]  [ pate -> fr:pate  ]  [ beurre-fondu -> fr:beurre-fondu  ]  [ beurre -> fr:beurre  ]  [ sirop-de-sucre-inverti -> fr:sirop-de-sucre-inverti  ]  [ sirop-de-sucre -> fr:sirop-de-sucre  ]  [ sirop-de -> fr:sirop-de  ]  [ sirop -> fr:sirop  ]  [ lait-ecreme-en-poudre -> fr:lait-ecreme-en-poudre  ]  [ lait-ecreme-en -> fr:lait-ecreme-en  ]  [ lait-ecreme -> fr:lait-ecreme  ]  [ lait -> fr:lait  ]  [ humectant -> fr:humectant  ]  [ sirop-de-sorbitol -> en:e420  -> exists  -- ok  ]  [ cognac-1-2 -> fr:cognac-1-2  ]  [ cognac-1 -> fr:cognac-1  ]  [ cognac -> fr:cognac  ]  [ cherry-brandy-1-1 -> fr:cherry-brandy-1-1  ]  [ cherry-brandy-1 -> fr:cherry-brandy-1  ]  [ cherry-brandy -> fr:cherry-brandy  ]  [ cherry -> fr:cherry  ]  [ calvados-1-0 -> fr:calvados-1-0  ]  [ calvados-1 -> fr:calvados-1  ]  [ calvados -> fr:calvados  ]  [ rhum-0-9 -> fr:rhum-0-9  ]  [ rhum-0 -> fr:rhum-0  ]  [ rhum -> fr:rhum  ]  [ whisky-0-8 -> fr:whisky-0-8  ]  [ whisky-0 -> fr:whisky-0  ]  [ whisky -> fr:whisky  ]  [ cointreau-0-6 -> fr:cointreau-0-6  ]  [ cointreau-0 -> fr:cointreau-0  ]  [ cointreau -> fr:cointreau  ]  [ grand-marnier-0-4 -> fr:grand-marnier-0-4  ]  [ grand-marnier-0 -> fr:grand-marnier-0  ]  [ grand-marnier -> fr:grand-marnier  ]  [ grand -> fr:grand  ]  [ tia-maria-0-4 -> fr:tia-maria-0-4  ]  [ tia-maria-0 -> fr:tia-maria-0  ]  [ tia-maria -> fr:tia-maria  ]  [ tia -> fr:tia  ]  [ emulsifiant -> fr:emulsifiant  ]  [ lecithine-de-soja -> fr:lecithine-de-soja  ]  [ lecithine-de -> fr:lecithine-de  ]  [ lecithine -> en:e322  -> exists  -- ok  ]  [ cacao-maigre-en-poudre -> fr:cacao-maigre-en-poudre  ]  [ cacao-maigre-en -> fr:cacao-maigre-en  ]  [ cacao-maigre -> fr:cacao-maigre  ]  [ cacao -> fr:cacao  ]  [ aromes -> fr:aromes  ]  [ cafe-torrefie-moulu -> fr:cafe-torrefie-moulu  ]  [ cafe-torrefie -> fr:cafe-torrefie  ]  [ cafe -> fr:cafe  ]  [ huile-de-tournesol -> fr:huile-de-tournesol  ]  [ huile-de -> fr:huile-de  ]  [ huile -> fr:huile  ]  [ sucre-caramel-cacao -> fr:sucre-caramel-cacao  ]  [ sucre-caramel -> fr:sucre-caramel  ]  [ sucre -> fr:sucre  ]  [ 31-minimum-dans-le-chocolat-au-laitcacao -> fr:31-minimum-dans-le-chocolat-au-laitcacao  ]  [ 31-minimum-dans-le-chocolat-au -> fr:31-minimum-dans-le-chocolat-au  ]  [ 31-minimum-dans-le-chocolat -> fr:31-minimum-dans-le-chocolat  ]  [ 31-minimum-dans-le -> fr:31-minimum-dans-le  ]  [ 31-minimum-dans -> fr:31-minimum-dans  ]  [ 31-minimum -> fr:31-minimum  ]  [ 31 -> fr:31  ]  [ 50-minimum-dans-le-chocolat-noir -> fr:50-minimum-dans-le-chocolat-noir  ]  [ 50-minimum-dans-le-chocolat -> fr:50-minimum-dans-le-chocolat  ]  [ 50-minimum-dans-le -> fr:50-minimum-dans-le  ]  [ 50-minimum-dans -> fr:50-minimum-dans  ]  [ 50-minimum -> fr:50-minimum  ]  [ 50 -> fr:50  ]         1\n [ pommes-de-terre-58 -> fr:pommes-de-terre-58  ]  [ pommes-de-terre -> fr:pommes-de-terre  ]  [ pommes-de -> fr:pommes-de  ]  [ pommes -> fr:pommes  ]  [ 9 -> en:fd-c  ]  [ huile-de-tournesol-34 -> fr:huile-de-tournesol-34  ]  [ huile-de-tournesol -> fr:huile-de-tournesol  ]  [ huile-de -> fr:huile-de  ]  [ huile -> fr:huile  ]  [ base-aromatisante-saveur-jambon-iberique -> fr:base-aromatisante-saveur-jambon-iberique  ]  [ base-aromatisante-saveur-jambon -> fr:base-aromatisante-saveur-jambon  ]  [ base-aromatisante-saveur -> fr:base-aromatisante-saveur  ]  [ base-aromatisante -> fr:base-aromatisante  ]  [ base -> fr:base  ]  [ aromes-et-aromes-de-fumee -> fr:aromes-et-aromes-de-fumee  ]  [ aromes-et-aromes-de -> fr:aromes-et-aromes-de  ]  [ aromes-et-aromes -> fr:aromes-et-aromes  ]  [ aromes-et -> fr:aromes-et  ]  [ aromes -> fr:aromes  ]  [ contient-du-ble-et-du-lait -> fr:contient-du-ble-et-du-lait  ]  [ contient-du-ble-et-du -> fr:contient-du-ble-et-du  ]  [ contient-du-ble-et -> fr:contient-du-ble-et  ]  [ contient-du-ble -> fr:contient-du-ble  ]  [ contient-du -> fr:contient-du  ]  [ contient -> fr:contient  ]  [ poivre -> fr:poivre  ]  [ fromage-fondu-en-poudre -> fr:fromage-fondu-en-poudre  ]  [ fromage-fondu-en -> fr:fromage-fondu-en  ]  [ fromage-fondu -> fr:fromage-fondu  ]  [ fromage -> fr:fromage  ]  [ oignon -> fr:oignon  ]  [ coriandre -> fr:coriandre  ]  [ sel -> fr:sel  ]  [ aromes -> fr:aromes  ]  [ aromes-de-fumee -> fr:aromes-de-fumee  ]  [ aromes-de -> fr:aromes-de  ]  [ aromes -> fr:aromes  ]  [ contient-du-ble -> fr:contient-du-ble  ]  [ contient-du -> fr:contient-du  ]  [ contient -> fr:contient  ]  [ du-lait -> fr:du-lait  ]  [ du -> fr:du  ]                                                                                                                                                                                                                                                                                                                                                                                                                                                                                                                                                                                                                                                                                                                                                                                                                                                                                                                                                                                                                                                                                                                                                                                                                                                                                                                                                                                                                                                                          1\nName: additives, Length: 196070, dtype: int64"
     },
     "metadata": {}
    },
    {
     "output_type": "stream",
     "name": "stdout",
     "text": [
      "\n ================================================\n >    additives_tags\n ------------------------------------------------\n"
     ]
    },
    {
     "output_type": "display_data",
     "data": {
      "text/plain": "NaN                                                                166092\nen:e322                                                              8264\nen:e330                                                              7709\nen:e375,en:e101                                                      7624\nen:e300                                                              3024\n                                                                    ...  \nen:e330,en:e331,en:e444,en:e950,en:e385                                 1\nen:e471,en:e450,en:e320,en:e223,en:e451,en:e310,en:e330,en:e621         1\nen:e160,en:e300                                                         1\nen:e330,en:e331,en:e340i,en:e211,en:e955,en:e110,en:e950                1\nen:e262,en:e326,en:e300,en:e301                                         1\nName: additives_tags, Length: 41538, dtype: int64"
     },
     "metadata": {}
    },
    {
     "output_type": "stream",
     "name": "stdout",
     "text": [
      "\n ================================================\n >    additives_fr\n ------------------------------------------------\n"
     ]
    },
    {
     "output_type": "display_data",
     "data": {
      "text/plain": "NaN                                                                                                                                                                                 166092\nE322 - Lécithines                                                                                                                                                                     8264\nE330 - Acide citrique                                                                                                                                                                 7709\nE375 - Acide nicotinique,E101 - Riboflavine                                                                                                                                           7624\nE300 - Acide ascorbique                                                                                                                                                               3024\n                                                                                                                                                                                     ...  \nE415 - Gomme xanthane,E410 - Farine de graines de caroube,E412 - Gomme de guar,E330 - Acide citrique,E509 - Chlorure de calcium                                                          1\nE375 - Acide nicotinique,E300 - Acide ascorbique,E516 - Sulfate de calcium                                                                                                               1\nE326 - Lactate de potassium,E262 - Acétates de sodium,E160c - Extrait de paprika,E120 - Acide carminique,E301 - Ascorbate de sodium,E300 - Acide ascorbique                              1\nE330 - Acide citrique,E572 - C36H70MgO4,E414 - Gomme d'acacia,E904 - Gomme-laque,E903 - Cire de carnauba,E129 - Rouge allura AC,E102 - Tartrazine                                        1\nE171 - Oxyde de titane,E102 - Tartrazine,E127 - Érythrosine,E129 - Rouge allura AC,E133 - Bleu brillant FCF,E150a - Caramel E150a,E201 - Sorbate de sodium,E414 - Gomme d'acacia         1\nName: additives_fr, Length: 41538, dtype: int64"
     },
     "metadata": {}
    },
    {
     "output_type": "stream",
     "name": "stdout",
     "text": [
      "\n ================================================\n >    ingredients_from_palm_oil_n\n ------------------------------------------------\n"
     ]
    },
    {
     "output_type": "display_data",
     "data": {
      "text/plain": "0.0    244104\nNaN     71833\n1.0      4776\n2.0        59\nName: ingredients_from_palm_oil_n, dtype: int64"
     },
     "metadata": {}
    },
    {
     "output_type": "stream",
     "name": "stdout",
     "text": [
      "\n ================================================\n >    ingredients_from_palm_oil\n ------------------------------------------------\n"
     ]
    },
    {
     "output_type": "display_data",
     "data": {
      "text/plain": "NaN    320772\nName: ingredients_from_palm_oil, dtype: int64"
     },
     "metadata": {}
    },
    {
     "output_type": "stream",
     "name": "stdout",
     "text": [
      "\n ================================================\n >    ingredients_from_palm_oil_tags\n ------------------------------------------------\n"
     ]
    },
    {
     "output_type": "display_data",
     "data": {
      "text/plain": "NaN                                                           315937\nhuile-de-palme                                                  4586\ne304-palmitate-d-ascorbyle                                       158\nhuile-de-palme,e304-palmitate-d-ascorbyle                         35\noleine-de-palme                                                   19\nmono-et-diglycerides-d-acides-gras-de-palme                       12\ne304-palmitate-d-ascorbyle,huile-de-palme                          6\nhuile-de-palme,oleine-de-palme                                     6\nhuile-de-palme,stearine-de-palme                                   5\noleine-de-palme,e304-palmitate-d-ascorbyle                         2\nhuile-de-palme,mono-et-diglycerides-d-acides-gras-de-palme         2\noleine-de-palme,huile-de-palme                                     1\nstearine-de-palme                                                  1\nstearine-de-palme,huile-de-palme                                   1\nmono-et-diglycerides-d-acides-gras-de-palme,huile-de-palme         1\nName: ingredients_from_palm_oil_tags, dtype: int64"
     },
     "metadata": {}
    },
    {
     "output_type": "stream",
     "name": "stdout",
     "text": [
      "\n ================================================\n >    ingredients_that_may_be_from_palm_oil_n\n ------------------------------------------------\n"
     ]
    },
    {
     "output_type": "display_data",
     "data": {
      "text/plain": "0.0    237243\nNaN     71833\n1.0     10037\n2.0      1321\n3.0       286\n4.0        45\n5.0         6\n6.0         1\nName: ingredients_that_may_be_from_palm_oil_n, dtype: int64"
     },
     "metadata": {}
    },
    {
     "output_type": "stream",
     "name": "stdout",
     "text": [
      "\n ================================================\n >    ingredients_that_may_be_from_palm_oil\n ------------------------------------------------\n"
     ]
    },
    {
     "output_type": "display_data",
     "data": {
      "text/plain": "NaN    320772\nName: ingredients_that_may_be_from_palm_oil, dtype: int64"
     },
     "metadata": {}
    },
    {
     "output_type": "stream",
     "name": "stdout",
     "text": [
      "\n ================================================\n >    ingredients_that_may_be_from_palm_oil_tags\n ------------------------------------------------\n"
     ]
    },
    {
     "output_type": "display_data",
     "data": {
      "text/plain": "NaN                                                                                                                                                                                    309076\ne160a-beta-carotene                                                                                                                                                                      2843\ne471-mono-et-diglycerides-d-acides-gras-alimentaires                                                                                                                                     2579\nhuile-vegetale                                                                                                                                                                           2082\ne433-monooleate-de-polyoxyethylene-de-sorbitane                                                                                                                                          2079\n                                                                                                                                                                                        ...  \ne472c-ester-diacetyl-citrique-de-mono-et-diglycerides-d-acides-gras,e160a-beta-carotene                                                                                                     1\ne471-mono-et-diglycerides-d-acides-gras-alimentaires,e160a-beta-carotene,huile-vegetale,e472a-ester-diacetyl-acetique-d-acides-gras                                                         1\nhuile-vegetale,e472b-ester-diacetyl-lactique-de-mono-et-diglycerides-d-acides-gras,e472a-ester-diacetyl-acetique-d-acides-gras,e471-mono-et-diglycerides-d-acides-gras-alimentaires         1\ne470b-stearate-de-magnesium,e471-mono-et-diglycerides-d-acides-gras-alimentaires,e160a-beta-carotene                                                                                        1\ne470a-stearate-de-sodium-potassium-calcium,huile-vegetale                                                                                                                                   1\nName: ingredients_that_may_be_from_palm_oil_tags, Length: 161, dtype: int64"
     },
     "metadata": {}
    },
    {
     "output_type": "stream",
     "name": "stdout",
     "text": [
      "\n ================================================\n >    nutrition_grade_uk\n ------------------------------------------------\n"
     ]
    },
    {
     "output_type": "display_data",
     "data": {
      "text/plain": "NaN    320772\nName: nutrition_grade_uk, dtype: int64"
     },
     "metadata": {}
    },
    {
     "output_type": "stream",
     "name": "stdout",
     "text": [
      "\n ================================================\n >    nutrition_grade_fr\n ------------------------------------------------\n"
     ]
    },
    {
     "output_type": "display_data",
     "data": {
      "text/plain": "NaN    99562\nd      62763\nc      45538\ne      43030\na      35634\nb      34245\nName: nutrition_grade_fr, dtype: int64"
     },
     "metadata": {}
    },
    {
     "output_type": "stream",
     "name": "stdout",
     "text": [
      "\n ================================================\n >    pnns_groups_1\n ------------------------------------------------\n"
     ]
    },
    {
     "output_type": "display_data",
     "data": {
      "text/plain": "NaN                        229259\nunknown                     22624\nSugary snacks               12368\nBeverages                    9033\nMilk and dairy products      8825\nCereals and potatoes         8442\nFish Meat Eggs               8041\nComposite foods              6747\nFruits and vegetables        5908\nFat and sauces               5216\nSalty snacks                 2809\nfruits-and-vegetables         987\nsugary-snacks                 496\ncereals-and-potatoes           16\nsalty-snacks                    1\nName: pnns_groups_1, dtype: int64"
     },
     "metadata": {}
    },
    {
     "output_type": "stream",
     "name": "stdout",
     "text": [
      "\n ================================================\n >    pnns_groups_2\n ------------------------------------------------\n"
     ]
    },
    {
     "output_type": "display_data",
     "data": {
      "text/plain": "NaN                                 226281\nunknown                              22624\nOne-dish meals                        5546\nSweets                                4698\nBiscuits and cakes                    4561\nNon-sugared beverages                 4302\nCereals                               4106\nCheese                                4024\nDressings and sauces                  3602\nMilk and yogurt                       3297\nProcessed meat                        3247\nChocolate products                    3109\nAlcoholic beverages                   2909\nVegetables                            2840\nFish and seafood                      2638\nSweetened beverages                   2170\nAppetizers                            2101\nFruits                                2068\nFruit juices                          1924\nBread                                 1838\nMeat                                  1694\nFats                                  1614\nBreakfast cereals                     1408\nvegetables                             934\nLegumes                                925\nDairy desserts                         783\nIce cream                              721\nNuts                                   689\nSandwich                               686\nPizza pies and quiche                  515\nSoups                                  503\nDried fruits                           497\npastries                               496\nEggs                                   462\nFruit nectars                          376\nArtificially sweetened beverages       261\nPotatoes                               165\nTripe dishes                            69\nfruits                                  53\nSalty and fatty products                19\ncereals                                 12\nlegumes                                  4\nnuts                                     1\nName: pnns_groups_2, dtype: int64"
     },
     "metadata": {}
    },
    {
     "output_type": "stream",
     "name": "stdout",
     "text": [
      "\n ================================================\n >    states\n ------------------------------------------------\n"
     ]
    },
    {
     "output_type": "display_data",
     "data": {
      "text/plain": "en:to-be-completed, en:nutrition-facts-completed, en:ingredients-completed, en:expiration-date-to-be-completed, en:packaging-code-to-be-completed, en:characteristics-to-be-completed, en:categories-to-be-completed, en:brands-completed, en:packaging-to-be-completed, en:quantity-to-be-completed, en:product-name-completed, en:photos-to-be-uploaded                               168905\nen:to-be-checked, en:complete, en:nutrition-facts-completed, en:ingredients-completed, en:expiration-date-completed, en:characteristics-completed, en:categories-completed, en:brands-completed, en:packaging-completed, en:quantity-completed, en:product-name-completed, en:photos-validated, en:photos-uploaded                                                                       23401\nen:to-be-checked, en:complete, en:nutrition-facts-completed, en:ingredients-completed, en:expiration-date-to-be-completed, en:characteristics-completed, en:categories-completed, en:brands-completed, en:packaging-completed, en:quantity-completed, en:product-name-completed, en:photos-validated, en:photos-uploaded                                                                 19080\nen:to-be-completed, en:nutrition-facts-to-be-completed, en:ingredients-to-be-completed, en:expiration-date-to-be-completed, en:characteristics-to-be-completed, en:categories-to-be-completed, en:brands-to-be-completed, en:packaging-to-be-completed, en:quantity-to-be-completed, en:product-name-to-be-completed, en:photos-to-be-validated, en:photos-uploaded                       8453\nen:to-be-completed, en:nutrition-facts-completed, en:ingredients-to-be-completed, en:expiration-date-to-be-completed, en:packaging-code-to-be-completed, en:characteristics-to-be-completed, en:categories-to-be-completed, en:brands-completed, en:packaging-to-be-completed, en:quantity-to-be-completed, en:product-name-completed, en:photos-to-be-validated, en:photos-uploaded      8099\n                                                                                                                                                                                                                                                                                                                                                                                         ...  \nen:to-be-completed, en:nutrition-facts-completed, en:ingredients-to-be-completed, en:expiration-date-completed, en:characteristics-to-be-completed, en:categories-to-be-completed, en:brands-to-be-completed, en:packaging-completed, en:quantity-completed, en:product-name-to-be-completed, en:photos-to-be-validated, en:photos-uploaded                                                  1\nen:to-be-completed, en:nutrition-facts-completed, en:ingredients-to-be-completed, en:expiration-date-completed, en:packaging-code-to-be-completed, en:characteristics-to-be-completed, en:categories-completed, en:brands-completed, en:packaging-completed, en:quantity-to-be-completed, en:product-name-completed, en:photos-to-be-uploaded                                                1\nen:to-be-completed, en:nutrition-facts-completed, en:ingredients-completed, en:expiration-date-to-be-completed, en:characteristics-to-be-completed, en:categories-to-be-completed, en:brands-to-be-completed, en:packaging-completed, en:quantity-to-be-completed, en:product-name-completed, en:photos-to-be-uploaded                                                                       1\nen:to-be-completed, en:nutrition-facts-to-be-completed, en:ingredients-completed, en:expiration-date-to-be-completed, en:characteristics-to-be-completed, en:categories-completed, en:brands-completed, en:packaging-to-be-completed, en:quantity-to-be-completed, en:product-name-to-be-completed, en:photos-validated, en:photos-uploaded                                                  1\nen:to-be-completed, en:nutrition-facts-completed, en:ingredients-completed, en:expiration-date-completed, en:characteristics-to-be-completed, en:categories-to-be-completed, en:brands-to-be-completed, en:packaging-to-be-completed, en:quantity-to-be-completed, en:product-name-to-be-completed, en:photos-validated, en:photos-uploaded                                                  1\nName: states, Length: 1022, dtype: int64"
     },
     "metadata": {}
    },
    {
     "output_type": "stream",
     "name": "stdout",
     "text": [
      "\n ================================================\n >    states_tags\n ------------------------------------------------\n"
     ]
    },
    {
     "output_type": "display_data",
     "data": {
      "text/plain": "en:to-be-completed,en:nutrition-facts-completed,en:ingredients-completed,en:expiration-date-to-be-completed,en:packaging-code-to-be-completed,en:characteristics-to-be-completed,en:categories-to-be-completed,en:brands-completed,en:packaging-to-be-completed,en:quantity-to-be-completed,en:product-name-completed,en:photos-to-be-uploaded                              168905\nen:to-be-checked,en:complete,en:nutrition-facts-completed,en:ingredients-completed,en:expiration-date-completed,en:characteristics-completed,en:categories-completed,en:brands-completed,en:packaging-completed,en:quantity-completed,en:product-name-completed,en:photos-validated,en:photos-uploaded                                                                       23401\nen:to-be-checked,en:complete,en:nutrition-facts-completed,en:ingredients-completed,en:expiration-date-to-be-completed,en:characteristics-completed,en:categories-completed,en:brands-completed,en:packaging-completed,en:quantity-completed,en:product-name-completed,en:photos-validated,en:photos-uploaded                                                                 19080\nen:to-be-completed,en:nutrition-facts-to-be-completed,en:ingredients-to-be-completed,en:expiration-date-to-be-completed,en:characteristics-to-be-completed,en:categories-to-be-completed,en:brands-to-be-completed,en:packaging-to-be-completed,en:quantity-to-be-completed,en:product-name-to-be-completed,en:photos-to-be-validated,en:photos-uploaded                      8453\nen:to-be-completed,en:nutrition-facts-completed,en:ingredients-to-be-completed,en:expiration-date-to-be-completed,en:packaging-code-to-be-completed,en:characteristics-to-be-completed,en:categories-to-be-completed,en:brands-completed,en:packaging-to-be-completed,en:quantity-to-be-completed,en:product-name-completed,en:photos-to-be-validated,en:photos-uploaded      8099\n                                                                                                                                                                                                                                                                                                                                                                             ...  \nen:to-be-completed,en:nutrition-facts-completed,en:ingredients-completed,en:expiration-date-completed,en:packaging-code-completed,en:characteristics-to-be-completed,en:categories-to-be-completed,en:brands-completed,en:packaging-to-be-completed,en:quantity-completed,en:product-name-completed,en:photos-validated,en:photos-uploaded                                       1\nen:to-be-completed,en:nutrition-facts-to-be-completed,en:ingredients-to-be-completed,en:expiration-date-to-be-completed,en:characteristics-to-be-completed,en:categories-to-be-completed,en:brands-completed,en:packaging-completed,en:quantity-completed,en:product-name-to-be-completed,en:photos-validated,en:photos-uploaded                                                 1\nen:to-be-completed,en:nutrition-facts-to-be-completed,en:ingredients-completed,en:expiration-date-completed,en:characteristics-to-be-completed,en:categories-completed,en:brands-to-be-completed,en:packaging-completed,en:quantity-to-be-completed,en:product-name-completed,en:photos-validated,en:photos-uploaded                                                             1\nen:to-be-completed,en:nutrition-facts-to-be-completed,en:ingredients-completed,en:expiration-date-completed,en:packaging-code-completed,en:characteristics-to-be-completed,en:categories-completed,en:brands-completed,en:packaging-to-be-completed,en:quantity-completed,en:product-name-completed,en:photos-validated,en:photos-uploaded                                       1\nen:to-be-completed,en:nutrition-facts-to-be-completed,en:ingredients-to-be-completed,en:expiration-date-to-be-completed,en:characteristics-to-be-completed,en:categories-completed,en:brands-to-be-completed,en:packaging-completed,en:quantity-to-be-completed,en:product-name-completed,en:photos-to-be-uploaded                                                               1\nName: states_tags, Length: 1022, dtype: int64"
     },
     "metadata": {}
    },
    {
     "output_type": "stream",
     "name": "stdout",
     "text": [
      "\n ================================================\n >    states_fr\n ------------------------------------------------\n"
     ]
    },
    {
     "output_type": "display_data",
     "data": {
      "text/plain": "A compléter,Informations nutritionnelles complétées,Ingrédients complétés,Date limite à compléter,en:Packaging-code-to-be-completed,Caractéristiques à compléter,Catégories à compléter,Marques complétées,Emballage à compléter,Quantité à compléter,Nom du produit complete,Photos à envoyer                      168905\nA vérifier,Complet,Informations nutritionnelles complétées,Ingrédients complétés,Date limite complétée,Caractéristiques complétées,Catégories complétées,Marques complétées,Emballage complété,Quantité complétée,Nom du produit complete,Photos validées,Photos envoyées                                            23401\nA vérifier,Complet,Informations nutritionnelles complétées,Ingrédients complétés,Date limite à compléter,Caractéristiques complétées,Catégories complétées,Marques complétées,Emballage complété,Quantité complétée,Nom du produit complete,Photos validées,Photos envoyées                                          19080\nA compléter,Informations nutritionnelles à compléter,Ingrédients à compléter,Date limite à compléter,Caractéristiques à compléter,Catégories à compléter,Marques à compléter,Emballage à compléter,Quantité à compléter,Nom du produit à compléter,Photos à valider,Photos envoyées                                   8453\nA compléter,Informations nutritionnelles complétées,Ingrédients à compléter,Date limite à compléter,en:Packaging-code-to-be-completed,Caractéristiques à compléter,Catégories à compléter,Marques complétées,Emballage à compléter,Quantité à compléter,Nom du produit complete,Photos à valider,Photos envoyées      8099\n                                                                                                                                                                                                                                                                                                                     ...  \nA compléter,Informations nutritionnelles complétées,Ingrédients complétés,Date limite complétée,en:Packaging-code-completed,Caractéristiques à compléter,Catégories à compléter,Marques complétées,Emballage à compléter,Quantité complétée,Nom du produit complete,Photos à valider,Photos envoyées                     1\nA compléter,Informations nutritionnelles à compléter,Ingrédients complétés,Date limite à compléter,en:Packaging-code-to-be-completed,Caractéristiques à compléter,Catégories à compléter,Marques complétées,Emballage à compléter,Quantité complétée,Nom du produit à compléter,Photos à valider,Photos envoyées         1\nA compléter,Informations nutritionnelles complétées,Ingrédients complétés,Date limite complétée,en:Packaging-code-completed,Caractéristiques à compléter,Catégories à compléter,Marques à compléter,Emballage à compléter,Quantité complétée,Nom du produit complete,Photos à valider,Photos envoyées                    1\nA compléter,Informations nutritionnelles complétées,Ingrédients complétés,Date limite à compléter,Caractéristiques à compléter,Catégories à compléter,Marques complétées,Emballage complété,Quantité à compléter,Nom du produit à compléter,Photos validées,Photos envoyées                                              1\nA compléter,Informations nutritionnelles complétées,Ingrédients à compléter,Date limite complétée,Caractéristiques à compléter,Catégories à compléter,Marques complétées,Emballage complété,Quantité complétée,Nom du produit à compléter,Photos à envoyer                                                               1\nName: states_fr, Length: 1022, dtype: int64"
     },
     "metadata": {}
    },
    {
     "output_type": "stream",
     "name": "stdout",
     "text": [
      "\n ================================================\n >    main_category\n ------------------------------------------------\n"
     ]
    },
    {
     "output_type": "display_data",
     "data": {
      "text/plain": "NaN                                   236406\nen:beverages                            6054\nen:groceries                            2902\nen:chocolates                           2789\nen:plant-based-foods-and-beverages      2745\n                                       ...  \nen:organic-spelt-flour                     1\nen:smoked-ham                              1\nde:grana-padano                            1\nde:speisefarben                            1\nit:pandoro                                 1\nName: main_category, Length: 3544, dtype: int64"
     },
     "metadata": {}
    },
    {
     "output_type": "stream",
     "name": "stdout",
     "text": [
      "\n ================================================\n >    main_category_fr\n ------------------------------------------------\n"
     ]
    },
    {
     "output_type": "display_data",
     "data": {
      "text/plain": "NaN                                                        236406\nBoissons                                                     6054\nEpicerie                                                     2902\nChocolats                                                    2789\nAliments et boissons à base de végétaux                      2745\n                                                            ...  \nGalettes-au-beurre                                              1\nMatiere-grasse-vegetale-a-tartiner                              1\nen:Juice-beverage                                               1\nBeurre-de-cacao-pour-applications-salees-matiere-grasse         1\nes:Galleta-salada                                               1\nName: main_category_fr, Length: 3544, dtype: int64"
     },
     "metadata": {}
    },
    {
     "output_type": "stream",
     "name": "stdout",
     "text": [
      "\n ================================================\n >    image_url\n ------------------------------------------------\n"
     ]
    },
    {
     "output_type": "display_data",
     "data": {
      "text/plain": "NaN                                                                              244936\nhttp://fr.openfoodfacts.org/images/products/00749145/front.3.400.jpg                  1\nhttp://fr.openfoodfacts.org/images/products/370/027/840/3400/front.3.400.jpg          1\nhttp://fr.openfoodfacts.org/images/products/01134742/front.6.400.jpg                  1\nhttp://fr.openfoodfacts.org/images/products/405/270/024/1685/front.6.400.jpg          1\n                                                                                  ...  \nhttp://fr.openfoodfacts.org/images/products/325/039/150/5388/front.15.400.jpg         1\nhttp://fr.openfoodfacts.org/images/products/302/169/002/1936/front.5.400.jpg          1\nhttp://fr.openfoodfacts.org/images/products/335/003/021/5958/front.5.400.jpg          1\nhttp://fr.openfoodfacts.org/images/products/502/104/710/4525/front.3.400.jpg          1\nhttp://fr.openfoodfacts.org/images/products/401/180/057/3218/front.3.400.jpg          1\nName: image_url, Length: 75837, dtype: int64"
     },
     "metadata": {}
    },
    {
     "output_type": "stream",
     "name": "stdout",
     "text": [
      "\n ================================================\n >    image_small_url\n ------------------------------------------------\n"
     ]
    },
    {
     "output_type": "display_data",
     "data": {
      "text/plain": "NaN                                                                              244936\nhttp://fr.openfoodfacts.org/images/products/366/134/405/7159/front.8.200.jpg          1\nhttp://fr.openfoodfacts.org/images/products/302/329/045/3926/front.9.200.jpg          1\nhttp://fr.openfoodfacts.org/images/products/848/000/082/3908/front.3.200.jpg          1\nhttp://fr.openfoodfacts.org/images/products/005/574/250/2770/front.3.200.jpg          1\n                                                                                  ...  \nhttp://fr.openfoodfacts.org/images/products/311/032/001/0065/front.8.200.jpg          1\nhttp://fr.openfoodfacts.org/images/products/317/568/102/8111/front.42.200.jpg         1\nhttp://fr.openfoodfacts.org/images/products/841/460/644/5974/front.15.200.jpg         1\nhttp://fr.openfoodfacts.org/images/products/761/009/500/3003/front.3.200.jpg          1\nhttp://fr.openfoodfacts.org/images/products/848/001/748/8961/front.5.200.jpg          1\nName: image_small_url, Length: 75837, dtype: int64"
     },
     "metadata": {}
    },
    {
     "output_type": "stream",
     "name": "stdout",
     "text": [
      "\n ================================================\n >    energy_100g\n ------------------------------------------------\n"
     ]
    },
    {
     "output_type": "display_data",
     "data": {
      "text/plain": "NaN       59659\n0.0        8909\n2092.0     5075\n1674.0     4012\n1494.0     3916\n          ...  \n66.9          1\n2819.0        1\n1531.9        1\n231.4         1\n891.3         1\nName: energy_100g, Length: 3998, dtype: int64"
     },
     "metadata": {}
    },
    {
     "output_type": "stream",
     "name": "stdout",
     "text": [
      "\n ================================================\n >    energy-from-fat_100g\n ------------------------------------------------\n"
     ]
    },
    {
     "output_type": "display_data",
     "data": {
      "text/plain": "NaN       319915\n0.0          164\n75.0          27\n1200.0        24\n1050.0        14\n           ...  \n235.0          1\n3740.0         1\n50.4           1\n21.0           1\n589.0          1\nName: energy-from-fat_100g, Length: 336, dtype: int64"
     },
     "metadata": {}
    },
    {
     "output_type": "stream",
     "name": "stdout",
     "text": [
      "\n ================================================\n >    fat_100g\n ------------------------------------------------\n"
     ]
    },
    {
     "output_type": "display_data",
     "data": {
      "text/plain": "NaN      76881\n0.00     64504\n25.00     3409\n0.50      3202\n32.14     2981\n         ...  \n47.02        1\n35.38        1\n42.76        1\n23.09        1\n20.19        1\nName: fat_100g, Length: 3379, dtype: int64"
     },
     "metadata": {}
    },
    {
     "output_type": "stream",
     "name": "stdout",
     "text": [
      "\n ================================================\n >    saturated-fat_100g\n ------------------------------------------------\n"
     ]
    },
    {
     "output_type": "display_data",
     "data": {
      "text/plain": "NaN       91218\n0.000     68736\n0.100      5355\n3.570      3487\n0.500      3302\n          ...  \n15.020        1\n92.200        1\n0.928         1\n40.900        1\n0.556         1\nName: saturated-fat_100g, Length: 2198, dtype: int64"
     },
     "metadata": {}
    },
    {
     "output_type": "stream",
     "name": "stdout",
     "text": [
      "\n ================================================\n >    butyric-acid_100g\n ------------------------------------------------\n"
     ]
    },
    {
     "output_type": "display_data",
     "data": {
      "text/plain": "NaN    320772\nName: butyric-acid_100g, dtype: int64"
     },
     "metadata": {}
    },
    {
     "output_type": "stream",
     "name": "stdout",
     "text": [
      "\n ================================================\n >    caproic-acid_100g\n ------------------------------------------------\n"
     ]
    },
    {
     "output_type": "display_data",
     "data": {
      "text/plain": "NaN    320772\nName: caproic-acid_100g, dtype: int64"
     },
     "metadata": {}
    },
    {
     "output_type": "stream",
     "name": "stdout",
     "text": [
      "\n ================================================\n >    caprylic-acid_100g\n ------------------------------------------------\n"
     ]
    },
    {
     "output_type": "display_data",
     "data": {
      "text/plain": "NaN    320771\n7.4         1\nName: caprylic-acid_100g, dtype: int64"
     },
     "metadata": {}
    },
    {
     "output_type": "stream",
     "name": "stdout",
     "text": [
      "\n ================================================\n >    capric-acid_100g\n ------------------------------------------------\n"
     ]
    },
    {
     "output_type": "display_data",
     "data": {
      "text/plain": "NaN     320770\n6.20         1\n5.88         1\nName: capric-acid_100g, dtype: int64"
     },
     "metadata": {}
    },
    {
     "output_type": "stream",
     "name": "stdout",
     "text": [
      "\n ================================================\n >    lauric-acid_100g\n ------------------------------------------------\n"
     ]
    },
    {
     "output_type": "display_data",
     "data": {
      "text/plain": "NaN         320768\n49.30000         1\n46.20000         1\n0.04473          1\n49.00000         1\nName: lauric-acid_100g, dtype: int64"
     },
     "metadata": {}
    },
    {
     "output_type": "stream",
     "name": "stdout",
     "text": [
      "\n ================================================\n >    myristic-acid_100g\n ------------------------------------------------\n"
     ]
    },
    {
     "output_type": "display_data",
     "data": {
      "text/plain": "NaN     320771\n18.9         1\nName: myristic-acid_100g, dtype: int64"
     },
     "metadata": {}
    },
    {
     "output_type": "stream",
     "name": "stdout",
     "text": [
      "\n ================================================\n >    palmitic-acid_100g\n ------------------------------------------------\n"
     ]
    },
    {
     "output_type": "display_data",
     "data": {
      "text/plain": "NaN    320771\n8.1         1\nName: palmitic-acid_100g, dtype: int64"
     },
     "metadata": {}
    },
    {
     "output_type": "stream",
     "name": "stdout",
     "text": [
      "\n ================================================\n >    stearic-acid_100g\n ------------------------------------------------\n"
     ]
    },
    {
     "output_type": "display_data",
     "data": {
      "text/plain": "NaN    320771\n3.0         1\nName: stearic-acid_100g, dtype: int64"
     },
     "metadata": {}
    },
    {
     "output_type": "stream",
     "name": "stdout",
     "text": [
      "\n ================================================\n >    arachidic-acid_100g\n ------------------------------------------------\n"
     ]
    },
    {
     "output_type": "display_data",
     "data": {
      "text/plain": "NaN       320748\n7.300          3\n12.900         2\n12.800         2\n6.300          2\n14.400         2\n13.100         2\n6.500          1\n6.200          1\n15.400         1\n12.700         1\n0.064          1\n14.000         1\n13.000         1\n13.600         1\n7.200          1\n13.300         1\n15.200         1\nName: arachidic-acid_100g, dtype: int64"
     },
     "metadata": {}
    },
    {
     "output_type": "stream",
     "name": "stdout",
     "text": [
      "\n ================================================\n >    behenic-acid_100g\n ------------------------------------------------\n"
     ]
    },
    {
     "output_type": "display_data",
     "data": {
      "text/plain": "NaN     320749\n7.1          3\n12.6         3\n13.2         2\n12.5         2\n5.5          2\n13.3         2\n5.2          1\n12.7         1\n6.9          1\n12.9         1\n12.8         1\n14.3         1\n5.6          1\n12.4         1\n14.6         1\nName: behenic-acid_100g, dtype: int64"
     },
     "metadata": {}
    },
    {
     "output_type": "stream",
     "name": "stdout",
     "text": [
      "\n ================================================\n >    lignoceric-acid_100g\n ------------------------------------------------\n"
     ]
    },
    {
     "output_type": "display_data",
     "data": {
      "text/plain": "NaN    320772\nName: lignoceric-acid_100g, dtype: int64"
     },
     "metadata": {}
    },
    {
     "output_type": "stream",
     "name": "stdout",
     "text": [
      "\n ================================================\n >    cerotic-acid_100g\n ------------------------------------------------\n"
     ]
    },
    {
     "output_type": "display_data",
     "data": {
      "text/plain": "NaN    320772\nName: cerotic-acid_100g, dtype: int64"
     },
     "metadata": {}
    },
    {
     "output_type": "stream",
     "name": "stdout",
     "text": [
      "\n ================================================\n >    montanic-acid_100g\n ------------------------------------------------\n"
     ]
    },
    {
     "output_type": "display_data",
     "data": {
      "text/plain": "NaN     320771\n61.0         1\nName: montanic-acid_100g, dtype: int64"
     },
     "metadata": {}
    },
    {
     "output_type": "stream",
     "name": "stdout",
     "text": [
      "\n ================================================\n >    melissic-acid_100g\n ------------------------------------------------\n"
     ]
    },
    {
     "output_type": "display_data",
     "data": {
      "text/plain": "NaN    320772\nName: melissic-acid_100g, dtype: int64"
     },
     "metadata": {}
    },
    {
     "output_type": "stream",
     "name": "stdout",
     "text": [
      "\n ================================================\n >    monounsaturated-fat_100g\n ------------------------------------------------\n"
     ]
    },
    {
     "output_type": "display_data",
     "data": {
      "text/plain": "NaN      297949\n0.00       5757\n66.67       630\n7.14        591\n8.93        441\n          ...  \n11.29         1\n3.79          1\n18.20         1\n1.74          1\n0.07          1\nName: monounsaturated-fat_100g, Length: 1067, dtype: int64"
     },
     "metadata": {}
    },
    {
     "output_type": "stream",
     "name": "stdout",
     "text": [
      "\n ================================================\n >    polyunsaturated-fat_100g\n ------------------------------------------------\n"
     ]
    },
    {
     "output_type": "display_data",
     "data": {
      "text/plain": "NaN      297913\n0.00       6320\n3.57        586\n10.00       516\n1.79        488\n          ...  \n10.60         1\n5.48          1\n10.59         1\n3.72          1\n7.31          1\nName: polyunsaturated-fat_100g, Length: 946, dtype: int64"
     },
     "metadata": {}
    },
    {
     "output_type": "stream",
     "name": "stdout",
     "text": [
      "\n ================================================\n >    omega-3-fat_100g\n ------------------------------------------------\n"
     ]
    },
    {
     "output_type": "display_data",
     "data": {
      "text/plain": "NaN      319931\n2.000        44\n1.800        31\n1.000        23\n2.300        22\n          ...  \n1.870         1\n1.437         1\n0.170         1\n0.244         1\n3.350         1\nName: omega-3-fat_100g, Length: 226, dtype: int64"
     },
     "metadata": {}
    },
    {
     "output_type": "stream",
     "name": "stdout",
     "text": [
      "\n ================================================\n >    alpha-linolenic-acid_100g\n ------------------------------------------------\n"
     ]
    },
    {
     "output_type": "display_data",
     "data": {
      "text/plain": "NaN      320586\n0.200         8\n7.000         7\n0.100         6\n0.048         5\n          ...  \n0.039         1\n0.076         1\n0.460         1\n0.545         1\n0.110         1\nName: alpha-linolenic-acid_100g, Length: 113, dtype: int64"
     },
     "metadata": {}
    },
    {
     "output_type": "stream",
     "name": "stdout",
     "text": [
      "\n ================================================\n >    eicosapentaenoic-acid_100g\n ------------------------------------------------\n"
     ]
    },
    {
     "output_type": "display_data",
     "data": {
      "text/plain": "NaN       320734\n0.200          7\n0.600          3\n0.500          2\n1.200          2\n0.700          2\n0.196          1\n0.533          1\n0.900          1\n1.000          1\n85.000         1\n0.721          1\n0.666          1\n0.277          1\n0.050          1\n0.970          1\n0.061          1\n0.116          1\n0.416          1\n18.000         1\n0.553          1\n1.600          1\n0.100          1\n0.400          1\n0.180          1\n0.090          1\n1.020          1\n0.240          1\nName: eicosapentaenoic-acid_100g, dtype: int64"
     },
     "metadata": {}
    },
    {
     "output_type": "stream",
     "name": "stdout",
     "text": [
      "\n ================================================\n >    docosahexaenoic-acid_100g\n ------------------------------------------------\n"
     ]
    },
    {
     "output_type": "display_data",
     "data": {
      "text/plain": "NaN       320694\n0.500          6\n0.800          4\n3.500          4\n4.600          3\n3.800          3\n0.132          3\n0.126          3\n1.000          3\n0.900          2\n3.300          2\n3.000          2\n4.800          2\n3.600          2\n0.061          2\n0.064          2\n12.000         1\n0.270          1\n0.200          1\n0.360          1\n3.200          1\n0.120          1\n3.400          1\n1.095          1\n0.494          1\n0.045          1\n0.528          1\n1.024          1\n0.044          1\n0.075          1\n0.381          1\n0.162          1\n0.600          1\n0.400          1\n3.440          1\n0.150          1\n1.400          1\n3.700          1\n0.041          1\n4.500          1\n1.700          1\n0.080          1\n0.110          1\n0.950          1\n3.100          1\n1.090          1\n0.250          1\n0.999          1\n0.047          1\n0.240          1\n0.747          1\nName: docosahexaenoic-acid_100g, dtype: int64"
     },
     "metadata": {}
    },
    {
     "output_type": "stream",
     "name": "stdout",
     "text": [
      "\n ================================================\n >    omega-6-fat_100g\n ------------------------------------------------\n"
     ]
    },
    {
     "output_type": "display_data",
     "data": {
      "text/plain": "NaN     320584\n1.1         11\n23.0         8\n19.0         7\n7.6          7\n         ...  \n15.8         1\n26.0         1\n38.4         1\n16.0         1\n32.0         1\nName: omega-6-fat_100g, Length: 114, dtype: int64"
     },
     "metadata": {}
    },
    {
     "output_type": "stream",
     "name": "stdout",
     "text": [
      "\n ================================================\n >    linoleic-acid_100g\n ------------------------------------------------\n"
     ]
    },
    {
     "output_type": "display_data",
     "data": {
      "text/plain": "NaN       320623\n0.500          5\n23.000         5\n4.200          4\n0.437          4\n           ...  \n1.200          1\n0.422          1\n0.531          1\n0.620          1\n0.227          1\nName: linoleic-acid_100g, Length: 111, dtype: int64"
     },
     "metadata": {}
    },
    {
     "output_type": "stream",
     "name": "stdout",
     "text": [
      "\n ================================================\n >    arachidonic-acid_100g\n ------------------------------------------------\n"
     ]
    },
    {
     "output_type": "display_data",
     "data": {
      "text/plain": "NaN      320764\n0.061         2\n0.007         1\n0.047         1\n0.090         1\n0.064         1\n0.082         1\n0.044         1\nName: arachidonic-acid_100g, dtype: int64"
     },
     "metadata": {}
    },
    {
     "output_type": "stream",
     "name": "stdout",
     "text": [
      "\n ================================================\n >    gamma-linolenic-acid_100g\n ------------------------------------------------\n"
     ]
    },
    {
     "output_type": "display_data",
     "data": {
      "text/plain": "NaN       320748\n0.1700         4\n0.1500         3\n0.1300         3\n0.1270         3\n0.1600         3\n0.2000         3\n0.1630         1\n0.0950         1\n0.1100         1\n0.2032         1\n0.1400         1\nName: gamma-linolenic-acid_100g, dtype: int64"
     },
     "metadata": {}
    },
    {
     "output_type": "stream",
     "name": "stdout",
     "text": [
      "\n ================================================\n >    dihomo-gamma-linolenic-acid_100g\n ------------------------------------------------\n"
     ]
    },
    {
     "output_type": "display_data",
     "data": {
      "text/plain": "NaN         320749\n0.066929         4\n0.078740         3\n0.062992         3\n0.051181         3\n0.050000         3\n0.059055         3\n0.043307         1\n0.064000         1\n0.080000         1\n0.055118         1\nName: dihomo-gamma-linolenic-acid_100g, dtype: int64"
     },
     "metadata": {}
    },
    {
     "output_type": "stream",
     "name": "stdout",
     "text": [
      "\n ================================================\n >    omega-9-fat_100g\n ------------------------------------------------\n"
     ]
    },
    {
     "output_type": "display_data",
     "data": {
      "text/plain": "NaN      320751\n29.00         2\n75.00         2\n70.00         2\n27.00         2\n31.00         1\n68.00         1\n1.00          1\n68.80         1\n7.70          1\n27.10         1\n1.10          1\n61.00         1\n26.00         1\n53.00         1\n50.00         1\n8.35          1\n39.00         1\nName: omega-9-fat_100g, dtype: int64"
     },
     "metadata": {}
    },
    {
     "output_type": "stream",
     "name": "stdout",
     "text": [
      "\n ================================================\n >    oleic-acid_100g\n ------------------------------------------------\n"
     ]
    },
    {
     "output_type": "display_data",
     "data": {
      "text/plain": "NaN      320759\n11.00         1\n6.90          1\n21.40         1\n40.50         1\n70.00         1\n10.80         1\n15.70         1\n5.17          1\n1.08          1\n8.45          1\n53.70         1\n5.90          1\n76.00         1\nName: oleic-acid_100g, dtype: int64"
     },
     "metadata": {}
    },
    {
     "output_type": "stream",
     "name": "stdout",
     "text": [
      "\n ================================================\n >    elaidic-acid_100g\n ------------------------------------------------\n"
     ]
    },
    {
     "output_type": "display_data",
     "data": {
      "text/plain": "NaN    320772\nName: elaidic-acid_100g, dtype: int64"
     },
     "metadata": {}
    },
    {
     "output_type": "stream",
     "name": "stdout",
     "text": [
      "\n ================================================\n >    gondoic-acid_100g\n ------------------------------------------------\n"
     ]
    },
    {
     "output_type": "display_data",
     "data": {
      "text/plain": "NaN         320758\n0.000001         8\n0.000001         4\n0.000003         2\nName: gondoic-acid_100g, dtype: int64"
     },
     "metadata": {}
    },
    {
     "output_type": "stream",
     "name": "stdout",
     "text": [
      "\n ================================================\n >    mead-acid_100g\n ------------------------------------------------\n"
     ]
    },
    {
     "output_type": "display_data",
     "data": {
      "text/plain": "NaN    320772\nName: mead-acid_100g, dtype: int64"
     },
     "metadata": {}
    },
    {
     "output_type": "stream",
     "name": "stdout",
     "text": [
      "\n ================================================\n >    erucic-acid_100g\n ------------------------------------------------\n"
     ]
    },
    {
     "output_type": "display_data",
     "data": {
      "text/plain": "NaN    320772\nName: erucic-acid_100g, dtype: int64"
     },
     "metadata": {}
    },
    {
     "output_type": "stream",
     "name": "stdout",
     "text": [
      "\n ================================================\n >    nervonic-acid_100g\n ------------------------------------------------\n"
     ]
    },
    {
     "output_type": "display_data",
     "data": {
      "text/plain": "NaN    320772\nName: nervonic-acid_100g, dtype: int64"
     },
     "metadata": {}
    },
    {
     "output_type": "stream",
     "name": "stdout",
     "text": [
      "\n ================================================\n >    trans-fat_100g\n ------------------------------------------------\n"
     ]
    },
    {
     "output_type": "display_data",
     "data": {
      "text/plain": "NaN      177474\n0.00     140297\n3.57         90\n0.20         78\n2.50         76\n          ...  \n1.53          1\n7.69          1\n2.61          1\n10.87         1\n4.05          1\nName: trans-fat_100g, Length: 429, dtype: int64"
     },
     "metadata": {}
    },
    {
     "output_type": "stream",
     "name": "stdout",
     "text": [
      "\n ================================================\n >    cholesterol_100g\n ------------------------------------------------\n"
     ]
    },
    {
     "output_type": "display_data",
     "data": {
      "text/plain": "NaN        176682\n0.00000     89441\n0.07100      2462\n0.10700      2237\n0.01200      1909\n            ...  \n0.03650         1\n0.02340         1\n0.00161         1\n0.06210         1\n0.48800         1\nName: cholesterol_100g, Length: 538, dtype: int64"
     },
     "metadata": {}
    },
    {
     "output_type": "stream",
     "name": "stdout",
     "text": [
      "\n ================================================\n >    carbohydrates_100g\n ------------------------------------------------\n"
     ]
    },
    {
     "output_type": "display_data",
     "data": {
      "text/plain": "NaN      77184\n0.00     21607\n3.57      4240\n50.00     3167\n6.67      2950\n         ...  \n12.97        1\n27.74        1\n40.56        1\n65.49        1\n46.24        1\nName: carbohydrates_100g, Length: 5417, dtype: int64"
     },
     "metadata": {}
    },
    {
     "output_type": "stream",
     "name": "stdout",
     "text": [
      "\n ================================================\n >    sugars_100g\n ------------------------------------------------\n"
     ]
    },
    {
     "output_type": "display_data",
     "data": {
      "text/plain": "NaN      75801\n0.00     37077\n3.57      7148\n0.50      4589\n3.33      3706\n         ...  \n81.90        1\n48.08        1\n56.27        1\n32.95        1\n81.48        1\nName: sugars_100g, Length: 4069, dtype: int64"
     },
     "metadata": {}
    },
    {
     "output_type": "stream",
     "name": "stdout",
     "text": [
      "\n ================================================\n >    sucrose_100g\n ------------------------------------------------\n"
     ]
    },
    {
     "output_type": "display_data",
     "data": {
      "text/plain": "NaN     320700\n0.0          8\n26.0         4\n7.5          4\n0.3          3\n23.0         3\n8.0          3\n0.1          3\n4.7          2\n5.9          2\n30.0         1\n0.2          1\n7.0          1\n5.5          1\n37.0         1\n8.4          1\n9.5          1\n2.2          1\n17.0         1\n92.8         1\n27.9         1\n14.0         1\n12.0         1\n0.9          1\n34.0         1\n8.3          1\n8.2          1\n13.0         1\n10.8         1\n0.8          1\n10.7         1\n9.8          1\n6.7          1\n9.0          1\n24.9         1\n15.6         1\n13.9         1\n8.8          1\n10.0         1\n9.9          1\n6.0          1\n11.9         1\n3.1          1\n7.4          1\n18.0         1\n20.1         1\n16.0         1\n16.6         1\n43.5         1\n1.8          1\nName: sucrose_100g, dtype: int64"
     },
     "metadata": {}
    },
    {
     "output_type": "stream",
     "name": "stdout",
     "text": [
      "\n ================================================\n >    glucose_100g\n ------------------------------------------------\n"
     ]
    },
    {
     "output_type": "display_data",
     "data": {
      "text/plain": "NaN      320746\n0.20          7\n0.00          4\n1.40          2\n0.10          2\n0.30          1\n0.37          1\n1.20          1\n2.00          1\n0.38          1\n6.00          1\n23.20         1\n8.10          1\n23.00         1\n0.90          1\n5.00          1\nName: glucose_100g, dtype: int64"
     },
     "metadata": {}
    },
    {
     "output_type": "stream",
     "name": "stdout",
     "text": [
      "\n ================================================\n >    fructose_100g\n ------------------------------------------------\n"
     ]
    },
    {
     "output_type": "display_data",
     "data": {
      "text/plain": "NaN      320734\n0.0           4\n55.1          3\n0.2           2\n63.9          2\n0.1           2\n3.0           2\n25.0          2\n2.4           1\n101.0         1\n60.0          1\n0.9           1\n35.1          1\n43.0          1\n1.1           1\n2.3           1\n70.0          1\n100.0         1\n6.0           1\n28.0          1\n26.0          1\n31.5          1\n18.0          1\n1.5           1\n29.0          1\n69.0          1\n0.3           1\n8.0           1\n1.3           1\nName: fructose_100g, dtype: int64"
     },
     "metadata": {}
    },
    {
     "output_type": "stream",
     "name": "stdout",
     "text": [
      "\n ================================================\n >    lactose_100g\n ------------------------------------------------\n"
     ]
    },
    {
     "output_type": "display_data",
     "data": {
      "text/plain": "NaN      320510\n0.00        121\n0.10         27\n2.98         21\n0.50          9\n          ...  \n2.00          1\n49.90         1\n30.30         1\n42.70         1\n6.22          1\nName: lactose_100g, Length: 66, dtype: int64"
     },
     "metadata": {}
    },
    {
     "output_type": "stream",
     "name": "stdout",
     "text": [
      "\n ================================================\n >    maltose_100g\n ------------------------------------------------\n"
     ]
    },
    {
     "output_type": "display_data",
     "data": {
      "text/plain": "NaN     320768\n22.0         1\n0.1          1\n39.2         1\n36.0         1\nName: maltose_100g, dtype: int64"
     },
     "metadata": {}
    },
    {
     "output_type": "stream",
     "name": "stdout",
     "text": [
      "\n ================================================\n >    maltodextrins_100g\n ------------------------------------------------\n"
     ]
    },
    {
     "output_type": "display_data",
     "data": {
      "text/plain": "NaN     320761\n1.5          2\n14.8         1\n9.0          1\n10.3         1\n13.5         1\n1.8          1\n27.5         1\n20.0         1\n17.8         1\n16.1         1\nName: maltodextrins_100g, dtype: int64"
     },
     "metadata": {}
    },
    {
     "output_type": "stream",
     "name": "stdout",
     "text": [
      "\n ================================================\n >    starch_100g\n ------------------------------------------------\n"
     ]
    },
    {
     "output_type": "display_data",
     "data": {
      "text/plain": "NaN     320506\n0.0         24\n71.0        10\n50.0         9\n0.5          7\n         ...  \n35.7         1\n1.6          1\n66.4         1\n34.8         1\n47.4         1\nName: starch_100g, Length: 139, dtype: int64"
     },
     "metadata": {}
    },
    {
     "output_type": "stream",
     "name": "stdout",
     "text": [
      "\n ================================================\n >    polyols_100g\n ------------------------------------------------\n"
     ]
    },
    {
     "output_type": "display_data",
     "data": {
      "text/plain": "NaN     320358\n96.0        20\n97.0        17\n0.0         14\n98.0         8\n         ...  \n23.2         1\n58.5         1\n9.6          1\n18.9         1\n9.3          1\nName: polyols_100g, Length: 207, dtype: int64"
     },
     "metadata": {}
    },
    {
     "output_type": "stream",
     "name": "stdout",
     "text": [
      "\n ================================================\n >    fiber_100g\n ------------------------------------------------\n"
     ]
    },
    {
     "output_type": "display_data",
     "data": {
      "text/plain": "NaN      119886\n0.00      68833\n3.60       8525\n3.30       3991\n1.80       3886\n          ...  \n7.34          1\n2.01          1\n4.74          1\n3.74          1\n87.50         1\nName: fiber_100g, Length: 1017, dtype: int64"
     },
     "metadata": {}
    },
    {
     "output_type": "stream",
     "name": "stdout",
     "text": [
      "\n ================================================\n >    proteins_100g\n ------------------------------------------------\n"
     ]
    },
    {
     "output_type": "display_data",
     "data": {
      "text/plain": "NaN      60850\n0.00     53631\n7.14      5706\n25.00     4026\n3.33      3852\n         ...  \n30.99        1\n24.65        1\n15.83        1\n25.82        1\n60.71        1\nName: proteins_100g, Length: 2504, dtype: int64"
     },
     "metadata": {}
    },
    {
     "output_type": "stream",
     "name": "stdout",
     "text": [
      "\n ================================================\n >    casein_100g\n ------------------------------------------------\n"
     ]
    },
    {
     "output_type": "display_data",
     "data": {
      "text/plain": "NaN      320745\n1.40          5\n2.90          5\n7.40          2\n1.10          1\n7.20          1\n4.80          1\n3.90          1\n4.95          1\n7.00          1\n4.90          1\n9.30          1\n10.20         1\n5.20          1\n10.70         1\n0.92          1\n6.70          1\n8.40          1\n4.20          1\nName: casein_100g, dtype: int64"
     },
     "metadata": {}
    },
    {
     "output_type": "stream",
     "name": "stdout",
     "text": [
      "\n ================================================\n >    serum-proteins_100g\n ------------------------------------------------\n"
     ]
    },
    {
     "output_type": "display_data",
     "data": {
      "text/plain": "NaN    320756\n0.3         5\n5.8         2\n1.9         2\n5.2         1\n0.4         1\n3.0         1\n2.0         1\n2.6         1\n4.6         1\n5.4         1\nName: serum-proteins_100g, dtype: int64"
     },
     "metadata": {}
    },
    {
     "output_type": "stream",
     "name": "stdout",
     "text": [
      "\n ================================================\n >    nucleotides_100g\n ------------------------------------------------\n"
     ]
    },
    {
     "output_type": "display_data",
     "data": {
      "text/plain": "NaN       320763\n0.0240         2\n0.0220         2\n0.0230         1\n0.0155         1\n0.0180         1\n0.0216         1\n0.0250         1\nName: nucleotides_100g, dtype: int64"
     },
     "metadata": {}
    },
    {
     "output_type": "stream",
     "name": "stdout",
     "text": [
      "\n ================================================\n >    salt_100g\n ------------------------------------------------\n"
     ]
    },
    {
     "output_type": "display_data",
     "data": {
      "text/plain": "NaN          65262\n0.000000     34174\n0.010000      3692\n0.100000      3467\n1.000000      2231\n             ...  \n16.140000        1\n0.000847         1\n0.156000         1\n52.613560        1\n7.015480         1\nName: salt_100g, Length: 5587, dtype: int64"
     },
     "metadata": {}
    },
    {
     "output_type": "stream",
     "name": "stdout",
     "text": [
      "\n ================================================\n >    sodium_100g\n ------------------------------------------------\n"
     ]
    },
    {
     "output_type": "display_data",
     "data": {
      "text/plain": "NaN          65309\n0.000000     34131\n0.003937      3687\n0.039370      3451\n0.393701      2216\n             ...  \n2.103000         1\n2.327000         1\n0.009750         1\n26.860000        1\n20.312000        1\nName: sodium_100g, Length: 5292, dtype: int64"
     },
     "metadata": {}
    },
    {
     "output_type": "stream",
     "name": "stdout",
     "text": [
      "\n ================================================\n >    alcohol_100g\n ------------------------------------------------\n"
     ]
    },
    {
     "output_type": "display_data",
     "data": {
      "text/plain": "NaN     316639\n0.0       1555\n12.5       187\n40.0       170\n5.0        160\n         ...  \n36.6         1\n71.0         1\n49.0         1\n36.0         1\n54.2         1\nName: alcohol_100g, Length: 151, dtype: int64"
     },
     "metadata": {}
    },
    {
     "output_type": "stream",
     "name": "stdout",
     "text": [
      "\n ================================================\n >    vitamin-a_100g\n ------------------------------------------------\n"
     ]
    },
    {
     "output_type": "display_data",
     "data": {
      "text/plain": "NaN         183218\n0.000000     78620\n0.000321      2604\n0.000214      2333\n0.000107      1825\n             ...  \n0.000364         1\n0.001967         1\n0.001347         1\n0.001633         1\n0.001035         1\nName: vitamin-a_100g, Length: 2346, dtype: int64"
     },
     "metadata": {}
    },
    {
     "output_type": "stream",
     "name": "stdout",
     "text": [
      "\n ================================================\n >    beta-carotene_100g\n ------------------------------------------------\n"
     ]
    },
    {
     "output_type": "display_data",
     "data": {
      "text/plain": "NaN          320738\n0.140000          2\n0.001600          2\n0.000000          2\n0.240000          2\n0.001000          2\n0.085000          1\n0.000700          1\n0.260000          1\n0.002900          1\n0.006000          1\n0.002400          1\n0.001100          1\n0.004250          1\n0.000500          1\n0.060000          1\n0.000300          1\n0.380000          1\n0.280000          1\n0.074900          1\n0.000812          1\n0.053000          1\n0.067000          1\n15.000000         1\n0.071000          1\n0.311000          1\n0.004522          1\n0.003200          1\n0.002530          1\n0.200000          1\nName: beta-carotene_100g, dtype: int64"
     },
     "metadata": {}
    },
    {
     "output_type": "stream",
     "name": "stdout",
     "text": [
      "\n ================================================\n >    vitamin-d_100g\n ------------------------------------------------\n"
     ]
    },
    {
     "output_type": "display_data",
     "data": {
      "text/plain": "NaN             313715\n1.050000e-06      1627\n0.000000e+00       345\n3.325000e-06       319\n4.250000e-07       235\n                 ...  \n1.975000e-06         1\n2.500000e-07         1\n2.142500e-05         1\n3.650000e-06         1\n2.100000e-05         1\nName: vitamin-d_100g, Length: 353, dtype: int64"
     },
     "metadata": {}
    },
    {
     "output_type": "stream",
     "name": "stdout",
     "text": [
      "\n ================================================\n >    vitamin-e_100g\n ------------------------------------------------\n"
     ]
    },
    {
     "output_type": "display_data",
     "data": {
      "text/plain": "NaN        319432\n0.00180       148\n0.01200        68\n0.00360        37\n0.01000        34\n            ...  \n0.03100         1\n0.00810         1\n0.00042         1\n0.02100         1\n0.01820         1\nName: vitamin-e_100g, Length: 273, dtype: int64"
     },
     "metadata": {}
    },
    {
     "output_type": "stream",
     "name": "stdout",
     "text": [
      "\n ================================================\n >    vitamin-k_100g\n ------------------------------------------------\n"
     ]
    },
    {
     "output_type": "display_data",
     "data": {
      "text/plain": "NaN         319854\n0.000000        46\n0.000029        27\n0.000029        23\n0.000006        22\n             ...  \n0.000039         1\n0.000022         1\n0.000044         1\n0.001297         1\n0.000007         1\nName: vitamin-k_100g, Length: 308, dtype: int64"
     },
     "metadata": {}
    },
    {
     "output_type": "stream",
     "name": "stdout",
     "text": [
      "\n ================================================\n >    vitamin-c_100g\n ------------------------------------------------\n"
     ]
    },
    {
     "output_type": "display_data",
     "data": {
      "text/plain": "NaN        179905\n0.00000     90500\n0.00100      1359\n0.00400      1225\n0.00430      1219\n            ...  \n0.08940         1\n0.12100         1\n0.12800         1\n0.16250         1\n0.00942         1\nName: vitamin-c_100g, Length: 1171, dtype: int64"
     },
     "metadata": {}
    },
    {
     "output_type": "stream",
     "name": "stdout",
     "text": [
      "\n ================================================\n >    vitamin-b1_100g\n ------------------------------------------------\n"
     ]
    },
    {
     "output_type": "display_data",
     "data": {
      "text/plain": "NaN         309618\n0.00500        559\n0.00400        494\n0.00300        492\n0.00800        464\n             ...  \n1.21600          1\n0.00078          1\n0.30300          1\n0.00220          1\n67.30800         1\nName: vitamin-b1_100g, Length: 686, dtype: int64"
     },
     "metadata": {}
    },
    {
     "output_type": "stream",
     "name": "stdout",
     "text": [
      "\n ================================================\n >    vitamin-b2_100g\n ------------------------------------------------\n"
     ]
    },
    {
     "output_type": "display_data",
     "data": {
      "text/plain": "NaN         309957\n0.004554       527\n0.000000       361\n0.014167       350\n0.455357       319\n             ...  \n0.140496         1\n0.004380         1\n0.124390         1\n0.229730         1\n0.764045         1\nName: vitamin-b2_100g, Length: 1072, dtype: int64"
     },
     "metadata": {}
    },
    {
     "output_type": "stream",
     "name": "stdout",
     "text": [
      "\n ================================================\n >    vitamin-pp_100g\n ------------------------------------------------\n"
     ]
    },
    {
     "output_type": "display_data",
     "data": {
      "text/plain": "NaN         309043\n0.007143       866\n0.005357       587\n0.016667       334\n0.002857       295\n             ...  \n0.017600         1\n0.040708         1\n0.001633         1\n0.025100         1\n0.000294         1\nName: vitamin-pp_100g, Length: 865, dtype: int64"
     },
     "metadata": {}
    },
    {
     "output_type": "stream",
     "name": "stdout",
     "text": [
      "\n ================================================\n >    vitamin-b6_100g\n ------------------------------------------------\n"
     ]
    },
    {
     "output_type": "display_data",
     "data": {
      "text/plain": "NaN         313988\n0.001667       333\n0.000083       258\n0.000385       166\n0.000286       152\n             ...  \n0.000566         1\n0.000432         1\n0.001480         1\n0.000165         1\n0.000156         1\nName: vitamin-b6_100g, Length: 606, dtype: int64"
     },
     "metadata": {}
    },
    {
     "output_type": "stream",
     "name": "stdout",
     "text": [
      "\n ================================================\n >    vitamin-b9_100g\n ------------------------------------------------\n"
     ]
    },
    {
     "output_type": "display_data",
     "data": {
      "text/plain": "NaN         315532\n0.000056       527\n0.000030       512\n0.000028       290\n0.000032       137\n             ...  \n0.000202         1\n0.000360         1\n0.000018         1\n0.003509         1\n0.000016         1\nName: vitamin-b9_100g, Length: 385, dtype: int64"
     },
     "metadata": {}
    },
    {
     "output_type": "stream",
     "name": "stdout",
     "text": [
      "\n ================================================\n >    folates_100g\n ------------------------------------------------\n"
     ]
    },
    {
     "output_type": "display_data",
     "data": {
      "text/plain": "NaN         317730\n0.000214       341\n0.000179       158\n0.000000       124\n0.000029       111\n             ...  \n0.000124         1\n0.000225         1\n0.000183         1\n0.000054         1\n0.000022         1\nName: folates_100g, Length: 261, dtype: int64"
     },
     "metadata": {}
    },
    {
     "output_type": "stream",
     "name": "stdout",
     "text": [
      "\n ================================================\n >    vitamin-b12_100g\n ------------------------------------------------\n"
     ]
    },
    {
     "output_type": "display_data",
     "data": {
      "text/plain": "NaN             315472\n5.000000e-06       319\n2.500000e-07       286\n1.250000e-06       190\n2.500000e-06       174\n                 ...  \n1.730000e-06         1\n2.340000e-06         1\n5.210000e-07         1\n8.400000e-06         1\n1.380000e-06         1\nName: vitamin-b12_100g, Length: 397, dtype: int64"
     },
     "metadata": {}
    },
    {
     "output_type": "stream",
     "name": "stdout",
     "text": [
      "\n ================================================\n >    biotin_100g\n ------------------------------------------------\n"
     ]
    },
    {
     "output_type": "display_data",
     "data": {
      "text/plain": "NaN         320442\n0.000008        50\n0.000041        25\n0.000015        11\n0.000050        11\n             ...  \n0.000008         1\n0.000013         1\n0.001200         1\n0.000179         1\n0.000002         1\nName: biotin_100g, Length: 96, dtype: int64"
     },
     "metadata": {}
    },
    {
     "output_type": "stream",
     "name": "stdout",
     "text": [
      "\n ================================================\n >    pantothenic-acid_100g\n ------------------------------------------------\n"
     ]
    },
    {
     "output_type": "display_data",
     "data": {
      "text/plain": "NaN             318289\n4.170000e-04       237\n0.000000e+00        97\n1.429000e-03        95\n5.000000e-03        76\n                 ...  \n8.000000e-07         1\n4.580000e-03         1\n1.200000e-02         1\n3.850000e-03         1\n7.692300e-02         1\nName: pantothenic-acid_100g, Length: 467, dtype: int64"
     },
     "metadata": {}
    },
    {
     "output_type": "stream",
     "name": "stdout",
     "text": [
      "\n ================================================\n >    silica_100g\n ------------------------------------------------\n"
     ]
    },
    {
     "output_type": "display_data",
     "data": {
      "text/plain": "NaN         320734\n0.001500         7\n0.003500         2\n0.003200         2\n0.003170         2\n0.003270         2\n0.000820         2\n0.000750         2\n0.001912         2\n0.007100         2\n0.036000         1\n0.002700         1\n0.004850         1\n0.000890         1\n0.004940         1\n0.014000         1\n0.001130         1\n0.000008         1\n0.015000         1\n0.032700         1\n0.250000         1\n0.007700         1\n0.036200         1\n0.007600         1\n0.027000         1\nName: silica_100g, dtype: int64"
     },
     "metadata": {}
    },
    {
     "output_type": "stream",
     "name": "stdout",
     "text": [
      "\n ================================================\n >    bicarbonate_100g\n ------------------------------------------------\n"
     ]
    },
    {
     "output_type": "display_data",
     "data": {
      "text/plain": "NaN       320691\n0.0360         6\n0.0135         3\n0.0312         2\n0.0074         2\n           ...  \n0.1350         1\n0.2400         1\n0.0305         1\n0.0262         1\n0.0250         1\nName: bicarbonate_100g, Length: 67, dtype: int64"
     },
     "metadata": {}
    },
    {
     "output_type": "stream",
     "name": "stdout",
     "text": [
      "\n ================================================\n >    potassium_100g\n ------------------------------------------------\n"
     ]
    },
    {
     "output_type": "display_data",
     "data": {
      "text/plain": "NaN        296024\n0.00000       775\n0.18800       601\n0.16700       374\n0.10000       321\n            ...  \n1.30400         1\n0.59200         1\n1.17400         1\n0.00338         1\n0.47300         1\nName: potassium_100g, Length: 1188, dtype: int64"
     },
     "metadata": {}
    },
    {
     "output_type": "stream",
     "name": "stdout",
     "text": [
      "\n ================================================\n >    chloride_100g\n ------------------------------------------------\n"
     ]
    },
    {
     "output_type": "display_data",
     "data": {
      "text/plain": "NaN        320614\n0.05000         8\n0.00068         6\n0.00150         5\n0.05200         4\n            ...  \n0.00046         1\n0.53100         1\n0.58900         1\n0.25000         1\n0.07200         1\nName: chloride_100g, Length: 100, dtype: int64"
     },
     "metadata": {}
    },
    {
     "output_type": "stream",
     "name": "stdout",
     "text": [
      "\n ================================================\n >    calcium_100g\n ------------------------------------------------\n"
     ]
    },
    {
     "output_type": "display_data",
     "data": {
      "text/plain": "NaN       179722\n0.0000     51048\n0.0710      5621\n0.0670      3026\n0.7140      3024\n           ...  \n0.7090         1\n0.9720         1\n0.0176         1\n0.6180         1\n1.1840         1\nName: calcium_100g, Length: 1124, dtype: int64"
     },
     "metadata": {}
    },
    {
     "output_type": "stream",
     "name": "stdout",
     "text": [
      "\n ================================================\n >    phosphorus_100g\n ------------------------------------------------\n"
     ]
    },
    {
     "output_type": "display_data",
     "data": {
      "text/plain": "NaN       314927\n0.1430       255\n0.5360       245\n0.0080       241\n0.3570       236\n           ...  \n0.5650         1\n2.8900         1\n0.0588         1\n0.3610         1\n0.0322         1\nName: phosphorus_100g, Length: 570, dtype: int64"
     },
     "metadata": {}
    },
    {
     "output_type": "stream",
     "name": "stdout",
     "text": [
      "\n ================================================\n >    iron_100g\n ------------------------------------------------\n"
     ]
    },
    {
     "output_type": "display_data",
     "data": {
      "text/plain": "NaN        180310\n0.00000     42678\n0.00129      6502\n0.00257      4237\n0.00240      2525\n            ...  \n0.00745         1\n0.02840         1\n0.00414         1\n0.00788         1\n0.00510         1\nName: iron_100g, Length: 1138, dtype: int64"
     },
     "metadata": {}
    },
    {
     "output_type": "stream",
     "name": "stdout",
     "text": [
      "\n ================================================\n >    magnesium_100g\n ------------------------------------------------\n"
     ]
    },
    {
     "output_type": "display_data",
     "data": {
      "text/plain": "NaN        314519\n0.00700       288\n0.01000       259\n0.14300       225\n0.05700       212\n            ...  \n0.00450         1\n0.34500         1\n0.00186         1\n3.54000         1\n1.23100         1\nName: magnesium_100g, Length: 607, dtype: int64"
     },
     "metadata": {}
    },
    {
     "output_type": "stream",
     "name": "stdout",
     "text": [
      "\n ================================================\n >    zinc_100g\n ------------------------------------------------\n"
     ]
    },
    {
     "output_type": "display_data",
     "data": {
      "text/plain": "NaN        316843\n0.01250       262\n0.00107       119\n0.01172        84\n0.00536        83\n            ...  \n0.08333         1\n0.06000         1\n0.00106         1\n0.00480         1\n0.00510         1\nName: zinc_100g, Length: 416, dtype: int64"
     },
     "metadata": {}
    },
    {
     "output_type": "stream",
     "name": "stdout",
     "text": [
      "\n ================================================\n >    copper_100g\n ------------------------------------------------\n"
     ]
    },
    {
     "output_type": "display_data",
     "data": {
      "text/plain": "NaN         318666\n0.001000       110\n0.001071       108\n0.001429        98\n0.000571        90\n             ...  \n0.000059         1\n0.000377         1\n0.000088         1\n0.000510         1\n0.001571         1\nName: copper_100g, Length: 310, dtype: int64"
     },
     "metadata": {}
    },
    {
     "output_type": "stream",
     "name": "stdout",
     "text": [
      "\n ================================================\n >    manganese_100g\n ------------------------------------------------\n"
     ]
    },
    {
     "output_type": "display_data",
     "data": {
      "text/plain": "NaN         319152\n0.000000       494\n0.002000       451\n0.001000       337\n0.003000        99\n             ...  \n0.000855         1\n0.015000         1\n0.000115         1\n0.000630         1\n0.002140         1\nName: manganese_100g, Length: 108, dtype: int64"
     },
     "metadata": {}
    },
    {
     "output_type": "stream",
     "name": "stdout",
     "text": [
      "\n ================================================\n >    fluoride_100g\n ------------------------------------------------\n"
     ]
    },
    {
     "output_type": "display_data",
     "data": {
      "text/plain": "NaN             320693\n1.500000e-05         9\n6.000000e-05         6\n1.000000e-05         5\n2.000000e-05         5\n5.000000e-05         4\n4.500000e-04         4\n2.500000e-02         3\n4.000000e-05         3\n5.000000e-04         3\n1.200000e-04         2\n1.000000e-03         2\n0.000000e+00         1\n3.100000e-02         1\n1.000000e-07         1\n2.700000e-05         1\n7.700000e-04         1\n1.400000e-04         1\n1.550000e-04         1\n4.960000e-04         1\n1.700000e-04         1\n2.000000e-03         1\n1.040000e-05         1\n1.200000e-03         1\n4.000000e-04         1\n1.300000e-05         1\n2.200000e-04         1\n3.000000e-04         1\n1.000000e-04         1\n2.300000e-01         1\n3.300000e-05         1\n7.000000e-05         1\n5.600000e-01         1\n9.000000e-06         1\n1.600000e-04         1\n4.810000e-04         1\n9.000000e-05         1\n4.600000e-04         1\n2.300000e-04         1\n2.700000e-06         1\n1.300000e-04         1\n3.900000e-05         1\n5.000000e-02         1\n4.900000e-04         1\n4.200000e-05         1\nName: fluoride_100g, dtype: int64"
     },
     "metadata": {}
    },
    {
     "output_type": "stream",
     "name": "stdout",
     "text": [
      "\n ================================================\n >    selenium_100g\n ------------------------------------------------\n"
     ]
    },
    {
     "output_type": "display_data",
     "data": {
      "text/plain": "NaN         319604\n0.000004        61\n0.000003        60\n0.000005        58\n0.000002        54\n             ...  \n0.000230         1\n0.030000         1\n0.000035         1\n0.000115         1\n0.001935         1\nName: selenium_100g, Length: 161, dtype: int64"
     },
     "metadata": {}
    },
    {
     "output_type": "stream",
     "name": "stdout",
     "text": [
      "\n ================================================\n >    chromium_100g\n ------------------------------------------------\n"
     ]
    },
    {
     "output_type": "display_data",
     "data": {
      "text/plain": "NaN         320752\n0.000011         3\n0.000008         2\n0.000019         1\n0.000045         1\n0.000007         1\n0.003010         1\n0.030000         1\n0.000100         1\n0.000020         1\n0.000267         1\n0.000083         1\n0.000021         1\n0.000014         1\n0.000026         1\n0.000051         1\n0.000063         1\n0.000030         1\nName: chromium_100g, dtype: int64"
     },
     "metadata": {}
    },
    {
     "output_type": "stream",
     "name": "stdout",
     "text": [
      "\n ================================================\n >    molybdenum_100g\n ------------------------------------------------\n"
     ]
    },
    {
     "output_type": "display_data",
     "data": {
      "text/plain": "NaN         320761\n0.000039         2\n0.000005         2\n0.000007         1\n0.000032         1\n0.000039         1\n0.000333         1\n0.000045         1\n0.003760         1\n0.000104         1\nName: molybdenum_100g, dtype: int64"
     },
     "metadata": {}
    },
    {
     "output_type": "stream",
     "name": "stdout",
     "text": [
      "\n ================================================\n >    iodine_100g\n ------------------------------------------------\n"
     ]
    },
    {
     "output_type": "display_data",
     "data": {
      "text/plain": "NaN         320513\n0.001750        17\n0.000015        13\n0.000012        12\n0.000010        12\n             ...  \n0.000005         1\n0.000022         1\n0.000011         1\n0.000059         1\n0.000072         1\nName: iodine_100g, Length: 112, dtype: int64"
     },
     "metadata": {}
    },
    {
     "output_type": "stream",
     "name": "stdout",
     "text": [
      "\n ================================================\n >    caffeine_100g\n ------------------------------------------------\n"
     ]
    },
    {
     "output_type": "display_data",
     "data": {
      "text/plain": "NaN         320694\n0.00000         10\n0.02000         10\n0.03200          8\n0.02100          4\n0.01800          3\n4.00000          3\n0.03330          2\n0.01200          2\n0.80000          2\n0.01700          2\n0.08000          1\n20.00000         1\n0.00958          1\n0.02900          1\n0.09000          1\n0.03800          1\n0.06300          1\n8.42000          1\n0.00400          1\n1.00000          1\n2.80000          1\n0.04400          1\n0.05200          1\n33.30000         1\n0.02800          1\n0.03100          1\n42.28000         1\n1.25000          1\n0.05000          1\n0.01000          1\n0.04700          1\n0.00970          1\n0.00783          1\n0.01900          1\n0.01070          1\n0.00300          1\n0.03300          1\n0.01500          1\n0.25000          1\n0.01850          1\n0.04000          1\n0.02500          1\nName: caffeine_100g, dtype: int64"
     },
     "metadata": {}
    },
    {
     "output_type": "stream",
     "name": "stdout",
     "text": [
      "\n ================================================\n >    taurine_100g\n ------------------------------------------------\n"
     ]
    },
    {
     "output_type": "display_data",
     "data": {
      "text/plain": "NaN       320743\n0.4000         5\n0.0350         5\n0.4230         2\n0.0395         2\n0.0360         2\n0.0390         2\n0.0330         1\n0.4170         1\n0.0400         1\n0.0410         1\n0.3030         1\n0.0370         1\n0.0290         1\n0.0380         1\n0.0320         1\n0.0018         1\n0.0053         1\nName: taurine_100g, dtype: int64"
     },
     "metadata": {}
    },
    {
     "output_type": "stream",
     "name": "stdout",
     "text": [
      "\n ================================================\n >    ph_100g\n ------------------------------------------------\n"
     ]
    },
    {
     "output_type": "display_data",
     "data": {
      "text/plain": "NaN       320723\n7.2000         9\n6.0000         4\n7.6000         3\n7.7000         3\n6.8000         3\n6.6000         3\n7.0000         3\n7.5000         3\n7.4000         2\n7.9000         1\n6.9300         1\n8.2000         1\n5.1000         1\n5.4000         1\n0.0064         1\n6.7000         1\n7.3200         1\n6.3000         1\n0.0050         1\n0.0000         1\n6.2000         1\n5.8500         1\n8.4000         1\n7.3400         1\n0.0078         1\nName: ph_100g, dtype: int64"
     },
     "metadata": {}
    },
    {
     "output_type": "stream",
     "name": "stdout",
     "text": [
      "\n ================================================\n >    fruits-vegetables-nuts_100g\n ------------------------------------------------\n"
     ]
    },
    {
     "output_type": "display_data",
     "data": {
      "text/plain": "NaN      317736\n0.0         962\n50.0        305\n100.0       181\n60.0         73\n          ...  \n16.8          1\n60.5          1\n84.6          1\n41.3          1\n93.9          1\nName: fruits-vegetables-nuts_100g, Length: 334, dtype: int64"
     },
     "metadata": {}
    },
    {
     "output_type": "stream",
     "name": "stdout",
     "text": [
      "\n ================================================\n >    collagen-meat-protein-ratio_100g\n ------------------------------------------------\n"
     ]
    },
    {
     "output_type": "display_data",
     "data": {
      "text/plain": "NaN     320607\n15.0        97\n12.0        43\n25.0        18\n18.0         3\n20.0         3\n8.0          1\nName: collagen-meat-protein-ratio_100g, dtype: int64"
     },
     "metadata": {}
    },
    {
     "output_type": "stream",
     "name": "stdout",
     "text": [
      "\n ================================================\n >    cocoa_100g\n ------------------------------------------------\n"
     ]
    },
    {
     "output_type": "display_data",
     "data": {
      "text/plain": "NaN     319824\n30.0       150\n70.0        85\n50.0        48\n52.0        48\n         ...  \n6.0          1\n86.0         1\n62.0         1\n61.0         1\n88.0         1\nName: cocoa_100g, Length: 85, dtype: int64"
     },
     "metadata": {}
    },
    {
     "output_type": "stream",
     "name": "stdout",
     "text": [
      "\n ================================================\n >    chlorophyl_100g\n ------------------------------------------------\n"
     ]
    },
    {
     "output_type": "display_data",
     "data": {
      "text/plain": "NaN    320772\nName: chlorophyl_100g, dtype: int64"
     },
     "metadata": {}
    },
    {
     "output_type": "stream",
     "name": "stdout",
     "text": [
      "\n ================================================\n >    carbon-footprint_100g\n ------------------------------------------------\n"
     ]
    },
    {
     "output_type": "display_data",
     "data": {
      "text/plain": "NaN      320504\n0.0          20\n828.0         5\n160.0         4\n150.0         4\n          ...  \n248.2         1\n527.0         1\n142.7         1\n810.0         1\n161.0         1\nName: carbon-footprint_100g, Length: 203, dtype: int64"
     },
     "metadata": {}
    },
    {
     "output_type": "stream",
     "name": "stdout",
     "text": [
      "\n ================================================\n >    nutrition-score-fr_100g\n ------------------------------------------------\n"
     ]
    },
    {
     "output_type": "display_data",
     "data": {
      "text/plain": " NaN     99562\n 0.0     12763\n 1.0     11268\n 14.0    11253\n 2.0     10604\n 13.0     8827\n-1.0      8804\n 12.0     8658\n 11.0     8653\n 3.0      7857\n 15.0     7529\n 10.0     6965\n 20.0     6902\n 16.0     6687\n 21.0     6416\n 9.0      6374\n 4.0      6163\n-2.0      6161\n 19.0     6122\n 17.0     6063\n 18.0     5748\n 8.0      5170\n-3.0      5108\n-6.0      4925\n 5.0      4848\n 6.0      4653\n 23.0     4551\n 22.0     4455\n-4.0      4412\n 24.0     4139\n 7.0      4136\n-5.0      4106\n 25.0     2879\n 26.0     2623\n 27.0     1694\n-7.0       950\n 28.0      680\n-8.0       601\n-9.0       315\n 29.0      279\n 30.0      207\n-10.0      159\n 33.0      105\n-11.0       90\n 31.0       79\n 32.0       73\n-12.0       46\n 35.0       36\n-13.0       23\n 34.0       20\n 36.0       17\n-14.0        5\n 40.0        4\n 37.0        3\n-15.0        1\n 38.0        1\nName: nutrition-score-fr_100g, dtype: int64"
     },
     "metadata": {}
    },
    {
     "output_type": "stream",
     "name": "stdout",
     "text": [
      "\n ================================================\n >    nutrition-score-uk_100g\n ------------------------------------------------\n"
     ]
    },
    {
     "output_type": "display_data",
     "data": {
      "text/plain": " NaN     99562\n 0.0     13588\n 1.0     11932\n 2.0     11083\n 14.0    10689\n-1.0      8827\n 13.0     8409\n 12.0     8239\n 11.0     8093\n 3.0      7620\n 20.0     7390\n 15.0     6921\n 21.0     6650\n 16.0     6509\n 10.0     6504\n 19.0     6476\n-2.0      6260\n-3.0      6116\n 9.0      6085\n 17.0     6078\n 18.0     5790\n 4.0      5687\n 8.0      4945\n-6.0      4926\n-4.0      4819\n 23.0     4715\n 22.0     4632\n 5.0      4555\n 6.0      4334\n 24.0     4282\n-5.0      4211\n 7.0      3961\n 25.0     2887\n 26.0     2643\n 27.0     1698\n-7.0       963\n 28.0      672\n-8.0       602\n-9.0       315\n 29.0      272\n 30.0      192\n-10.0      157\n 33.0      101\n-11.0       90\n 31.0       76\n 32.0       64\n-12.0       46\n 35.0       34\n-13.0       23\n 34.0       20\n 36.0       17\n-14.0        5\n 40.0        3\n 37.0        2\n-15.0        1\n 38.0        1\nName: nutrition-score-uk_100g, dtype: int64"
     },
     "metadata": {}
    },
    {
     "output_type": "stream",
     "name": "stdout",
     "text": [
      "\n ================================================\n >    glycemic-index_100g\n ------------------------------------------------\n"
     ]
    },
    {
     "output_type": "display_data",
     "data": {
      "text/plain": "NaN    320772\nName: glycemic-index_100g, dtype: int64"
     },
     "metadata": {}
    },
    {
     "output_type": "stream",
     "name": "stdout",
     "text": [
      "\n ================================================\n >    water-hardness_100g\n ------------------------------------------------\n"
     ]
    },
    {
     "output_type": "display_data",
     "data": {
      "text/plain": "NaN    320772\nName: water-hardness_100g, dtype: int64"
     },
     "metadata": {}
    }
   ],
   "source": [
    "\n",
    "# display value frequencies per column\n",
    "for col in raw_data.columns:\n",
    "    print(f'\\n \\\n",
    "================================================\\n \\\n",
    ">    { col }\\n \\\n",
    "------------------------------------------------')\n",
    "    display(raw_data[col].value_counts(dropna=False))\n"
   ]
  },
  {
   "cell_type": "code",
   "execution_count": 13,
   "metadata": {},
   "outputs": [
    {
     "output_type": "stream",
     "name": "stdout",
     "text": [
      "<class 'pandas.core.frame.DataFrame'>\n",
      "RangeIndex: 320772 entries, 0 to 320771\n",
      "Columns: 146 entries, code to nutrition-score-uk_100g\n",
      "dtypes: float64(90), object(56)\n",
      "memory usage: 357.3+ MB\n",
      "<class 'pandas.core.frame.DataFrame'>\n",
      "Int64Index: 320772 entries, 0 to 320771\n",
      "Columns: 146 entries, code to nutrition-score-uk_100g\n",
      "dtypes: float64(90), object(56)\n",
      "memory usage: 359.8+ MB\n",
      "<class 'pandas.core.frame.DataFrame'>\n",
      "Int64Index: 320772 entries, 0 to 320771\n",
      "Columns: 146 entries, code to nutrition-score-uk_100g\n",
      "dtypes: float64(90), object(56)\n",
      "memory usage: 359.8+ MB\n",
      "<class 'pandas.core.frame.DataFrame'>\n",
      "Int64Index: 320772 entries, 0 to 320771\n",
      "Columns: 146 entries, code to nutrition-score-uk_100g\n",
      "dtypes: float64(90), object(56)\n",
      "memory usage: 359.8+ MB\n",
      "<class 'pandas.core.frame.DataFrame'>\n",
      "Int64Index: 320772 entries, 0 to 320771\n",
      "Columns: 146 entries, code to nutrition-score-uk_100g\n",
      "dtypes: float64(90), object(56)\n",
      "memory usage: 359.8+ MB\n",
      "<class 'pandas.core.frame.DataFrame'>\n",
      "Int64Index: 320772 entries, 0 to 320771\n",
      "Columns: 146 entries, code to nutrition-score-uk_100g\n",
      "dtypes: float64(90), object(56)\n",
      "memory usage: 359.8+ MB\n"
     ]
    }
   ],
   "source": [
    "clean_data = raw_data\n",
    "\n",
    "clean_data = clean_data.dropna(axis='columns', how='all')\n",
    "# Display data types and empty values\n",
    "clean_data.info()\n",
    "\n",
    "clean_data = clean_data.dropna(axis='index', how='all')\n",
    "# Display data types and empty values\n",
    "clean_data.info()\n",
    "\n",
    "clean_data = clean_data.dropna(axis='columns', how='all')\n",
    "# Display data types and empty values\n",
    "clean_data.info()\n",
    "\n",
    "clean_data = clean_data.dropna(axis='index', how='all')\n",
    "# Display data types and empty values\n",
    "clean_data.info()\n",
    "\n",
    "clean_data = clean_data.dropna(axis='columns', how='all')\n",
    "# Display data types and empty values\n",
    "clean_data.info()\n",
    "\n",
    "clean_data = clean_data.dropna(axis='index', how='all')\n",
    "# Display data types and empty values\n",
    "clean_data.info()\n"
   ]
  },
  {
   "cell_type": "code",
   "execution_count": null,
   "metadata": {},
   "outputs": [],
   "source": [
    "\n",
    "# display first 5 rows\n",
    "clean_data.head()\n"
   ]
  },
  {
   "cell_type": "code",
   "execution_count": 18,
   "metadata": {},
   "outputs": [
    {
     "output_type": "stream",
     "name": "stderr",
     "text": [
      "/home/clement/.local/lib/python3.9/site-packages/IPython/core/interactiveshell.py:3169: DtypeWarning: Columns (19,20,24,25,26,27,28,35,36,37,38,39,48) have mixed types.Specify dtype option on import or set low_memory=False.\n  has_raised = await self.run_ast_nodes(code_ast.body, cell_name,\n"
     ]
    },
    {
     "output_type": "execute_result",
     "data": {
      "text/plain": [
       "                     product_name generic_name quantity packaging  \\\n",
       "0              Farine de blé noir          NaN      1kg       NaN   \n",
       "1  Banana Chips Sweetened (Whole)          NaN      NaN       NaN   \n",
       "2                         Peanuts          NaN      NaN       NaN   \n",
       "3          Organic Salted Nut Mix          NaN      NaN       NaN   \n",
       "4                 Organic Polenta          NaN      NaN       NaN   \n",
       "\n",
       "  packaging_tags           brands      brands_tags categories categories_tags  \\\n",
       "0            NaN  Ferme t'y R'nao  ferme-t-y-r-nao        NaN             NaN   \n",
       "1            NaN              NaN              NaN        NaN             NaN   \n",
       "2            NaN   Torn & Glasser     torn-glasser        NaN             NaN   \n",
       "3            NaN        Grizzlies        grizzlies        NaN             NaN   \n",
       "4            NaN   Bob's Red Mill   bob-s-red-mill        NaN             NaN   \n",
       "\n",
       "  categories_fr  ... ph_100g fruits-vegetables-nuts_100g  \\\n",
       "0           NaN  ...     NaN                         NaN   \n",
       "1           NaN  ...     NaN                         NaN   \n",
       "2           NaN  ...     NaN                         NaN   \n",
       "3           NaN  ...     NaN                         NaN   \n",
       "4           NaN  ...     NaN                         NaN   \n",
       "\n",
       "  collagen-meat-protein-ratio_100g cocoa_100g chlorophyl_100g  \\\n",
       "0                              NaN        NaN             NaN   \n",
       "1                              NaN        NaN             NaN   \n",
       "2                              NaN        NaN             NaN   \n",
       "3                              NaN        NaN             NaN   \n",
       "4                              NaN        NaN             NaN   \n",
       "\n",
       "  carbon-footprint_100g nutrition-score-fr_100g nutrition-score-uk_100g  \\\n",
       "0                   NaN                     NaN                     NaN   \n",
       "1                   NaN                    14.0                    14.0   \n",
       "2                   NaN                     0.0                     0.0   \n",
       "3                   NaN                    12.0                    12.0   \n",
       "4                   NaN                     NaN                     NaN   \n",
       "\n",
       "  glycemic-index_100g water-hardness_100g  \n",
       "0                 NaN                 NaN  \n",
       "1                 NaN                 NaN  \n",
       "2                 NaN                 NaN  \n",
       "3                 NaN                 NaN  \n",
       "4                 NaN                 NaN  \n",
       "\n",
       "[5 rows x 153 columns]"
      ],
      "text/html": "<div>\n<style scoped>\n    .dataframe tbody tr th:only-of-type {\n        vertical-align: middle;\n    }\n\n    .dataframe tbody tr th {\n        vertical-align: top;\n    }\n\n    .dataframe thead th {\n        text-align: right;\n    }\n</style>\n<table border=\"1\" class=\"dataframe\">\n  <thead>\n    <tr style=\"text-align: right;\">\n      <th></th>\n      <th>product_name</th>\n      <th>generic_name</th>\n      <th>quantity</th>\n      <th>packaging</th>\n      <th>packaging_tags</th>\n      <th>brands</th>\n      <th>brands_tags</th>\n      <th>categories</th>\n      <th>categories_tags</th>\n      <th>categories_fr</th>\n      <th>...</th>\n      <th>ph_100g</th>\n      <th>fruits-vegetables-nuts_100g</th>\n      <th>collagen-meat-protein-ratio_100g</th>\n      <th>cocoa_100g</th>\n      <th>chlorophyl_100g</th>\n      <th>carbon-footprint_100g</th>\n      <th>nutrition-score-fr_100g</th>\n      <th>nutrition-score-uk_100g</th>\n      <th>glycemic-index_100g</th>\n      <th>water-hardness_100g</th>\n    </tr>\n  </thead>\n  <tbody>\n    <tr>\n      <th>0</th>\n      <td>Farine de blé noir</td>\n      <td>NaN</td>\n      <td>1kg</td>\n      <td>NaN</td>\n      <td>NaN</td>\n      <td>Ferme t'y R'nao</td>\n      <td>ferme-t-y-r-nao</td>\n      <td>NaN</td>\n      <td>NaN</td>\n      <td>NaN</td>\n      <td>...</td>\n      <td>NaN</td>\n      <td>NaN</td>\n      <td>NaN</td>\n      <td>NaN</td>\n      <td>NaN</td>\n      <td>NaN</td>\n      <td>NaN</td>\n      <td>NaN</td>\n      <td>NaN</td>\n      <td>NaN</td>\n    </tr>\n    <tr>\n      <th>1</th>\n      <td>Banana Chips Sweetened (Whole)</td>\n      <td>NaN</td>\n      <td>NaN</td>\n      <td>NaN</td>\n      <td>NaN</td>\n      <td>NaN</td>\n      <td>NaN</td>\n      <td>NaN</td>\n      <td>NaN</td>\n      <td>NaN</td>\n      <td>...</td>\n      <td>NaN</td>\n      <td>NaN</td>\n      <td>NaN</td>\n      <td>NaN</td>\n      <td>NaN</td>\n      <td>NaN</td>\n      <td>14.0</td>\n      <td>14.0</td>\n      <td>NaN</td>\n      <td>NaN</td>\n    </tr>\n    <tr>\n      <th>2</th>\n      <td>Peanuts</td>\n      <td>NaN</td>\n      <td>NaN</td>\n      <td>NaN</td>\n      <td>NaN</td>\n      <td>Torn &amp; Glasser</td>\n      <td>torn-glasser</td>\n      <td>NaN</td>\n      <td>NaN</td>\n      <td>NaN</td>\n      <td>...</td>\n      <td>NaN</td>\n      <td>NaN</td>\n      <td>NaN</td>\n      <td>NaN</td>\n      <td>NaN</td>\n      <td>NaN</td>\n      <td>0.0</td>\n      <td>0.0</td>\n      <td>NaN</td>\n      <td>NaN</td>\n    </tr>\n    <tr>\n      <th>3</th>\n      <td>Organic Salted Nut Mix</td>\n      <td>NaN</td>\n      <td>NaN</td>\n      <td>NaN</td>\n      <td>NaN</td>\n      <td>Grizzlies</td>\n      <td>grizzlies</td>\n      <td>NaN</td>\n      <td>NaN</td>\n      <td>NaN</td>\n      <td>...</td>\n      <td>NaN</td>\n      <td>NaN</td>\n      <td>NaN</td>\n      <td>NaN</td>\n      <td>NaN</td>\n      <td>NaN</td>\n      <td>12.0</td>\n      <td>12.0</td>\n      <td>NaN</td>\n      <td>NaN</td>\n    </tr>\n    <tr>\n      <th>4</th>\n      <td>Organic Polenta</td>\n      <td>NaN</td>\n      <td>NaN</td>\n      <td>NaN</td>\n      <td>NaN</td>\n      <td>Bob's Red Mill</td>\n      <td>bob-s-red-mill</td>\n      <td>NaN</td>\n      <td>NaN</td>\n      <td>NaN</td>\n      <td>...</td>\n      <td>NaN</td>\n      <td>NaN</td>\n      <td>NaN</td>\n      <td>NaN</td>\n      <td>NaN</td>\n      <td>NaN</td>\n      <td>NaN</td>\n      <td>NaN</td>\n      <td>NaN</td>\n      <td>NaN</td>\n    </tr>\n  </tbody>\n</table>\n<p>5 rows × 153 columns</p>\n</div>"
     },
     "metadata": {},
     "execution_count": 18
    }
   ],
   "source": [
    "\n",
    "raw_data = pd.read_csv(csv_local_path, \n",
    "    sep='\\t',\n",
    "    usecols=\n",
    "        lambda column_name: \n",
    "            column_name not in ['code', 'url', 'creator', 'created_t', 'created_datetime', 'last_modified_t', 'last_modified_datetime',\n",
    "                'image_url', 'image_small_url', 'nutrition-score-uk_100g ']\n",
    ")\n",
    "\n",
    "# display first 5 rows\n",
    "raw_data.head()\n"
   ]
  },
  {
   "cell_type": "code",
   "execution_count": 19,
   "metadata": {},
   "outputs": [
    {
     "output_type": "stream",
     "name": "stdout",
     "text": [
      "<class 'pandas.core.frame.DataFrame'>\nRangeIndex: 320772 entries, 0 to 320771\nColumns: 153 entries, product_name to water-hardness_100g\ndtypes: float64(106), object(47)\nmemory usage: 374.4+ MB\n"
     ]
    }
   ],
   "source": [
    "\n",
    "# Display data types and empty values\n",
    "raw_data.info()\n"
   ]
  },
  {
   "cell_type": "code",
   "execution_count": 20,
   "metadata": {},
   "outputs": [
    {
     "output_type": "execute_result",
     "data": {
      "text/plain": [
       "       product_name                                       generic_name  \\\n",
       "count        303010                                              52795   \n",
       "unique       221347                                              38584   \n",
       "top       Ice Cream  Pâtes alimentaires au blé dur de qualité supér...   \n",
       "freq            410                                                201   \n",
       "mean            NaN                                                NaN   \n",
       "std             NaN                                                NaN   \n",
       "min             NaN                                                NaN   \n",
       "25%             NaN                                                NaN   \n",
       "50%             NaN                                                NaN   \n",
       "75%             NaN                                                NaN   \n",
       "max             NaN                                                NaN   \n",
       "\n",
       "       quantity packaging    packaging_tags     brands brands_tags  \\\n",
       "count    104819     78960             78961     292360      292352   \n",
       "unique    13826     14547             12064      58784       50253   \n",
       "top       500 g    Carton  sachet,plastique  Carrefour   carrefour   \n",
       "freq       4669      2153              3959       2978        3149   \n",
       "mean        NaN       NaN               NaN        NaN         NaN   \n",
       "std         NaN       NaN               NaN        NaN         NaN   \n",
       "min         NaN       NaN               NaN        NaN         NaN   \n",
       "25%         NaN       NaN               NaN        NaN         NaN   \n",
       "50%         NaN       NaN               NaN        NaN         NaN   \n",
       "75%         NaN       NaN               NaN        NaN         NaN   \n",
       "max         NaN       NaN               NaN        NaN         NaN   \n",
       "\n",
       "                                        categories  \\\n",
       "count                                        84410   \n",
       "unique                                       36982   \n",
       "top     Snacks sucrés,Biscuits et gâteaux,Biscuits   \n",
       "freq                                           301   \n",
       "mean                                           NaN   \n",
       "std                                            NaN   \n",
       "min                                            NaN   \n",
       "25%                                            NaN   \n",
       "50%                                            NaN   \n",
       "75%                                            NaN   \n",
       "max                                            NaN   \n",
       "\n",
       "                                          categories_tags  \\\n",
       "count                                               84389   \n",
       "unique                                              21142   \n",
       "top     en:sugary-snacks,en:biscuits-and-cakes,en:bisc...   \n",
       "freq                                                  802   \n",
       "mean                                                  NaN   \n",
       "std                                                   NaN   \n",
       "min                                                   NaN   \n",
       "25%                                                   NaN   \n",
       "50%                                                   NaN   \n",
       "75%                                                   NaN   \n",
       "max                                                   NaN   \n",
       "\n",
       "                                     categories_fr  ...    ph_100g  \\\n",
       "count                                        84411  ...  49.000000   \n",
       "unique                                       21152  ...        NaN   \n",
       "top     Snacks sucrés,Biscuits et gâteaux,Biscuits  ...        NaN   \n",
       "freq                                           802  ...        NaN   \n",
       "mean                                           NaN  ...   6.425698   \n",
       "std                                            NaN  ...   2.047841   \n",
       "min                                            NaN  ...   0.000000   \n",
       "25%                                            NaN  ...   6.300000   \n",
       "50%                                            NaN  ...   7.200000   \n",
       "75%                                            NaN  ...   7.400000   \n",
       "max                                            NaN  ...   8.400000   \n",
       "\n",
       "       fruits-vegetables-nuts_100g collagen-meat-protein-ratio_100g  \\\n",
       "count                  3036.000000                       165.000000   \n",
       "unique                         NaN                              NaN   \n",
       "top                            NaN                              NaN   \n",
       "freq                           NaN                              NaN   \n",
       "mean                     31.458587                        15.412121   \n",
       "std                      31.967918                         3.753028   \n",
       "min                       0.000000                         8.000000   \n",
       "25%                       0.000000                        12.000000   \n",
       "50%                      23.000000                        15.000000   \n",
       "75%                      51.000000                        15.000000   \n",
       "max                     100.000000                        25.000000   \n",
       "\n",
       "        cocoa_100g chlorophyl_100g carbon-footprint_100g  \\\n",
       "count   948.000000             0.0            268.000000   \n",
       "unique         NaN             NaN                   NaN   \n",
       "top            NaN             NaN                   NaN   \n",
       "freq           NaN             NaN                   NaN   \n",
       "mean     49.547785             NaN            341.700764   \n",
       "std      18.757932             NaN            425.211439   \n",
       "min       6.000000             NaN              0.000000   \n",
       "25%      32.000000             NaN             98.750000   \n",
       "50%      50.000000             NaN            195.750000   \n",
       "75%      64.250000             NaN            383.200000   \n",
       "max     100.000000             NaN           2842.000000   \n",
       "\n",
       "       nutrition-score-fr_100g nutrition-score-uk_100g glycemic-index_100g  \\\n",
       "count            221210.000000           221210.000000                 0.0   \n",
       "unique                     NaN                     NaN                 NaN   \n",
       "top                        NaN                     NaN                 NaN   \n",
       "freq                       NaN                     NaN                 NaN   \n",
       "mean                  9.165535                9.058049                 NaN   \n",
       "std                   9.055903                9.183589                 NaN   \n",
       "min                 -15.000000              -15.000000                 NaN   \n",
       "25%                   1.000000                1.000000                 NaN   \n",
       "50%                  10.000000                9.000000                 NaN   \n",
       "75%                  16.000000               16.000000                 NaN   \n",
       "max                  40.000000               40.000000                 NaN   \n",
       "\n",
       "       water-hardness_100g  \n",
       "count                  0.0  \n",
       "unique                 NaN  \n",
       "top                    NaN  \n",
       "freq                   NaN  \n",
       "mean                   NaN  \n",
       "std                    NaN  \n",
       "min                    NaN  \n",
       "25%                    NaN  \n",
       "50%                    NaN  \n",
       "75%                    NaN  \n",
       "max                    NaN  \n",
       "\n",
       "[11 rows x 153 columns]"
      ],
      "text/html": "<div>\n<style scoped>\n    .dataframe tbody tr th:only-of-type {\n        vertical-align: middle;\n    }\n\n    .dataframe tbody tr th {\n        vertical-align: top;\n    }\n\n    .dataframe thead th {\n        text-align: right;\n    }\n</style>\n<table border=\"1\" class=\"dataframe\">\n  <thead>\n    <tr style=\"text-align: right;\">\n      <th></th>\n      <th>product_name</th>\n      <th>generic_name</th>\n      <th>quantity</th>\n      <th>packaging</th>\n      <th>packaging_tags</th>\n      <th>brands</th>\n      <th>brands_tags</th>\n      <th>categories</th>\n      <th>categories_tags</th>\n      <th>categories_fr</th>\n      <th>...</th>\n      <th>ph_100g</th>\n      <th>fruits-vegetables-nuts_100g</th>\n      <th>collagen-meat-protein-ratio_100g</th>\n      <th>cocoa_100g</th>\n      <th>chlorophyl_100g</th>\n      <th>carbon-footprint_100g</th>\n      <th>nutrition-score-fr_100g</th>\n      <th>nutrition-score-uk_100g</th>\n      <th>glycemic-index_100g</th>\n      <th>water-hardness_100g</th>\n    </tr>\n  </thead>\n  <tbody>\n    <tr>\n      <th>count</th>\n      <td>303010</td>\n      <td>52795</td>\n      <td>104819</td>\n      <td>78960</td>\n      <td>78961</td>\n      <td>292360</td>\n      <td>292352</td>\n      <td>84410</td>\n      <td>84389</td>\n      <td>84411</td>\n      <td>...</td>\n      <td>49.000000</td>\n      <td>3036.000000</td>\n      <td>165.000000</td>\n      <td>948.000000</td>\n      <td>0.0</td>\n      <td>268.000000</td>\n      <td>221210.000000</td>\n      <td>221210.000000</td>\n      <td>0.0</td>\n      <td>0.0</td>\n    </tr>\n    <tr>\n      <th>unique</th>\n      <td>221347</td>\n      <td>38584</td>\n      <td>13826</td>\n      <td>14547</td>\n      <td>12064</td>\n      <td>58784</td>\n      <td>50253</td>\n      <td>36982</td>\n      <td>21142</td>\n      <td>21152</td>\n      <td>...</td>\n      <td>NaN</td>\n      <td>NaN</td>\n      <td>NaN</td>\n      <td>NaN</td>\n      <td>NaN</td>\n      <td>NaN</td>\n      <td>NaN</td>\n      <td>NaN</td>\n      <td>NaN</td>\n      <td>NaN</td>\n    </tr>\n    <tr>\n      <th>top</th>\n      <td>Ice Cream</td>\n      <td>Pâtes alimentaires au blé dur de qualité supér...</td>\n      <td>500 g</td>\n      <td>Carton</td>\n      <td>sachet,plastique</td>\n      <td>Carrefour</td>\n      <td>carrefour</td>\n      <td>Snacks sucrés,Biscuits et gâteaux,Biscuits</td>\n      <td>en:sugary-snacks,en:biscuits-and-cakes,en:bisc...</td>\n      <td>Snacks sucrés,Biscuits et gâteaux,Biscuits</td>\n      <td>...</td>\n      <td>NaN</td>\n      <td>NaN</td>\n      <td>NaN</td>\n      <td>NaN</td>\n      <td>NaN</td>\n      <td>NaN</td>\n      <td>NaN</td>\n      <td>NaN</td>\n      <td>NaN</td>\n      <td>NaN</td>\n    </tr>\n    <tr>\n      <th>freq</th>\n      <td>410</td>\n      <td>201</td>\n      <td>4669</td>\n      <td>2153</td>\n      <td>3959</td>\n      <td>2978</td>\n      <td>3149</td>\n      <td>301</td>\n      <td>802</td>\n      <td>802</td>\n      <td>...</td>\n      <td>NaN</td>\n      <td>NaN</td>\n      <td>NaN</td>\n      <td>NaN</td>\n      <td>NaN</td>\n      <td>NaN</td>\n      <td>NaN</td>\n      <td>NaN</td>\n      <td>NaN</td>\n      <td>NaN</td>\n    </tr>\n    <tr>\n      <th>mean</th>\n      <td>NaN</td>\n      <td>NaN</td>\n      <td>NaN</td>\n      <td>NaN</td>\n      <td>NaN</td>\n      <td>NaN</td>\n      <td>NaN</td>\n      <td>NaN</td>\n      <td>NaN</td>\n      <td>NaN</td>\n      <td>...</td>\n      <td>6.425698</td>\n      <td>31.458587</td>\n      <td>15.412121</td>\n      <td>49.547785</td>\n      <td>NaN</td>\n      <td>341.700764</td>\n      <td>9.165535</td>\n      <td>9.058049</td>\n      <td>NaN</td>\n      <td>NaN</td>\n    </tr>\n    <tr>\n      <th>std</th>\n      <td>NaN</td>\n      <td>NaN</td>\n      <td>NaN</td>\n      <td>NaN</td>\n      <td>NaN</td>\n      <td>NaN</td>\n      <td>NaN</td>\n      <td>NaN</td>\n      <td>NaN</td>\n      <td>NaN</td>\n      <td>...</td>\n      <td>2.047841</td>\n      <td>31.967918</td>\n      <td>3.753028</td>\n      <td>18.757932</td>\n      <td>NaN</td>\n      <td>425.211439</td>\n      <td>9.055903</td>\n      <td>9.183589</td>\n      <td>NaN</td>\n      <td>NaN</td>\n    </tr>\n    <tr>\n      <th>min</th>\n      <td>NaN</td>\n      <td>NaN</td>\n      <td>NaN</td>\n      <td>NaN</td>\n      <td>NaN</td>\n      <td>NaN</td>\n      <td>NaN</td>\n      <td>NaN</td>\n      <td>NaN</td>\n      <td>NaN</td>\n      <td>...</td>\n      <td>0.000000</td>\n      <td>0.000000</td>\n      <td>8.000000</td>\n      <td>6.000000</td>\n      <td>NaN</td>\n      <td>0.000000</td>\n      <td>-15.000000</td>\n      <td>-15.000000</td>\n      <td>NaN</td>\n      <td>NaN</td>\n    </tr>\n    <tr>\n      <th>25%</th>\n      <td>NaN</td>\n      <td>NaN</td>\n      <td>NaN</td>\n      <td>NaN</td>\n      <td>NaN</td>\n      <td>NaN</td>\n      <td>NaN</td>\n      <td>NaN</td>\n      <td>NaN</td>\n      <td>NaN</td>\n      <td>...</td>\n      <td>6.300000</td>\n      <td>0.000000</td>\n      <td>12.000000</td>\n      <td>32.000000</td>\n      <td>NaN</td>\n      <td>98.750000</td>\n      <td>1.000000</td>\n      <td>1.000000</td>\n      <td>NaN</td>\n      <td>NaN</td>\n    </tr>\n    <tr>\n      <th>50%</th>\n      <td>NaN</td>\n      <td>NaN</td>\n      <td>NaN</td>\n      <td>NaN</td>\n      <td>NaN</td>\n      <td>NaN</td>\n      <td>NaN</td>\n      <td>NaN</td>\n      <td>NaN</td>\n      <td>NaN</td>\n      <td>...</td>\n      <td>7.200000</td>\n      <td>23.000000</td>\n      <td>15.000000</td>\n      <td>50.000000</td>\n      <td>NaN</td>\n      <td>195.750000</td>\n      <td>10.000000</td>\n      <td>9.000000</td>\n      <td>NaN</td>\n      <td>NaN</td>\n    </tr>\n    <tr>\n      <th>75%</th>\n      <td>NaN</td>\n      <td>NaN</td>\n      <td>NaN</td>\n      <td>NaN</td>\n      <td>NaN</td>\n      <td>NaN</td>\n      <td>NaN</td>\n      <td>NaN</td>\n      <td>NaN</td>\n      <td>NaN</td>\n      <td>...</td>\n      <td>7.400000</td>\n      <td>51.000000</td>\n      <td>15.000000</td>\n      <td>64.250000</td>\n      <td>NaN</td>\n      <td>383.200000</td>\n      <td>16.000000</td>\n      <td>16.000000</td>\n      <td>NaN</td>\n      <td>NaN</td>\n    </tr>\n    <tr>\n      <th>max</th>\n      <td>NaN</td>\n      <td>NaN</td>\n      <td>NaN</td>\n      <td>NaN</td>\n      <td>NaN</td>\n      <td>NaN</td>\n      <td>NaN</td>\n      <td>NaN</td>\n      <td>NaN</td>\n      <td>NaN</td>\n      <td>...</td>\n      <td>8.400000</td>\n      <td>100.000000</td>\n      <td>25.000000</td>\n      <td>100.000000</td>\n      <td>NaN</td>\n      <td>2842.000000</td>\n      <td>40.000000</td>\n      <td>40.000000</td>\n      <td>NaN</td>\n      <td>NaN</td>\n    </tr>\n  </tbody>\n</table>\n<p>11 rows × 153 columns</p>\n</div>"
     },
     "metadata": {},
     "execution_count": 20
    }
   ],
   "source": [
    "\n",
    "# Display statistical summary of each column\n",
    "raw_data.describe(include=\"all\")\n"
   ]
  },
  {
   "cell_type": "markdown",
   "metadata": {
    "id": "kH3N_9YdoGU3"
   },
   "source": [
    "Nous voyons que, pour chaque arbre listé, nous disposons des informations suivantes (la description des colonnes est disponible sur le site [OpenData](https://opendata.paris.fr/explore/dataset/les-arbres/information/)) :\n",
    "- `id` : simple identifiant de l'arbre (entier, ex. : `99874`)\n",
    "- `type_emplacement` : type de l'emplacement (texte, ex. : `\"Arbre\"`)\n",
    "- `domanialite` : type de lieu auquel appartient l'arbre (texte, ex. : `\"Jardin\"`)\n",
    "- `arrondissement` : arrondissement de Paris où est situé l'arbre (texte, ex. : `\"PARIS 7E ARRDT\"`)\n",
    "- `complement_addresse` : complement d'adress (texte, pas d'exemple visible)\n",
    "- `numero` : numéro de l'adress (texte, pas d'exemple visible)\n",
    "- `lieu` : adresse de l'arbre (texte, ex. : `\"MAIRIE DU 7E 116 RUE DE GRENELLE PARIS 7E\"`)\n",
    "- `id_emplacement` : identifiant de l'emplacement (texte, ex. : `\"19\"`)\n",
    "- `libelle_francais` : nom commun (vernaculaire) de l'espèce de l'arbre (texte, ex. : `\"Marronnier\"`)\n",
    "- `genre` : genre de l'arbre (texte, ex. : `\"Aesculus\"`)\n",
    "- `espece` : espèce de l'arbre (texte, ex. : `\"hippocastanum\"`)\n",
    "- `variete` : variété de l'arbre (texte, pas d'exemple visible)\n",
    "- `circonference_cm` : circonférence en centimètres de l'arbre (entier, ex. : `20`)\n",
    "- `hauteur_m` : taille en mètres de l'arbre (entier, ex. : `5`)\n",
    "- `stade_developpement` : stade de développement de l'arbre (texte, ex. : `\"A\"` pour \"Adulte\")\n",
    "- `remarquable` : si l'arbre est \"remarquable\" ou non (booléen, ex. : `0` pour un arbre \"non remarquable\")\n",
    "- `geo_point_2d_a` : latitude de la position de l'arbre (nombre à virgule, ex. : `48.857620`)\n",
    "- `geo_point_2d_b` : longitude de la position de l'arbre (nombre à virgule, ex. : `2.320962`)\n",
    "\n",
    "Nous voyons déjà que parmis les quelques premières données :\n",
    "- un certain certain nombre de valeurs ne sont pas fournies (`NaN` = \"Not a Number\" = donnée non disponible)\n",
    "- nous pouvons classer les variables selon leur type :\n",
    "    - quantitatives\n",
    "        - discrètes : `id`, `circonference_cm`, `hauteur_m`\n",
    "        - continues : `geo_point_2d_a`, `geo_point_2d_b`\n",
    "    - qualitatives\n",
    "        - nominales : `type_emplacement`, `domanialite`, `arrondissement`, `complement_addresse`, `numero`, `lieu`, `id_emplacement`, `libelle_francais`, `genre`, `espece`, `variete`\n",
    "        - ordinales : `stade_developpement`, `remarquable`\n",
    "- on peut aussi les classer en trois grandes catégories, d'après leur sens :\n",
    "    - métadonnées internes au système : `id`, `id_emplacement`, `type_emplacement`\n",
    "    - données de localisation : `arrondissement`, `complement_addresse`, `numero`, `lieu`, `geo_point_2d_a`, `geo_point_2d_b`\n",
    "    - données de description : \n",
    "        - taille : `circonference_cm`, `hauteur_m` et `stade_developpement`\n",
    "        - type : `libelle_francais`, `genre`, `espece` et `variete`\n",
    "        - autre : `remarquable`\n",
    "\n",
    "\n",
    "Nous allons observer plus précisément les types de valeurs et les valeurs vides :"
   ]
  },
  {
   "cell_type": "markdown",
   "metadata": {
    "id": "e1e63a7koGVF"
   },
   "source": [
    "Nous voyons ici que la plupart des arbres sont des platanes adultes.\n",
    "Cette information permet d'optimiser les achats et le stockage du materiel et des produits adaptés spécifiquement à l'entretien de ces arbres."
   ]
  },
  {
   "cell_type": "markdown",
   "metadata": {},
   "source": [
    "---\n",
    "\n",
    "_[Licence GPL-v3](https://github.com/fleuryc/oc_ingenieur-ia_P2-Participez-a-un-concours-sur-la-Smart-City/blob/main/LICENSE)_\n"
   ]
  }
 ],
 "metadata": {
  "colab": {
   "include_colab_link": true,
   "name": "main.ipynb",
   "provenance": []
  },
  "interpreter": {
   "hash": "a9cd86936e2ed79c88e354605985c1d2e1f30b04e4ab0c2ca683da4978857858"
  },
  "kernelspec": {
   "name": "python3",
   "display_name": "Python 3.9.5 64-bit ('env')"
  },
  "language_info": {
   "codemirror_mode": {
    "name": "ipython",
    "version": 3
   },
   "file_extension": ".py",
   "mimetype": "text/x-python",
   "name": "python",
   "nbconvert_exporter": "python",
   "pygments_lexer": "ipython3",
   "version": "3.9.5"
  },
  "metadata": {
   "interpreter": {
    "hash": "c90de28d937fea21fa0e8c0b21949a1a37ba0cff78a53465482821b458660fc2"
   }
  }
 },
 "nbformat": 4,
 "nbformat_minor": 4
}